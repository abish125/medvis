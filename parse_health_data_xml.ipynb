{
 "cells": [
  {
   "cell_type": "code",
   "execution_count": 7,
   "metadata": {
    "collapsed": false
   },
   "outputs": [
    {
     "name": "stdout",
     "output_type": "stream",
     "text": [
      "2016-12-05 20:59:19 -0800\n"
     ]
    }
   ],
   "source": [
    "import untangle\n",
    "obj = untangle.parse('export.xml')\n",
    "\n",
    "print obj.HealthData.Record[4]['endDate']\n"
   ]
  },
  {
   "cell_type": "code",
   "execution_count": 16,
   "metadata": {
    "collapsed": false
   },
   "outputs": [
    {
     "name": "stdout",
     "output_type": "stream",
     "text": [
      "[5.83333]\n",
      "[5.83333, 5.83333]\n",
      "[5.83333, 5.83333, 195.0]\n",
      "[5.83333, 5.83333, 195.0, 195.0]\n",
      "[5.83333, 5.83333, 195.0, 195.0, 67.0]\n",
      "[5.83333, 5.83333, 195.0, 195.0, 67.0, 65.0]\n",
      "[5.83333, 5.83333, 195.0, 195.0, 67.0, 65.0, 65.0]\n",
      "[5.83333, 5.83333, 195.0, 195.0, 67.0, 65.0, 65.0, 65.0]\n",
      "[5.83333, 5.83333, 195.0, 195.0, 67.0, 65.0, 65.0, 65.0, 67.0]\n",
      "[5.83333, 5.83333, 195.0, 195.0, 67.0, 65.0, 65.0, 65.0, 67.0, 65.0]\n",
      "[5.83333, 5.83333, 195.0, 195.0, 67.0, 65.0, 65.0, 65.0, 67.0, 65.0, 67.0]\n",
      "[5.83333, 5.83333, 195.0, 195.0, 67.0, 65.0, 65.0, 65.0, 67.0, 65.0, 67.0, 65.0]\n",
      "[5.83333, 5.83333, 195.0, 195.0, 67.0, 65.0, 65.0, 65.0, 67.0, 65.0, 67.0, 65.0, 65.0]\n",
      "[5.83333, 5.83333, 195.0, 195.0, 67.0, 65.0, 65.0, 65.0, 67.0, 65.0, 67.0, 65.0, 65.0, 65.0]\n",
      "[5.83333, 5.83333, 195.0, 195.0, 67.0, 65.0, 65.0, 65.0, 67.0, 65.0, 67.0, 65.0, 65.0, 65.0, 65.0]\n"
     ]
    }
   ],
   "source": [
    "import matplotlib\n",
    "matplotlib.use('Agg')\n",
    "import matplotlib.pyplot as plt\n",
    "import numpy\n",
    "p = [] \n",
    "for n in obj.HealthData.Record[0:15]:\n",
    "    p = p + [float(n['value'])]\n",
    "    print p\n",
    "plt.plot([1,2,3,4])\n",
    "plt.ylabel('some numbers')\n",
    "fig, ax = plt.subplots(1)\n",
    "ax.hist(p)\n",
    "fig.savefig('display.svg')"
   ]
  },
  {
   "cell_type": "code",
   "execution_count": null,
   "metadata": {
    "collapsed": true
   },
   "outputs": [],
   "source": []
  },
  {
   "cell_type": "code",
   "execution_count": null,
   "metadata": {
    "collapsed": true
   },
   "outputs": [],
   "source": []
  }
 ],
 "metadata": {
  "kernelspec": {
   "display_name": "Python 2",
   "language": "python",
   "name": "python2"
  },
  "language_info": {
   "codemirror_mode": {
    "name": "ipython",
    "version": 2
   },
   "file_extension": ".py",
   "mimetype": "text/x-python",
   "name": "python",
   "nbconvert_exporter": "python",
   "pygments_lexer": "ipython2",
   "version": "2.7.6"
  }
 },
 "nbformat": 4,
 "nbformat_minor": 1
}

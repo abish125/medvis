{
 "metadata": {
  "name": "",
  "signature": "sha256:9ca1b7a3f4ec2677a57b349b27cad876cb443b405919cc8bc708ca19aadc9bd7"
 },
 "nbformat": 3,
 "nbformat_minor": 0,
 "worksheets": [
  {
   "cells": [
    {
     "cell_type": "code",
     "collapsed": false,
     "input": [
      "specialty = [\"sub-specialty\",\"branch of medicine\",\"medical specialty\",\"specialty of surgery\"]\n",
      "\n",
      "bodypart = [\"organ\",\"organs\", \"in the human body\",\"of the human body\",\"an organ of\", \"part\", \"protuberance\",\n",
      "            \"area between\",\"bone\",\"artery\",\"in human anatomy\",\"in anatomy\"]\n",
      "\n",
      "finding = [\"feeling\", \"sensation\", \"touch\", \"symptom\", \"symptoms\"]\n",
      "\n",
      "treatment = [\"treat\",\"class of drugs\", ]\n",
      "\n",
      "condition = [\"infection\",\"disease\"]\n",
      "\n",
      "\n",
      "\n"
     ],
     "language": "python",
     "metadata": {},
     "outputs": []
    }
   ],
   "metadata": {}
  }
 ]
}
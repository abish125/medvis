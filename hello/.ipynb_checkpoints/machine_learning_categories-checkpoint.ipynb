{
 "metadata": {
  "name": "",
  "signature": "sha256:65b4d7ec74ffead64715aaff4648c954219f7731093fe391c927b432451bc474"
 },
 "nbformat": 3,
 "nbformat_minor": 0,
 "worksheets": [
  {
   "cells": [
    {
     "cell_type": "code",
     "collapsed": false,
     "input": [
      "targets = [] \n",
      "\n",
      "g = open(\"targets.txt\", \"r\")\n",
      "\n",
      "for r in g.readlines():\n",
      "    targets = targets + [r.strip()]\n",
      "    \n",
      "print targets"
     ],
     "language": "python",
     "metadata": {},
     "outputs": [
      {
       "output_type": "stream",
       "stream": "stdout",
       "text": [
        "['organ', 'organ', 'organ', 'organ', 'specialty', 'specialty', 'specialty', 'specialty', 'specialty', 'bodypart', 'bodypart', 'bodypart', 'bodypart', 'bodypart', 'bodypart', 'organ']\n"
       ]
      }
     ],
     "prompt_number": 26
    },
    {
     "cell_type": "code",
     "collapsed": false,
     "input": [
      "targets = targets + [\"organ\"]\n",
      "\n",
      "g = open(\"targets.txt\", \"w\")\n",
      "\n",
      "g.write(\"\\n\".join(targets))"
     ],
     "language": "python",
     "metadata": {},
     "outputs": [],
     "prompt_number": 23
    },
    {
     "cell_type": "code",
     "collapsed": false,
     "input": [
      "len(targets)\n",
      "targets"
     ],
     "language": "python",
     "metadata": {},
     "outputs": [
      {
       "metadata": {},
       "output_type": "pyout",
       "prompt_number": 25,
       "text": [
        "['organ',\n",
        " 'organ',\n",
        " 'organ',\n",
        " 'organ',\n",
        " 'specialty',\n",
        " 'specialty',\n",
        " 'specialty',\n",
        " 'specialty',\n",
        " 'specialty',\n",
        " 'bodypart',\n",
        " 'bodypart',\n",
        " 'bodypart',\n",
        " 'bodypart',\n",
        " 'bodypart',\n",
        " 'bodypart',\n",
        " 'organ']"
       ]
      }
     ],
     "prompt_number": 25
    },
    {
     "cell_type": "code",
     "collapsed": false,
     "input": [
      "f = open(\"words.txt\", \"r\")\n",
      "\n",
      "searches = [] \n",
      "\n",
      "for r in f.readlines():\n",
      "    searches = searches + [r.strip()]\n",
      "\n",
      "print searches"
     ],
     "language": "python",
     "metadata": {},
     "outputs": [
      {
       "output_type": "stream",
       "stream": "stdout",
       "text": [
        "['heart', 'lung', 'kidney', 'brain', 'cardiology', 'pulmonology', 'nephrology', 'neurology', 'anesthesiology', 'carpal tunnel', 'coronary artery', 'fingernail', 'elbow', 'shoulder', 'knee', 'stomach']\n"
       ]
      }
     ],
     "prompt_number": 15
    },
    {
     "cell_type": "code",
     "collapsed": false,
     "input": [
      "searches = searches + [\"stomach\"]\n",
      "\n",
      "f = open(\"words.txt\", \"w\")\n",
      "\n",
      "f.write(\"\\n\".join(searches))\n"
     ],
     "language": "python",
     "metadata": {},
     "outputs": [
      {
       "metadata": {},
       "output_type": "pyout",
       "prompt_number": 14,
       "text": [
        "['heart',\n",
        " 'lung',\n",
        " 'kidney',\n",
        " 'brain',\n",
        " 'cardiology',\n",
        " 'pulmonology',\n",
        " 'nephrology',\n",
        " 'neurology',\n",
        " 'anesthesiology',\n",
        " 'carpal tunnel',\n",
        " 'coronary artery',\n",
        " 'fingernail',\n",
        " 'elbow',\n",
        " 'shoulder',\n",
        " 'knee',\n",
        " 'stomach']"
       ]
      }
     ],
     "prompt_number": 14
    },
    {
     "cell_type": "code",
     "collapsed": false,
     "input": [],
     "language": "python",
     "metadata": {},
     "outputs": []
    }
   ],
   "metadata": {}
  }
 ]
}
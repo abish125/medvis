{
 "metadata": {
  "name": "",
  "signature": "sha256:1ed975e818bdf302ffb3eea7c30adfd858b753b7b4a83326a25a5d2632bf0a02"
 },
 "nbformat": 3,
 "nbformat_minor": 0,
 "worksheets": [
  {
   "cells": [
    {
     "cell_type": "code",
     "collapsed": false,
     "input": [
      "from sklearn.pipeline import Pipeline\n",
      "from sklearn.feature_extraction.text import CountVectorizer\n",
      "from sklearn.feature_extraction.text import TfidfTransformer\n",
      "from sklearn.naive_bayes import MultinomialNB\n",
      "from sklearn.linear_model import SGDClassifier\n",
      "\n",
      "import subprocess\n",
      "import os.path\n",
      "\n",
      "#call the uptodate thing for something\n",
      "initial_search = \"dyspnea\"\n",
      "web = \"uptodate\"\n",
      "cmd = ['casperjs search_' + web + '.js \\'' + initial_search + '\\'']\n",
      "text = \"\"\n",
      "text = subprocess.check_output(cmd, shell=True, stderr=subprocess.STDOUT)\n",
      "print text"
     ],
     "language": "python",
     "metadata": {},
     "outputs": [
      {
       "output_type": "stream",
       "stream": "stdout",
       "text": [
        "\n",
        "\t\t\tINTRODUCTION\u00a0\u2014\u00a0Dyspnea is a term used to characterize a subjective experience of breathing discomfort that is comprised of qualitatively distinct sensations that vary in intensity. The experience derives from interactions among multiple physiological, psychological, social, and environmental factors that may induce secondary physiological and behavioral responses [1]. Dyspnea, or breathlessness, encompasses multiple somatic perceptions that are variously described as air hunger, increased effort of breathing, chest tightness, rapid breathing, incomplete exhalation, or a feeling of suffocation. Dyspnea is a multidimensional symptom, consisting of affective as well as physical aspects. Its presence and severity cannot be inferred from physical examination or laboratory investigations \u2013 we must ask about it. It can occur in the absence of physical signs (eg, rapid, deep, or labored breathing) or abnormal findings on investigations such as blood gases or chest radiographs. Palliative care is an interdisciplinary medical specialty that focuses on preventing and relieving suffering and on supporting the best possible quality of life for patients and their families facing life-threatening or other serious illnesses. \u00a0The primary tenets of palliative care are symptom management; establishing goals of care that are in keeping with the patient\u2019s values and preferences; consistent and sustained communication between the patient and all those involved in his or her care; psychosocial, spiritual, and practical support both to patients and their family caregivers, and coordination across sites of care. Palliative care aims to relieve suffering in all stages of disease and is not limited to end of life care. Within an integrated model of medical care, palliative care is provided at the same time as curative or life-prolonging treatments. (See \"Benefits, services, and models of subspecialty palliative care\".) This topic focuses on the assessment and care of patients with advanced terminal illness who develop dyspnea. An approach to the diagnosis of dyspnea in adults and the management of specific causes of dyspnea are addressed elsewhere as is the management of cough, stridor, and hemoptysis in palliative care populations. (See \"Approach to the patient with dyspnea\" and \"Symptom-based management of amyotrophic lateral sclerosis\", section on 'Respiratory management' and \"Management of exacerbations of chronic obstructive pulmonary disease\" and \"Treatment of acute decompensated heart failure: General considerations\" and \"Treatment of acute decompensated heart failure: Components of therapy\" and \"Palliative care: Overview of cough, stridor, and hemoptysis\" and \"Palliative care for patients with advanced heart failure\".)OVERVIEWPrevalence\u00a0\u2014\u00a0Dyspnea is common in patients with advanced life-threatening illness of all types (table 1). It is one of the most common symptoms reported in patients with a terminal cancer in the last six months of life (figure 1). In a systematic review of the prevalence of 11 symptoms in patients with advanced illness from any of five diagnoses (cancer, AIDS, heart disease, chronic obstructive pulmonary disease [COPD] or renal disease), dyspnea was one of only three symptoms to be present in >50 percent of patients from all five groups [2]. Regardless of diagnosis, both the prevalence and severity of dyspnea tend to increase over time, particularly in the last six months of life [3,4]. Psychological and social impact\u00a0\u2014\u00a0Dyspnea is a major detriment to quality of life [5-7]. It has been identified as the most important variable influencing the will to live among terminally ill cancer patients [8] and the second most common reason to initiate palliative sedation [9,10]. Dyspneic patients frequently report social isolation as a consequence of reduced activity levels [11-13]. (See \"Overview of managing common non-pain symptoms in palliative care\", section on 'Palliative sedation'.)Prognostic significance\u00a0\u2014\u00a0Dyspnea is a symptom that is associated with shortened survival in a variety of diseases, particularly terminally ill cancer patients [3,14-19]. One study found that the presence of dyspnea was associated with a median survival of less than 30 days [16]. (See \"Survival estimates in advanced terminal cancer\", section on 'Clinical signs and symptoms'.)PATHOPHYSIOLOGY AND CAUSES OF DYSPNEA\u00a0\u2014\u00a0The neurophysiology of dyspnea is related to but distinct from the control of ventilation. (See \"Physiology of dyspnea\" and \"Control of ventilation\".) Dyspnea is the perception that the respiratory muscle response is inadequate or unsustainable. This perception arises from the sensory cortex, which integrates information from multiple sources including peripheral and central chemoreceptors, mechanoreceptors (arising from large airways, lung parenchyma and the chest wall) and respiratory motor centers (in the medulla as well as motor cortex). (See \"Physiology of dyspnea\".)Dyspnea may arise from increased ventilatory demand, impairment of the mechanical process of ventilation, or both. Specific causes and potential palliative interventions in this population are listed in the table (table 2). ASSESSMENT OF DYSPNEA\u00a0\u2014\u00a0The goals of a formal assessment of dyspnea in palliative care are to understand the intensity, distress, and functional impact of dyspnea, to diagnose potentially reversible contributing factors, and to monitor the response to interventions. Common causes of dyspnea in palliative care with potential palliative interventions are listed in the table (table 2). The evaluation of dyspnea depends on its acuity; general approaches to undiagnosed acute and chronic dyspnea are provided separately. (See \"Approach to the patient with dyspnea\".)Screening for dyspnea with a validated symptom assessment tool, such as the Memorial symptom assessment scale, short form (MSAS-SF, (figure 2)), or the Edmonton Symptom Assessment scale (table 3), is a first step in recognizing the presence of dyspnea, but not its specific characteristics. (See \"Approach to symptom assessment in palliative care\", section on 'Assessment and rating instruments for symptoms'.) There is no clinical \u201cgold-standard\u201d assessment tool, and no single instrument assesses concurrently for intensity (how severe is your dyspnea?), functional impact (how limiting is the dyspnea?) and distress (how bothersome is the dyspnea?) [20-22]. (See \"Approach to symptom assessment in palliative care\", section on 'Assessment and rating instruments for symptoms'.)Quality\u00a0\u2014\u00a0Patients employ a variety of terms to describe their sensation of breathlessness. Certain descriptors tend to cluster with certain diagnoses (eg, \u201cair hunger\u201d and \u201cfeeling of suffocation\u201d for heart failure versus \u201cincomplete exhalation\u201d and \u201cchest tightness\u201d for asthma [23]), suggesting that different disease processes, causing distinct pathophysiologic abnormalities, produce qualitatively distinguishable sensations [24,25]. Dyspnea questionnaires utilizing lists of descriptive phrases have shown some benefit in facilitating diagnosis in the clinical setting [26], but have not found widespread application, perhaps because many patients have multiple, concurrent physiologic abnormalities. (See \"Approach to the patient with dyspnea\", section on 'Language of dyspnea'.) Intensity\u00a0\u2014\u00a0The most widely used tools for measuring the intensity of dyspnea in the clinical setting are numeric rating scales (0 to 10) and visual analogue scales (0 to 100 mm). The modified Borg scale (table 4) [27] assigns verbal descriptors to numerical values between zero and ten and is a popular tool to assess the intensity of dyspnea in the research literature. Clinicians and family members should assess dyspnea by asking patients how short of breath they feel, rather than estimating their degree of dyspnea from the perceived degree of respiratory effort (eg, tachypnea, accessory muscle use). Occasionally patients who have moderate to severe tachypnea will not have dyspnea. In contrast, patients who are not tachypneic may report severe dyspnea. Functional impact\u00a0\u2014\u00a0Breathless patients inevitably reduce their activity level to accommodate dyspnea, so questions about limitations in performing specific activities can be used to assess the impact of dyspnea. The Oxygen Cost Diagram (figure 3) [28] asks patients to identify the level of activity they are unable to perform due to dyspnea, giving clinicians valuable information regarding the functional impact of the symptom.Distress caused by dyspnea\u00a0\u2014\u00a0The distress caused by a symptom arises not only from the symptom\u2019s intensity, but also from other factors such as the functional impact and meaning of that symptom for the patient (which can be influenced by personality type, past experiences, coping mechanisms, etc). Acute episodes of breathlessness are usually accompanied by feelings of anxiety, fear, and possibly panic [29,30]. Patients may express fear of dying during an acute episode or when waking in the middle of the night with intense air hunger [31,32]. (See \"Approach to the patient with dyspnea\", section on 'Evaluation of chronic dyspnea' and \"Approach to the patient with dyspnea\".)Scales are available that permit an assessment of the amount of distress caused by dyspnea [33-35]. One such instrument is depicted in the figure (figure 2). However, many palliative care patients are in acute or severe distress and cannot use scales as an assessment tool. Dyspnea and psychological factors\u00a0\u2014\u00a0People\u2019s perception of the intensity of breathlessness can be affected by psychological factors, such as anxiety and depression. In a number of studies, anxiety is significantly correlated with the intensity of dyspnea but the correlations are low and only explain 9 percent of the variance in the intensity of breathlessness [36-41]. Depression scores alone [36] and in combination [41] with anxiety scores are also significantly correlated with the intensity of dyspnea. One study found that depression, not anxiety, was significantly correlated in univariate and multivariate analysis with the effect of dyspnea on the person\u2019s activities of daily living [36]. However, the relative roles of depression and anxiety may depend on the duration and severity of dyspnea. One study found that patients had higher levels of anxiety during high or medium, as compared with lower levels of breathlessness [42]. This study supports the view that anxiety is probably a more prominent factor than depression during acute episodes of breathlessness. (See \"Psychosocial issues in advanced illness\", section on 'Anxiety' and \"Management of psychiatric disorders in patients with cancer\", section on 'Anxiety' and \"Generalized anxiety disorder: Epidemiology, pathogenesis, clinical manifestations, course, assessment, and diagnosis\" and \"Panic disorder: Epidemiology, pathogenesis, clinical manifestations, course, assessment, and diagnosis\".)Role of investigations\u00a0\u2014\u00a0Laboratory testing and imaging studies (pulse oximetry, arterial blood gases, chest x-rays, pulmonary function tests, etc) are not helpful in detecting the presence or severity of dyspnea. Such investigations can, however, help determine the cause of a patient\u2019s breathlessness and guide the choice of treatment interventions (table 2). (See \"Approach to the patient with dyspnea\".)MANAGEMENT\u00a0\u2014\u00a0The ultimate goal in treating any symptom is to reduce the distress it causes. Among patients receiving palliative care for advanced terminal illness, the causes of dyspnea are often untreatable. However, if a specific treatable cause of dyspnea is found (eg, bronchospasm, pulmonary emboli, upper airway obstruction, pleural effusion), specific treatment of that process may be appropriate depending on the invasiveness of the therapy and the patient\u2019s values and preferences (table 2). Management of these specific underlying causes of dyspnea is beyond the scope of this topic review and is covered in individual topic reviews. This section will focus on nonpharmacologic and pharmacologic treatments that are aimed directly at the symptom of breathlessness.Nonpharmacologic management\u00a0\u2014\u00a0A multidisciplinary approach to dyspnea that addresses various pathophysiological factors from symptom production to perception and interpretation of the symptom is outlined in the table (table 5). Nurses (education), physiotherapists (exercise therapy), respiratory therapists, occupational therapists (ergonomics and accommodation strategies), dieticians (to optimize nutrition), and psychologist/chaplains (to address symptom meaning) all have important roles to play [43,44]. General measures\u00a0\u2014\u00a0General supportive measures used to alleviate dyspnea include the following: \u25cfRelaxation techniques and psychosocial support [45].\u25cfModification in activity level and the use of bathroom aids and wheelchairs to increase the autonomy of patients and their families.\u25cfUse of a fan with cool air blowing on the face [46-49].\u25cfChest wall and intrapulmonary percussive vibration and mechanical insufflation-exsufflation devices can be helpful for patients who have difficulty mobilizing secretions [50]. Pulmonary rehabilitation and respiratory therapy\u00a0\u2014\u00a0There is good evidence to support relief of dyspnea by pulmonary rehabilitation [51,52], although most studies include primarily or exclusively patients with COPD. Pulmonary rehabilitation includes exercise training, psychosocial support, nutrition therapy, and self-management strategies, such as diaphragmatic and pursed lip breathing [53]. Pulmonary rehabilitation may also improve exercise tolerance and psychological parameters among patients with lung cancer, although results are preliminary [54]. Pulmonary rehabilitation may improve the affective and impact domains of dyspnea independent of physiological training effects [55,56]. Pulmonary rehabilitation might not be appropriate for patients with a short estimated life expectancy. (See \"Pulmonary rehabilitation in COPD\".) Oxygen\u00a0\u2014\u00a0Studies of supplemental oxygen for relief of dyspnea have shown mixed results in hypoxemic patients with cancer and severe lung disease. Widespread prescription of oxygen is not warranted for relief of dyspnea [57], even in the dying phase [58]. However, based upon moderate quality evidence, we suggest a therapeutic trial of oxygen supplementation for relief of dyspnea in hypoxemic patients. In contrast, no study has suggested benefit for non-hypoxemic patients, and use in this population is not recommended [59]. Our approach is consistent with evidence-based guidelines from the American College of Physicians (ACP), which recommend oxygen for short-term relief of hypoxemia in adults with dyspnea and serious illness at the end of life [60,61]. (See 'Recommendations of expert groups' below.)Most of the studies on supplemental oxygen for palliation of dyspnea in palliative care patients have been conducted in advanced cancer usually a mix of hypoxic and non-hypoxic patients (table 6). A systematic review of controlled trials of oxygen therapy for dyspnea in a mixture of hypoxemic and non-hypoxemic adults [62] included three trials conducted in patients with advanced cancer [63-65], three trials of patients with cardiac failure [66-68], and one of patients with kyphoscoliosis [69]. The authors concluded that there was no consistent benefit for oxygen over air inhalation for dyspnea due to end stage cancer or cardiac failure, although the number of trials was small. (See \"Approach to the patient with dyspnea\" and \"Long-term supplemental oxygen therapy\", section on 'Indications'.)However, even trials that have limited the intervention to hypoxemic patients have been mixed in their estimation of benefit from supplemental oxygen. Patients with hypoxemia\u00a0\u2014\u00a0Supplemental oxygen is a standard therapy for symptomatic management of patients who are hypoxemic on room air [60,70]. However, the presence of hypoxemia does not reliably predict symptomatic response from oxygen therapy [63,71]. Studies of supplemental oxygen for relief of dyspnea have shown mixed results in hypoxemic patients with cancer and severe lung disease:\u25cfTwo studies addressing the role of oxygen supplementation for dyspnea in hypoxemic patients with advanced cancer patients are summarized in the table (table 6). In one study, a single patient was administered oxygen or compressed air in a randomized and blinded fashion and repeatedly reported greater relief with oxygen [72]. In the second cross-over study of 14 terminally ill cancer patients with hypoxemic dyspnea, administration of oxygen at 5 L/min by face mask was associated with a significant improvement in a dyspnea visual analog scale compared with air treatment [65]. \u25cfTwo other cross-over studies in patients with advanced cancer included both hypoxemic and nonhypoxemic patients [63,71]. In one of the studies, similar degrees of improvement occurred with air and oxygen treatment; baseline oxygen saturation did not predict greater improvement with oxygen therapy [63]. In the other study, there was no difference between air and oxygen treatment in patient preference or in dyspnea, as measured by a visual analog scale (VAS); there was also no correlation between oxygen saturation and dyspnea score (VAS) [71]. \u25cfOf the three trials that have evaluated the short-term effects of supplemental oxygen therapy on breathlessness at rest in patients with advanced lung disease, two report significant improvement in dyspnea with oxygen therapy versus air flow through nasal cannula or mouthpiece [73,74], while a third did not [75]. The perceived benefit of oxygen therapy in terminally ill patients with dyspnea extends beyond its ability to reverse hypoxemia; some patients report lessened dyspnea despite unrelieved hypoxemia. Although there is a likely a placebo effect of oxygen and the medical symbolism inherent in its administration, there may be other reasons for this perceived benefit (table 7). Several studies support the hypothesis that stimulation of the trigeminal nerve (V2 branch) has a central inhibitory effect on dyspnea [46,75]. Thus, part of the effect of oxygen may be attributed to sensory stimulation, and, as noted above, might be duplicated by the application of cool moving air to the face. (See 'Nonpharmacologic management' above.)Non-hypoxemic patients\u00a0\u2014\u00a0In patients who are not hypoxemic, supplemental oxygen appears no more likely than room air to provide relief of dyspnea. Of the five studies that enrolled non-hypoxemic patients with advanced cancer (table 6), none showed a statistically significant benefit for oxygen supplementation [63-65,71,72,76,77]. As an example, a multinational, randomized trial of 239 patients found no difference between oxygen and room air via nasal cannulae for the treatment of refractory dyspnea in non-hypoxemic adult outpatients [76]. Noninvasive ventilation\u00a0\u2014\u00a0Noninvasive positive pressure ventilation (NPPV) refers to positive pressure ventilation that is delivered through a noninvasive interface (nasal mask, facemask, or nasal plugs), rather than an invasive interface (endotracheal tube, tracheostomy). NPPV can be delivered using a standard ventilator or a portable ventilator (eg, a pressure support ventilator that provides bilevel positive airway pressure [BPAP]). Clinical benefit has been most strongly demonstrated in acute respiratory acidosis in exacerbations of COPD, hypoxemia from cardiogenic pulmonary edema, hypoxemic respiratory failure in the immunocompromised host, and in patients with advanced neuromuscular disorders such as amyotrophic lateral sclerosis (ALS). (See \"Noninvasive positive pressure ventilation in acute respiratory failure in adults\" and \"Continuous noninvasive ventilatory support for patients with neuromuscular or chest wall disease\" and \"Symptom-based management of amyotrophic lateral sclerosis\", section on 'Noninvasive positive pressure ventilation'.)NPPV may be considered as a palliative measure in dying patients who have severe dyspnea and have decided to forego life-prolonging therapies and focus only on comfort measures [78,79]. In this setting, NPPV can be used with the intent of reducing the work of breathing, easing dyspnea, and helping to maintain wakefulness by reducing the amount of opioids needed to maintain comfort. NPPV can also be used to prolong life to meet a patient\u2019s short-term goals (eg, allowing time for the family to visit) while providing for a comfortable death [80]. Occasionally, NPPV may be used to manage an episode of acute, reversible respiratory failure in a patient who has an advanced serious and/or life-threatening illness and wishes to avoid invasive mechanical ventilation [81]. There is much variability in practice and attitudes regarding the use of NPPV at the end of life [82]. Limited data are available about the use of NPPV to alleviate dyspnea in this setting, its tolerability, and whether or not it is opioid-sparing [83]. The available data can be summarized as follows:\u25cfIn a randomized trial of 200 hospitalized patients with end-stage cancer and severe respiratory failure, NPPV was shown to improve dyspnea much faster than passive oxygen therapy [84]. In addition, the dose of morphine needed to control dyspnea was significantly less in the NPPV group. Further study is needed to assess outcomes such as survival, duration of mask tolerance, and quality of life.\u25cfObservational data show that among patients with \u201cdo not intubate\u201d orders and acute respiratory failure, the use of NPPV is associated with a 35 to 45 percent chance of survival to hospital discharge with higher survival rates for patients with COPD or heart failure as a cause of the respiratory failure than for those with cancer or pneumonia [85,86].In addition to questions as to its effectiveness in patients receiving end of life care, NPPV is noisy and can be uncomfortable and frightening. Patient tolerance of the face mask is crucial to the success of NPPV. Decreased mental status may be considered a contraindication to NPPV because of the risk of aspiration.The cost and experience needed to implement NPPV generally limit its initiation to the hospital setting, with some exceptions. While NPPV can be used at home or at a hospice facility, it requires adequate nursing, respiratory therapy, and physician support [87]. The use of NPPV in the palliative setting remains a controversial area of clinical practice [87,88]. If a trial of NPPV is being considered, it is essential to clearly establish in advance the goals of the intervention, a timeframe for reevaluation, and markers of success or lack thereof. Patients and families should understand that the dying process may be prolonged by the use of NPPV [87]. \u00a0Airway debulking and stents\u00a0\u2014\u00a0For patients with dyspnea due to central airway obstruction from a tumor, debulking of the tumor with endobronchial techniques, such as endoscopic laser, electrocautery, argon plasma coagulation, and cryotherapy, followed by placement of an airway stent may provide palliation [89,90]. One report described two patients with substantial improvement in dyspnea after stent placement, although survival was brief [91]. Metallic stents can be introduced via flexible bronchoscopy under conscious sedation. The role of endoscopic laser, electrocautery, and stent placement in managing central airway obstruction is discussed separately. (See \"Diagnosis and management of central airway obstruction\", section on 'Airway interventions'.)OtherHelium/oxygen \u2014 The lower density of helium/oxygen combinations (relative to nitrogen/oxygen) promotes laminar flow and enables greater alveolar ventilation at a given inspiratory pressure, thus diminishing the work of breathing. Helium/oxygen (HEO2, Heliox) is therefore a potentially attractive alternative for patients with dyspnea from partial airway obstruction, impaired ability to generate inspiratory pressure, or both. (See \"Physiology and clinical use of heliox\".)Studies in non-hypoxemic, exercising patients with either lung cancer [64] or COPD [92-94] have found that a Heliox is superior to room air for exercise tolerance and dyspnea. Due to the cost, uneven availability, and lack of experience with this therapy, the appropriate place for Heliox therapy in the symptomatic management of dyspnea remains unclear. \u00a0Acupuncture \u2014 Acupuncture has been examined as a potential therapy to reduce dyspnea with mixed results in retrospective series and small randomized trials [95-97]. In one trial, 68 patients with moderate-to-severe COPD were randomly assigned to acupuncture or a sham acupuncture group (placebo needling with a retractable blunt needle tip) once weekly for 12 weeks [97]. At the end of the trial, the Borg dyspnea score measured after a six minute walk (table 4) was significantly improved over baseline in the active acupuncture group, as was the secondary end-point of the six minute walk distance; no improvements were noted in the placebo group. While these benefits were modest, a trial of acupuncture may be a reasonable option for patients with COPD who are interested in trying this modality for amelioration of dyspnea. Further studies are needed before acupuncture can be recommended as a routine intervention for dyspnea control in terminally ill patients. (See \"Acupuncture\".)Pharmacologic managementOpioids\u00a0\u2014\u00a0Systemic administration of opioid agonists is the most well-established pharmacologic treatment strategy for the symptomatic management of dyspnea in patients with advanced illness. Guidelines for management of dyspnea from several expert groups, including the American College of Chest Physicians, the American College of Physicians, the American Thoracic Society (ATS), the Canadian Thoracic Society, and the National Comprehensive Cancer Network (NCCN) all recommend the use of systemic opioids for relief of dyspnea in patients with advanced terminal disease with appropriate caution regarding the risk of respiratory depression [53,60,70,98,99]. (See 'Recommendations of expert groups' below.) The efficacy of opioids to improve exercise-induced dyspnea is less clear. The authors of a 2014 systematic review concluded that current evidence does not support routine use of opioids to improve exercise tolerance [100].Opioid receptors are found centrally (in respiratory control centers in the medulla oblongata) and peripherally (in airways and lung parenchyma [101]). Most hypotheses of opioid action for dyspnea (table 8) focus on central pathways. Nebulized opioids, which might act peripherally, have also been studied, but the data are insufficient to support inhaled versus systemic opioids for relief of dyspnea.Systemic opioids\u00a0\u2014\u00a0Data from several randomized trials and at least four systematic reviews demonstrate the benefits of systemically administered opioids in treating breathlessness; most of these trials enrolled patients with nonmalignant disease [102-106]. Morphine is the most widely-studied drug, although codeine [107], dihydrocodeine [108-111], and diamorphine [112] have also been effective. The benefit of transmucosal or subcutaneous fentanyl is less clear; the available data are conflicting [113-115]. Relatively small doses of opioids may suffice [116]. A phase II dose increment study to determine the minimum effective daily dose of opioids for dyspnea improvement and the durability of benefit was conducted in 85 patients, approximately one-half with COPD [117]. Escalating doses of sustained-release morphine were administered, starting with 10 mg daily, and increasing by 10 mg a day to a maximum of 30 mg daily, if patients experienced less than a 10 percent reduction in dyspnea from their own baseline. For 70 percent of patients, the beneficial dose of sustained-release morphine was 10 mg daily, and the benefit at any dose was sustained for three months in 53 percent. \u00a0 The safety of opioids is relevant, given the potential for respiratory depression. Two systematic reviews and published case series identified 11 studies that examined the risk of respiratory depression during administration of systemic opioids for palliation of dyspnea [105,118-121]. Only two of these studies reported evidence of respiratory depression (as reflected by an increase in arterial tension of carbon dioxide [PaCO2]): one study of dihydrocodeine [110] identified an increase in PaCO2 (in no patient rising above 40 mmHg) while another noted an increase in PaCO2 at peak exercise up to 43.5 +/- 8.3 mm Hg (5.8 +/- 1.1 kPa) in patients receiving oral morphine [122]. No studies have found excess mortality associated with the use of opioids for dyspnea [104,123]. As with use of opioids for pain relief, nausea, constipation and drowsiness are common adverse effects. Careful monitoring and individual dose titration are vital. (See \"Cancer pain management with opioids: Prevention and management of side effects\" and \"Management of stable chronic obstructive pulmonary disease\", section on 'Palliative treatment of dyspnea'.) \u00a0Nebulized opioids\u00a0\u2014\u00a0Nebulized opioids have limited systemic absorption, leading to the hypothesis that they may relieve dyspnea with fewer adverse effects than systemic administration. However, at present, the data are insufficient to justify use of any opioid by the inhaled route for relief of dyspnea. Systemic administration of opioids remains the treatment of choice to control dyspnea in terminally ill patients.A number of case reports and small series found symptomatic relief of dyspnea with the administration of different types of nebulized opioids, including morphine and fentanyl [124-127]. However, placebo-controlled trials have consistently demonstrated a lack of effect of nebulized morphine for dyspnea [104,128,129]. The only publication directly comparing nebulized versus systemic morphine for the treatment of dyspnea was too small to draw meaningful conclusions [130]. A study of hydromorphone (nebulized or systemic) versus placebo, adequately powered to detect a \u201cmedium-large\u201d effect, found no difference between the three groups in dyspnea score 10 minutes posttreatment [106]. Nebulized fentanyl, which is lipophilic and thus more readily absorbed than morphine or hydromorphone, was superior to placebo for relief in dyspnea in patients with COPD in one small randomized trial [131].Promethazine\u00a0\u2014\u00a0While small studies suggest a potential role for promethazine in the treatment of dyspnea (off-label), a class effect of phenothiazines for dyspnea has not been established. A randomized, crossover trial involving 15 patients with COPD found promethazine superior to placebo for improvements in dyspnea score and exercise tolerance [132]. In a separate randomized, crossover trial of seven patients with COPD, four treatment regimens were compared: morphine, morphine plus promethazine, morphine plus prochlorperazine, and placebo [133]. While no differences were found among the treatments for dyspnea scores, morphine plus promethazine was statistically superior to placebo for exercise tolerance. In contrast, a small randomized trial of promethazine versus codeine showed a favorable trend in the 12 minute walking test and ratings of subjective dyspnea in 11 patients with chronic airflow obstruction; however, the difference failed to reach statistical significance [107]. Benzodiazepines\u00a0\u2014\u00a0Systematic reviews of a small number of trials have concluded that the evidence does not support a role for benzodiazepines as a routine management strategy for dyspnea in the absence of anxiety [105,134]. However, benzodiazepines are an important adjunct to therapy when anxiety, a common feature in dyspnea and especially severe dyspnea, is significant [135]. The management of anxiety in patients with cancer is discussed separately. (See \"Management of psychiatric disorders in patients with cancer\", section on 'Anxiety'.)Although the systematic review concluded a lack of benefit to benzodiazepines, suboptimal dosing may have contributed to a lack of benefit in some studies. In the only trial to support benefit from a benzodiazepine alone over opioids, 63 patients with advanced cancer and severe dyspnea (mean score >8.5 on a scale from 1 to 10) were randomly assigned to oral morphine (starting dose 3 mg) or oral midazolam (starting dose 2 mg) [136]. Doses were rapidly increased to an effective dose using a fast titration schedule over two hours, and patients were then followed daily for five days. Midazolam was superior to morphine in controlling both baseline and breakthrough dyspnea. The most common adverse event, which was not significantly more prevalent in either group, was mild somnolence which did not interfere with function. The short duration of observation and the severity of the dyspnea in this report raise questions as to the generalizability of the findings. Whether dyspnea is ameliorated by the addition of benzodiazepines to opioids remains uncertain. One trial evaluated morphine alone, midazolam alone, or morphine plus midazolam for the treatment dyspnea in terminally ill cancer inpatients; there was no placebo group [137]. Dyspnea scores among all groups were similar, but patients treated with midazolam in combination with morphine were more likely to report symptom relief and used fewer breakthrough doses than patients in the morphine group. The possibility that these beneficial effects were the result of midazolam\u2019s anxiolytic properties was not addressed. Bronchodilators\u00a0\u2014\u00a0A large proportion of patients with terminal cancer and dyspnea have a history of smoking or chronic obstructive pulmonary disease (COPD). Assessment and management of potentially reversible airway obstruction is appropriate in all dyspneic cancer patients. The importance of this was illustrated in a study, which found that almost one-half of 57 patients with lung cancer had evidence of airflow obstruction, but only four were receiving appropriate bronchodilator therapy [138]. Although the study was small and observational, among those subsequently treated with bronchodilator therapy, at least one-half had a substantial reduction in dyspnea. (See \"Overview of pulmonary function testing in adults\", section on 'Spirometry' and \"Management of exacerbations of chronic obstructive pulmonary disease\" and \"Management of stable chronic obstructive pulmonary disease\".)Diuretics\u00a0\u2014\u00a0Although there is a lack of firm evidence to support benefit, systemic administration of loop diuretics may be beneficial to reduce lung congestion in dyspneic patients with end stage heart failure or lymphangitic carcinomatosis. (See \"Palliative care for patients with advanced heart failure\".) There is insufficient evidence to recommend nebulized diuretics for the management of dyspnea in terminally ill patients. Nebulized furosemide was evaluated as a symptomatic treatment for dyspnea in advanced disease [139-142]. A small randomized trial comparing nebulized furosemide, saline, or no treatment in 15 patients with cancer and breathlessness failed to demonstrate a beneficial effect [143]. Glucocorticoids\u00a0\u2014\u00a0Glucocorticoids are not used for the palliation of dyspnea as a symptom. However, there are some settings in which they may effectively help to treat underlying causes of dyspnea: COPD exacerbations, tumor-related superior vena cava (SVC) syndrome in patients with glucocorticoid-responsive malignancies (eg, lymphoma, thymoma), tumor-related upper airway obstruction [144], radiation pneumonitis, chemotherapy-induced pneumonitis, and pulmonary lymphangitic carcinomatosis [145,146]. (See \"Malignancy-related superior vena cava syndrome\", section on 'Glucocorticoids' and \"Radiation-induced lung injury\", section on 'Glucocorticoids' and \"Pulmonary toxicity associated with systemic antineoplastic therapy: Clinical presentation, diagnosis, and treatment\", section on 'Glucocorticoids'.) \u00a0Palliative sedation\u00a0\u2014\u00a0Among patients at the end of life, dyspnea sometimes causes severe distress that cannot be relieved with standard measures. In such cases, the use of palliative sedation proportionate to relief of distress, including doses titrated to achieve unconsciousness if necessary, is an accepted strategy. Palliative sedation refers to use of a nonopioid drug to reduce a patient\u2019s awareness of refractory symptoms by decreasing their level of consciousness. Refractory symptoms are those that have been assessed and treated by an expert interdisciplinary team and have not responded to conventional symptom management. This subject is discussed in detail elsewhere. (See \"Palliative sedation\".) \u00a0RECOMMENDATIONS OF EXPERT GROUPS\u00a0\u2014\u00a0Guidelines for the treatment of dyspnea in patients with advanced life threatening disease are available from the American Thoracic Society (ATS) (table 9) [53,98], American College of Chest Physicians (ACCP) [70,147], American College of Physicians (ACP) [60], the Canadian Thoracic Society [99] and the National Comprehensive Cancer Network (NCCN). All recommend the use of systemic opioids for pharmacologic management of severe dyspnea.Guidelines from the ACCP, ACP, and NCCN recommend the use of supplemental oxygen for patients who are hypoxemic at rest or during minimal activity [60,70]. Guidelines from NCCN also support the use of temporary ventilatory support by NPPV if clinically indicated for a severe reversible condition, while the ATS guidelines on palliative care for patients with respiratory disease and critical illnesses suggest that NPPV may be appropriate when it is used for symptom relief in dying individuals [53]. INFORMATION FOR PATIENTS\u00a0\u2014\u00a0UpToDate offers two types of patient education materials, \u201cThe Basics\u201d and \u201cBeyond the Basics.\u201d The Basics patient education pieces are written in plain language, at the 5th to 6th grade reading level, and they answer the four or five key questions a patient might have about a given condition. These articles are best for patients who want a general overview and who prefer short, easy-to-read materials. Beyond the Basics patient education pieces are longer, more sophisticated, and more detailed. These articles are written at the 10th to 12th grade reading level and are best for patients who want in-depth information and are comfortable with some medical jargon.Here are the patient education articles that are relevant to this topic. We encourage you to print or e-mail these topics to your patients. (You can also locate patient education articles on a variety of subjects by searching on \u201cpatient info\u201d and the keyword(s) of interest.) \u25cfBasics topic (see \"Patient information: Medical care during advanced illness (The Basics)\" and \"Patient information: Advance directives (The Basics)\")SUMMARY AND RECOMMENDATIONSOverview\u25cfDyspnea is a subjective experience of breathing discomfort or breathlessness that often affects patients with advanced life-threatening illness of all types. (See 'Overview' above.)\u25cfThe goals of a formal assessment of dyspnea in palliative care are to understand the intensity, distress, and functional impact of dyspnea, to diagnose potentially reversible contributing factors, and to monitor the response to interventions. Laboratory and radiological investigations are not helpful in detecting the presence or severity of dyspnea, but they may be helpful in determining etiology (table 2). (See 'Assessment of dyspnea' above.)Nonpharmacologic interventions\u25cfNonpharmacologic interventions that may be of benefit include pulmonary rehabilitation (exercise training, breathing strategies such as pursed-lip breathing), ergonomics, and accommodation strategies, such as relaxation, modification of activity level, and use of a fan to blow air on the face. General steps to ameliorate the experience of dyspnea are listed in the table (table 5). (See 'Nonpharmacologic management' above.)\u25cfWe suggest a therapeutic trial of oxygen for short term relief of hypoxemia in patients who are hypoxemic at rest or with minimal exertion (Grade 2B). Oxygen has not been shown to relieve dyspnea in nonhypoxemic patients, and its use in this setting cannot be recommended. (See 'Oxygen' above.)\u25cfThe use of noninvasive positive pressure ventilation (NPPV) in dyspneic patients at the end of life remains controversial because it generally requires initiation in hospital and may be life prolonging without necessarily improving quality of life. NPPV may be a reasonable choice for patients who otherwise require sedating doses of opioids to control dyspnea but wish to be as awake as possible, and for dying patients who wish to forestall death briefly for a specific goal. Before such treatment is initiated, the goals, timeframe for re-evaluation, criteria for continuation, and plan for eventual withdrawal of NPPV should be discussed. (See 'Noninvasive ventilation' above.)Pharmacologic therapies\u25cfFor patients receiving palliative care who have distressing dyspnea, we recommend systemic opioids as the first-line agents (Grade 1A). Studies have not documented excess mortality associated with the use of opioids for dyspnea. However, careful monitoring and individual dose titration are vital to avoid respiratory depression and other side effects. (See 'Opioids' above.)\u25cfWe recommend against the routine use of nebulized opioids as compared to systemic opioid administration (Grade 1B), due to the lack of documented efficacy. (See 'Nebulized opioids' above.) \u25cfFor patients with dyspnea that is refractory to opiates or accompanied by anxiety, benzodiazepines may be a useful adjunctive therapy. However, for other patients, we suggest against the routine use of benzodiazepines in the palliative treatment of dyspnea (Grade 2B). (See 'Benzodiazepines' above.)   \u25cfThe benefit of promethazine alone or in combination with opioids remains uncertain, and no class effect has been established. Promethazine should be used only as a second line agent or in combination with an opioid when further opioid dose titration is contraindicated. (See 'Promethazine' above.)\u25cfBronchodilators, glucocorticoids, and diuretics may provide relief of dyspnea in certain clinical settings (table 2). (See 'Bronchodilators' above and 'Glucocorticoids' above and 'Diuretics' above.)\u25cfFor patients at the end of life with severe dyspnea that cannot be relieved with standard measures, the use of palliative sedation proportionate to relief of distress, including doses titrated to achieve unconsciousness if necessary, is an accepted strategy. The indications for palliative sedation and its implementation are discussed separately. (See 'Palliative sedation' above and \"Overview of managing common non-pain symptoms in palliative care\", section on 'Palliative sedation'.) \u00a0 \n",
        "\t\t\n",
        "\n"
       ]
      }
     ],
     "prompt_number": 1
    },
    {
     "cell_type": "code",
     "collapsed": false,
     "input": [
      "print text.split(\".\")[0]"
     ],
     "language": "python",
     "metadata": {},
     "outputs": [
      {
       "output_type": "stream",
       "stream": "stdout",
       "text": [
        "\n",
        "\t\t\tINTRODUCTION\u00a0\u2014\u00a0Dyspnea is a term used to characterize a subjective experience of breathing discomfort that is comprised of qualitatively distinct sensations that vary in intensity\n"
       ]
      }
     ],
     "prompt_number": 2
    },
    {
     "cell_type": "code",
     "collapsed": false,
     "input": [
      "from sklearn.pipeline import Pipeline\n",
      "from sklearn.feature_extraction.text import CountVectorizer\n",
      "from sklearn.feature_extraction.text import TfidfTransformer\n",
      "from sklearn.naive_bayes import MultinomialNB\n",
      "from sklearn.linear_model import SGDClassifier\n",
      "\n",
      "import subprocess\n",
      "import os.path\n",
      "\n",
      "import copy\n",
      "\n",
      "class Classifier:\n",
      "\n",
      "    def __init__(self, targ_source, w_source, web, conf_source, possible_targets):\n",
      "        self.targets = []\n",
      "        self.target_source = targ_source\n",
      "        self.word_source = w_source\n",
      "        self.conf_source = conf_source\n",
      "        #self.targ_f = open(self.target_source, \"r\")\n",
      "        #self.words_f = open(self.word_source, \"r\")\n",
      "        self.searches = [] \n",
      "        \n",
      "        self.text_clf = Pipeline([('vect', CountVectorizer()),('tfidf', TfidfTransformer()),('clf', SGDClassifier(loss='hinge', penalty='l2' ,alpha=1e-3, n_iter=5)),])\n",
      "        self.web = web\n",
      "        \n",
      "        self.results = []\n",
      "        \n",
      "        self.text = \"\"\n",
      "        \n",
      "        #self.conf_f = open(self.conf_source, 'r')\n",
      "        \n",
      "        #self.targ_g = open(self.target_source, \"w\")\n",
      "        #self.word_g = open(self.word_source, \"w\")\n",
      "        #self.conf_g = open(self.conf_source, \"w\")\n",
      "        \n",
      "        self.possible_targets = possible_targets\n",
      "        \n",
      "        '''self.targ_f = open(self.target_source, \"r\")\n",
      "        for r in self.targ_f.readlines():\n",
      "            self.targets = self.targets + [r.strip()]\n",
      "        self.targ_f.close()\n",
      "        \n",
      "        self.words_f = open(self.word_source, \"r\")\n",
      "        for r in self.words_f.readlines():\n",
      "            self.searches = self.searches + [r.strip()]\n",
      "        self.words_f.close()\n",
      "\n",
      "        for s in self.searches:\n",
      "            fname  = s + \"_\" + self.web + \".txt\"\n",
      "            if os.path.isfile(fname):\n",
      "                f = open(fname, 'r')\n",
      "                for r in f.readlines():\n",
      "                    self.text = self.text + r \n",
      "                f.close()\n",
      "            else:\n",
      "                f = open(fname, 'w')\n",
      "                self.cmd = ['casperjs search_' + self.web + '.js \\'' + s + '\\''] #, 'args']\n",
      "                self.text = subprocess.check_output(self.cmd, shell=True, stderr=subprocess.STDOUT)\n",
      "                f.write(self.text)\n",
      "                f.close()\n",
      "            self.results =  self.results + [self.text]\n",
      "            self.text=\"\"\n",
      "            '''\n",
      "\n",
      "        #self.text_clf = self.text_clf.fit(self.results, self.targets)\n",
      "        \n",
      "        \n",
      "    def start(self, words_type, words_info, targets_type, targets_info):\n",
      "        words_wait = False\n",
      "        if words_type == \"file\":\n",
      "            f = open(words_info,\"r\")\n",
      "            for r in f.readlines():\n",
      "                self.searches = self.searches + [r.strip()]\n",
      "            f.close()\n",
      "        elif words_type == \"list\":\n",
      "            self.searches = words_info\n",
      "        elif words_type == \"match_all\":\n",
      "            words_wait = True\n",
      "        if targets_type == \"file\":\n",
      "            f = open(targets_info, \"r\")\n",
      "            for r in f.readlines():\n",
      "                self.targets = self.targets + [r.strip()]\n",
      "            f.close()\n",
      "        elif targets_type == \"list\":\n",
      "            self.targets = targets_info\n",
      "        elif targets_type == \"match_all\":\n",
      "            if words_wait:\n",
      "                print \"cannot have both be match_all!\"\n",
      "            else:\n",
      "                self.targets = [targets_info]*len(self.searches)\n",
      "        if words_wait:\n",
      "            self.searches = [words_info]*len(self.targets)\n",
      "            \n",
      "        self.searches = self.searches + [\"the\"]\n",
      "        self.targets = self.targets + [\"no\"]\n",
      "            \n",
      "        for s in self.searches:\n",
      "            fname  = s + \"_\" + self.web + \".txt\"\n",
      "            if os.path.isfile(fname):\n",
      "                f = open(fname, 'r')\n",
      "                for r in f.readlines():\n",
      "                    self.text = self.text + r\n",
      "                f.close()\n",
      "            else:\n",
      "                f = open(fname, 'w')\n",
      "                self.cmd = ['casperjs search_' + self.web + '.js \\'' + s + '\\''] #, 'args']\n",
      "                self.text = subprocess.check_output(self.cmd, shell=True, stderr=subprocess.STDOUT)\n",
      "                f.write(self.text)\n",
      "                f.close()\n",
      "            self.results =  self.results + [self.text]\n",
      "            self.text=\"\"\n",
      "            \n",
      "        self.text_clf = self.text_clf.fit(self.results, self.targets)\n",
      "        \n",
      "    def add_terms(self, words_type, words_info, targets_type, targets_info):\n",
      "        how_many_added_searches = 0\n",
      "        how_many_added_results = 0\n",
      "        words_wait = False\n",
      "        if words_type == \"file\":\n",
      "            f = open(words_info,\"r\")\n",
      "            for r in f.readlines():\n",
      "                how_many_added_searches = how_many_added_searches + 1\n",
      "                self.searches = self.searches + [r.strip()]\n",
      "            f.close()\n",
      "            print fname\n",
      "        elif words_type == \"list\":\n",
      "            self.searches = words_info\n",
      "        elif words_type == \"match_all\":\n",
      "            words_wait = True\n",
      "            \n",
      "        for s in self.searches:\n",
      "            fname  = s.replace(\"/\",\"_\") + \"_\" + self.web + \".txt\"\n",
      "            if os.path.isfile(fname):\n",
      "                f = open(fname, 'r')\n",
      "                for r in f.readlines():\n",
      "                    self.text = self.text + r\n",
      "                f.close()\n",
      "                print fname\n",
      "            else:\n",
      "                f = open(fname, 'w')\n",
      "                self.cmd = ['casperjs search_' + self.web + '.js \\'' + s + '\\''] #, 'args']\n",
      "                self.text = subprocess.check_output(self.cmd, shell=True, stderr=subprocess.STDOUT)\n",
      "                f.write(self.text)\n",
      "                f.close()\n",
      "            how_many_added_results = how_many_added_results + 1\n",
      "            self.results =  self.results + [self.text]\n",
      "            \n",
      "        if targets_type == \"file\":\n",
      "            f = open(targets_info, \"r\")\n",
      "            for r in f.readlines():\n",
      "                how_many_added = how_many_added + 1\n",
      "                self.targets = self.targets + [r.strip()]\n",
      "            f.close()\n",
      "        elif targets_type == \"list\":\n",
      "            self.targets = targets_info\n",
      "        elif targets_type == \"match_all\":\n",
      "            if words_wait:\n",
      "                print \"cannot have both be match_all!\"\n",
      "            else:\n",
      "                self.targets = self.targets + [targets_info]*(len(self.results)-len(self.targets))\n",
      "        if words_wait:\n",
      "            self.searches = self.searches + [words_info]*how_many_added\n",
      "        \n",
      "        self.text_clf = self.text_clf.fit(self.results, self.targets)\n",
      "        \n",
      "        self.word_g = open(self.word_source, \"w\")\n",
      "        self.word_g.write(\"\\n\".join(self.searches))\n",
      "        self.word_g.close()\n",
      "                \n",
      "    def already_started(self):\n",
      "        self.targ_f = open(self.target_source, \"r\")\n",
      "        for r in self.targ_f.readlines():\n",
      "            self.targets = self.targets + [r.strip()]\n",
      "        self.targ_f.close()\n",
      "            \n",
      "        self.words_f = open(self.word_source, \"r\")\n",
      "        for r in self.words_f.readlines():\n",
      "            self.searches = self.searches + [r.strip()]\n",
      "        self.words_f.close()\n",
      "        \n",
      "        for s in self.searches:\n",
      "            fname  = s + \"_\" + self.web + \".txt\"\n",
      "            if os.path.isfile(fname):\n",
      "                f = open(fname, 'r')\n",
      "                for r in f.readlines():\n",
      "                    self.text = self.text + r\n",
      "                f.close()\n",
      "            else:\n",
      "                f = open(fname, 'w')\n",
      "                self.cmd = ['casperjs search_' + self.web + '.js \\'' + s + '\\''] #, 'args']\n",
      "                self.text = subprocess.check_output(self.cmd, shell=True, stderr=subprocess.STDOUT)\n",
      "                f.write(self.text)\n",
      "                f.close()\n",
      "            self.results =  self.results + [self.text]\n",
      "            self.text=\"\"\n",
      "\n",
      "        self.text_clf = self.text_clf.fit(self.results, self.targets)\n",
      "        \n",
      "    \n",
      "    def classify(self, new_search):\n",
      "        self.new_search = new_search\n",
      "        \n",
      "        previous_search = False\n",
      "        if self.new_search in self.searches:\n",
      "            previous_search = True\n",
      "            get_target = self.searches.index(self.new_search)\n",
      "            true_target = self.targets[get_target]\n",
      "        else:\n",
      "            self.cmd = ['casperjs search_' + self.web + '.js \\'' + self.new_search + '\\'']\n",
      "            self.new  = [subprocess.check_output(self.cmd, shell=True, stderr=subprocess.STDOUT)]\n",
      "\n",
      "            self.confidence = self.text_clf.decision_function(self.new)\n",
      "            self.predicted = self.text_clf.predict(self.new)\n",
      "\n",
      "            print self.new_search\n",
      "            print self.predicted[0]\n",
      "\n",
      "            self.confidences = []\n",
      "            self.target_answers = []\n",
      "            self.target_guesses = []\n",
      "            self.right_wrongs = []\n",
      "            \n",
      "            '''\n",
      "            if os.path.isfile(self.conf_source):\n",
      "                self.conf_f = open(self.conf_source, 'r')\n",
      "                for r in self.conf_f.readlines():\n",
      "                    self.target_guesses = self.target_guesses + [r.strip()]\n",
      "                    self.target_answers = self.target_answers + [r.strip()]\n",
      "                    self.right_wrongs = self.right_wrongs + [r.strip()]\n",
      "                    self.confidences = self.confidences + [r.strip()]\n",
      "                self.conf_f.close()\n",
      "            '''\n",
      "\n",
      "            #self.confidences = self.confidences + [str(max(self.confidence[0]))]\n",
      "            self.confidences = self.confidences + [str(self.confidence[0])]\n",
      "\n",
      "            self.got_it_right = False\n",
      "            \n",
      "\n",
      "            if self.good_enough(): #self.confidences[-1], self.target_answers[-1]):\n",
      "                got_it_right = True\n",
      "                print \"above confidence threshold, confidence was:\"\n",
      "                print self.confidences[-1]\n",
      "                self.searches = self.searches + [self.new_search]\n",
      "                self.targets = self.targets + [self.predicted[0]]\n",
      "                self.targ_g = open(self.target_source, \"w\")\n",
      "                self.targ_g.write(\"\\n\".join(self.targets))\n",
      "                self.targ_g.close()\n",
      "                self.word_g = open(self.word_source, \"w\")\n",
      "                self.word_g.write(\"\\n\".join(self.searches))\n",
      "                self.word_g.close()\n",
      "            else:\n",
      "                answer = input('Is that right? \"y\"/\"n\"  ')\n",
      "                if answer == \"y\":\n",
      "                    got_it_right = True\n",
      "                    print \"you answered yes\"\n",
      "                    self.searches = self.searches + [self.new_search]\n",
      "                    self.targets = self.targets + [self.predicted[0]]\n",
      "                    self.targ_g = open(self.target_source, \"w\")\n",
      "                    self.targ_g.write(\"\\n\".join(self.targets))\n",
      "                    self.targ_g.close()\n",
      "                    self.word_g = open(self.word_source, \"w\")\n",
      "                    self.word_g.write(\"\\n\".join(self.searches))\n",
      "                    self.word_g.close()\n",
      "                else:\n",
      "                    print \"you ansered no\"\n",
      "                    answer = input(\"what's the correct answer?  \")\n",
      "                    #need to change this to include self.possible_targets\n",
      "                    #also need to include figuring out the confidence rate that it should be\n",
      "                    if answer in self.possible_targets:\n",
      "                        self.searches = self.searches + [self.new_search]\n",
      "                        self.targets = self.targets + [answer]\n",
      "                        self.targ_g = open(self.target_source, \"w\")\n",
      "                        self.targ_g.write(\"\\n\".join(self.targets))\n",
      "                        self.targ_g.close()\n",
      "                        self.word_g = open(self.word_source, \"w\")\n",
      "                        self.word_g.write(\"\\n\".join(self.searches))\n",
      "                        self.word_g.close()\n",
      "                    else:\n",
      "                        print \"you did not answer\"\n",
      "                \n",
      "                self.right_wrongs = self.right_wrongs + [str(self.got_it_right)]\n",
      "                \n",
      "                '''conf_file_list = []\n",
      "                for i in range(len(self.confidences)):\n",
      "                    conf_file_list = conf_file_list + [self.target_guesses[i]] + [self.target_answers[i]] + [self.right_wrongs[i]] + [self.confidences[i]]\n",
      "                \n",
      "                self.conf_g = open(self.conf_source, 'w')\n",
      "                self.conf_g.write(\"\\n\".join(conf_file_list))\n",
      "                self.conf_g.close()'''\n",
      "            \n",
      "    def classify_many(self, sentence):\n",
      "        #so you can use self.classify here\n",
      "        #classify will call good_enough itself\n",
      "        words = sentence.split()\n",
      "        for w in words:\n",
      "            self.classify(w)\n",
      "            \n",
      "    def ask_many(self):\n",
      "        #this is so you can keep going forward with classifying without being held up on one word\n",
      "        print \"ask_many\"\n",
      "        \n",
      "    def good_enough(self): #, confidence, current_target):\n",
      "        return False\n",
      "        #self.target_guesses\n",
      "        #self.right_wrongs\n",
      "        #self.confidences\n",
      "        #need to make sure you have none that were wrong\n",
      "        #this will take target and return the number it needs to get to be good enough\n",
      "        \n",
      "    def last_ten_calculation(self, target_of_choice):\n",
      "        #this will calculate the last ten \"findings\" and see what number it needed to have to hit 8/10 of them\n",
      "        #then it can set a variable for that matching the possible targets or can return the value\n",
      "        print \"hello\"\n",
      "\n",
      "    def redo_old_confidences(self):\n",
      "        #needs to be called after self.already_started or self.start\n",
      "        \n",
      "        #I guess you need to run every search\n",
      "        \n",
      "        self.confidences = []\n",
      "        self.target_guesses = []\n",
      "        self.target_answers = []\n",
      "        self.right_wrongs = []\n",
      "        \n",
      "        text = \"\"\n",
      "        \n",
      "        #temp_list_r = copy.copy(self.results)\n",
      "        #temp_list_t = copy.copy(self.targets)\n",
      "        \n",
      "        for c in range(8,len(self.searches)):\n",
      "            #self.searches[c] is the new search\n",
      "            '''fname  = self.searches[c-1] + \"_\" + self.web + \".txt\"\n",
      "            f = open(fname, 'r')\n",
      "            for r in f.readlines():\n",
      "                text = text + r \n",
      "            f.close()\n",
      "            self.results =  self.results + [text]\n",
      "            text=\"\"'''\n",
      "            \n",
      "            #print self.results[c]\n",
      "            #print self.targets[c]\n",
      "            \n",
      "            #temp_list_r.remove(self.results[c])\n",
      "            #temp_list_t.remove(self.targets[c])\n",
      "            self.text_clf = Pipeline([('vect', CountVectorizer()),('tfidf', TfidfTransformer()),('clf', SGDClassifier(loss='hinge', penalty='l2' ,alpha=1e-3, n_iter=5)),])\n",
      "            \n",
      "            if \"no\" not in self.targets[:c-1]+self.targets[c+1:]:\n",
      "                self.results = self.results + [\"The only definite article in English is the word the, denoting person(s) or thing(s) already mentioned, under discussion, implied, or otherwise presumed familiar to the listener or reader. The is the most commonly used word in the English language, accounting for 7% of all words.\"]\n",
      "                self.targets = self.targets + [\"no\"]\n",
      "            \n",
      "            self.text_clf = self.text_clf.fit(self.results[:c-1]+self.results[c+1:], self.targets[:c-1]+self.targets[c+1:])\n",
      "            \n",
      "            self.confidence = self.text_clf.decision_function(self.searches[c])\n",
      "            #print self.targets[:c]\n",
      "            #print self.results[:c]\n",
      "            \n",
      "            #print self.confidence\n",
      "            \n",
      "            self.confidences = self.confidences + [str(self.confidence[0])]\n",
      "            \n",
      "            self.target_guesses = self.target_guesses + [self.text_clf.predict(self.searches[c])[0]]\n",
      "            self.target_answers = self.target_answers + [self.targets[c]]\n",
      "            \n",
      "            if self.target_answers[-1] == self.target_guesses[-1]:\n",
      "                self.right_wrongs = self.right_wrongs + [\"true\"]\n",
      "            else:\n",
      "                self.right_wrongs = self.right_wrongs + [\"false\"]\n",
      "                \n",
      "            #temp_list_r = copy.copy(self.results)\n",
      "            #temp_list_t = copy.copy(self.targets)\n",
      "            \n",
      "        right_sum = 0\n",
      "        right_counter = 0\n",
      "        wrong_sum = 0\n",
      "        wrong_counter = 0\n",
      "        conf_file_list = []\n",
      "        for i in range(len(self.confidences)):\n",
      "            conf_file_list = conf_file_list + [self.target_guesses[i]] + [self.target_answers[i]] + [self.right_wrongs[i]] + [self.confidences[i]]\n",
      "            if self.right_wrongs[i] == \"true\":\n",
      "                print True\n",
      "                sc = self.confidences[i].replace(\"[\",\"\").replace(\"]\",\"\").split()\n",
      "                print max(sc)\n",
      "                print self.target_guesses[i]\n",
      "                print self.target_answers[i]\n",
      "                right_counter = right_counter +1\n",
      "                print \"\\n\"\n",
      "                #right_sum = right_sum + float(self.confidences[i])\n",
      "            #else:\n",
      "                #print False\n",
      "                #print self.confidences[i]\n",
      "                #print self.target_guesses[i]\n",
      "                #print self.target_answers[i]\n",
      "                #wrong_counter = wrong_counter + 1\n",
      "                #print \"\\n\"\n",
      "                #wrong_sum = wrong_sum + float(self.confidences[i])\n",
      "        #print right_sum/right_counter\n",
      "        #print wrong_sum/wrong_counter\n",
      "        \n",
      "        #print right_counter\n",
      "        #print wrong_counter\n",
      "        \n",
      "        #print conf_file_list\n",
      "        \n",
      "        self.conf_g = open(self.conf_source, 'w')\n",
      "        self.conf_g.write(\"\\n\".join(conf_file_list))\n",
      "        self.conf_g.close()"
     ],
     "language": "python",
     "metadata": {},
     "outputs": []
    },
    {
     "cell_type": "code",
     "collapsed": false,
     "input": [
      "c = Classifier(\"targets.txt\", \"words.txt\",\"wikipedia\", \"confidence.txt\", [\"bodypart\",\"specialty\",\"treatment\",\"finding\",\"condition\"])\n",
      "#c.already_started()\n",
      "c.redo_old_confidences()"
     ],
     "language": "python",
     "metadata": {},
     "outputs": [],
     "prompt_number": 147
    },
    {
     "cell_type": "code",
     "collapsed": false,
     "input": [
      "import re\n",
      "pattern=re.compile(\"[^\\w']\")\n",
      "sent = pattern.sub(' ', text.split(\".\")[0])\n"
     ],
     "language": "python",
     "metadata": {},
     "outputs": [
      {
       "metadata": {},
       "output_type": "pyout",
       "prompt_number": 31,
       "text": [
        "'    INTRODUCTION       Dyspnea is a term used to characterize a subjective experience of breathing discomfort that is comprised of qualitatively distinct sensations that vary in intensity'"
       ]
      }
     ],
     "prompt_number": 31
    },
    {
     "cell_type": "code",
     "collapsed": false,
     "input": [],
     "language": "python",
     "metadata": {},
     "outputs": []
    },
    {
     "cell_type": "code",
     "collapsed": false,
     "input": [
      "import re\n",
      "pattern=re.compile(\"[^\\w']\")\n",
      "sent = pattern.sub(' ', text.split(\".\")[0])\n",
      "\n",
      "c = Classifier(\"med_targets.txt\", \"med_words.txt\",\"wikipedia\", \"med_conf.txt\", [\"yes\",\"no\"])\n",
      "c.start(\"file\", \"words.txt\", \"match_all\", \"yes\")\n",
      "#c.classify_many(\"chest pain is a symptom of myocardial infarction\")\n",
      "#c.redo_old_confidences()"
     ],
     "language": "python",
     "metadata": {},
     "outputs": []
    },
    {
     "cell_type": "code",
     "collapsed": false,
     "input": [
      "c.add_terms(\"file\", \"most_common_english_words.txt\", \"match_all\", \"no\")"
     ],
     "language": "python",
     "metadata": {},
     "outputs": [
      {
       "output_type": "stream",
       "stream": "stdout",
       "text": [
        "sepsis_wikipedia.txt\n",
        "pain_wikipedia.txt\n",
        "nitroglycerine_wikipedia.txt\n",
        "heart_wikipedia.txt\n",
        "cardiology_wikipedia.txt\n",
        "managed_wikipedia.txt\n",
        "managed_wikipedia.txt\n",
        "takotsubo_wikipedia.txt\n",
        "embolism_wikipedia.txt\n",
        "arrhythmias_wikipedia.txt\n",
        "nitroglycerin_wikipedia.txt\n",
        "smoking_wikipedia.txt\n",
        "hyperoxia_wikipedia.txt\n",
        "sulfate_wikipedia.txt\n",
        "intensive_wikipedia.txt\n",
        "REVASCULARIZATION_wikipedia.txt\n",
        "urinary_wikipedia.txt\n",
        "influenza_wikipedia.txt\n",
        "systematic_wikipedia.txt\n",
        "embolism_wikipedia.txt\n",
        "pneumoniae_wikipedia.txt\n",
        "dermatology_wikipedia.txt\n",
        "pulmonary embolism_wikipedia.txt\n",
        "cardiology_wikipedia.txt\n",
        "rheumatology_wikipedia.txt\n",
        "pulmonology_wikipedia.txt\n",
        "hematology_wikipedia.txt\n",
        "surgery_wikipedia.txt\n",
        "neurosurgery_wikipedia.txt\n",
        "gastroenterology_wikipedia.txt\n",
        "ophthalmology_wikipedia.txt\n",
        "radiology_wikipedia.txt\n",
        "pain_wikipedia.txt\n",
        "chest pain_wikipedia.txt\n",
        "dyspnea_wikipedia.txt\n",
        "murmur_wikipedia.txt\n",
        "myocardial infarction_wikipedia.txt\n",
        "metoprolol_wikipedia.txt\n",
        "prednisone_wikipedia.txt\n",
        "omeprazole_wikipedia.txt\n",
        "abdominal pain_wikipedia.txt\n",
        "numbness_wikipedia.txt\n",
        "diarrhea_wikipedia.txt\n",
        "constipation_wikipedia.txt\n",
        "vomiting_wikipedia.txt\n",
        "otorhinolaryngology_wikipedia.txt\n",
        "nose bleed_wikipedia.txt\n",
        "anesthesiology_wikipedia.txt\n",
        "oncology_wikipedia.txt\n",
        "pneumonia_wikipedia.txt\n",
        "migraine_wikipedia.txt\n",
        "head_wikipedia.txt\n",
        "neck_wikipedia.txt\n",
        "shoulder_wikipedia.txt\n",
        "chest_wikipedia.txt\n",
        "humerus_wikipedia.txt\n",
        "radius_wikipedia.txt\n",
        "ulna_wikipedia.txt\n",
        "femur_wikipedia.txt\n",
        "tibia_wikipedia.txt\n",
        "fibula_wikipedia.txt\n",
        "pancreas_wikipedia.txt\n",
        "heart_wikipedia.txt\n",
        "urology_wikipedia.txt\n",
        "nausea_wikipedia.txt\n",
        "headache_wikipedia.txt\n",
        "tingling_wikipedia.txt\n",
        "Clopidogrel_wikipedia.txt\n",
        "aspirin_wikipedia.txt\n",
        "jaundice_wikipedia.txt\n",
        "jugular venous distension_wikipedia.txt\n",
        "wheezing_wikipedia.txt\n",
        "asthma_wikipedia.txt\n",
        "COPD_wikipedia.txt\n",
        "CABG_wikipedia.txt\n",
        "Coronary artery disease_wikipedia.txt\n",
        "statin_wikipedia.txt\n",
        "liver_wikipedia.txt\n",
        "Tuberculosis_wikipedia.txt\n",
        "Gastroenteritis_wikipedia.txt\n",
        "Aortic dissection_wikipedia.txt\n",
        "beta blocker_wikipedia.txt\n",
        "amlodipine_wikipedia.txt\n",
        "Tissue plasminogen activator_wikipedia.txt\n",
        "weight loss_wikipedia.txt\n",
        "trazadone_wikipedia.txt\n",
        "tramadol_wikipedia.txt\n",
        "morphine_wikipedia.txt\n",
        "Hydromorphone_wikipedia.txt\n",
        "Codeine_wikipedia.txt\n",
        "pneumothorax_wikipedia.txt\n",
        "cardiac tamponade_wikipedia.txt\n",
        "propofol_wikipedia.txt\n",
        "adenosine_wikipedia.txt\n",
        "epinephrine_wikipedia.txt\n",
        "phenylephrine_wikipedia.txt\n",
        "Endocrinology_wikipedia.txt\n",
        "diabetes_wikipedia.txt\n",
        "neurology_wikipedia.txt\n",
        "pathology_wikipedia.txt\n",
        "nephrology_wikipedia.txt\n",
        "cancer_wikipedia.txt\n",
        "foot_wikipedia.txt\n",
        "hand_wikipedia.txt\n",
        "finger_wikipedia.txt\n",
        "hypertension_wikipedia.txt\n",
        "hyperlipidemia_wikipedia.txt\n",
        "kidney_wikipedia.txt\n",
        "crackles_wikipedia.txt\n",
        "rhonchi_wikipedia.txt\n",
        "rales_wikipedia.txt\n",
        "Crepitus_wikipedia.txt\n",
        "congestive heart failure_wikipedia.txt\n",
        "ACE inhibitor_wikipedia.txt\n",
        "lisinopril_wikipedia.txt\n",
        "losartan_wikipedia.txt\n",
        "ear_wikipedia.txt\n",
        "atenolol_wikipedia.txt\n",
        "vascular surgery_wikipedia.txt\n",
        "Tamsulosin_wikipedia.txt\n",
        "alpha blockers_wikipedia.txt\n",
        "Knee pain_wikipedia.txt\n",
        "Patellofemoral pain syndrome_wikipedia.txt\n",
        "NSAIDs_wikipedia.txt\n",
        "gout_wikipedia.txt\n",
        "swollen_wikipedia.txt\n",
        "Inflammation_wikipedia.txt\n",
        "Hypernatremia_wikipedia.txt\n",
        "blurry vision_wikipedia.txt\n",
        "glaucoma_wikipedia.txt\n",
        "Diplopia_wikipedia.txt\n",
        "Lymphadenopathy_wikipedia.txt\n",
        "rash_wikipedia.txt\n",
        "lupus_wikipedia.txt\n",
        "papule_wikipedia.txt\n",
        "macule_wikipedia.txt\n",
        "macule_wikipedia.txt\n",
        "patch_wikipedia.txt\n",
        "Rosuvastatin_wikipedia.txt\n",
        "lisinopril_wikipedia.txt\n",
        "bosentan_wikipedia.txt\n",
        "mitral valve_wikipedia.txt\n",
        "mitral regurgitation_wikipedia.txt\n",
        "sle_wikipedia.txt\n",
        "digoxin_wikipedia.txt\n",
        "iritis_wikipedia.txt\n",
        "tears_wikipedia.txt\n",
        "ventricular tachycardia_wikipedia.txt\n",
        "coronary sinus_wikipedia.txt\n",
        "AV node_wikipedia.txt\n",
        "ingrown toenail_wikipedia.txt\n",
        "syncope_wikipedia.txt\n",
        "amiodarone_wikipedia.txt\n",
        "the_wikipedia.txt\n",
        "the_wikipedia.txt\n",
        "be_wikipedia.txt"
       ]
      },
      {
       "output_type": "stream",
       "stream": "stdout",
       "text": [
        "\n",
        "and_wikipedia.txt\n",
        "was_wikipedia.txt"
       ]
      },
      {
       "output_type": "stream",
       "stream": "stdout",
       "text": [
        "\n",
        "of_wikipedia.txt\n",
        "a_wikipedia.txt"
       ]
      },
      {
       "output_type": "stream",
       "stream": "stdout",
       "text": [
        "\n",
        "in_wikipedia.txt\n",
        "to_wikipedia.txt"
       ]
      },
      {
       "output_type": "stream",
       "stream": "stdout",
       "text": [
        "\n",
        "have_wikipedia.txt"
       ]
      },
      {
       "output_type": "stream",
       "stream": "stdout",
       "text": [
        "\n",
        "to_wikipedia.txt\n",
        "has_wikipedia.txt"
       ]
      },
      {
       "output_type": "stream",
       "stream": "stdout",
       "text": [
        "\n",
        "been_wikipedia.txt"
       ]
      },
      {
       "output_type": "stream",
       "stream": "stdout",
       "text": [
        "\n",
        "is_wikipedia.txt"
       ]
      },
      {
       "output_type": "stream",
       "stream": "stdout",
       "text": [
        "\n",
        "it_wikipedia.txt\n",
        "I_wikipedia.txt"
       ]
      },
      {
       "output_type": "stream",
       "stream": "stdout",
       "text": [
        "\n",
        "doing_wikipedia.txt\n",
        "days_wikipedia.txt"
       ]
      },
      {
       "output_type": "stream",
       "stream": "stdout",
       "text": [
        "\n",
        "states_wikipedia.txt"
       ]
      },
      {
       "output_type": "stream",
       "stream": "stdout",
       "text": [
        "\n",
        "feels_wikipedia.txt"
       ]
      },
      {
       "output_type": "stream",
       "stream": "stdout",
       "text": [
        "\n",
        "seen_wikipedia.txt"
       ]
      },
      {
       "output_type": "stream",
       "stream": "stdout",
       "text": [
        "\n",
        "an_wikipedia.txt"
       ]
      },
      {
       "output_type": "stream",
       "stream": "stdout",
       "text": [
        "\n",
        "that_wikipedia.txt"
       ]
      },
      {
       "output_type": "stream",
       "stream": "stdout",
       "text": [
        "\n",
        "for_wikipedia.txt"
       ]
      },
      {
       "output_type": "stream",
       "stream": "stdout",
       "text": [
        "\n",
        "you_wikipedia.txt\n",
        "he_wikipedia.txt"
       ]
      },
      {
       "output_type": "stream",
       "stream": "stdout",
       "text": [
        "\n",
        "with_wikipedia.txt\n",
        "on_wikipedia.txt"
       ]
      },
      {
       "output_type": "stream",
       "stream": "stdout",
       "text": [
        "\n",
        "do_wikipedia.txt"
       ]
      },
      {
       "output_type": "stream",
       "stream": "stdout",
       "text": [
        "\n",
        "say_wikipedia.txt\n",
        "this_wikipedia.txt"
       ]
      },
      {
       "output_type": "stream",
       "stream": "stdout",
       "text": [
        "\n",
        "they_wikipedia.txt\n",
        "at_wikipedia.txt"
       ]
      },
      {
       "output_type": "stream",
       "stream": "stdout",
       "text": [
        "\n",
        "but_wikipedia.txt\n",
        "we_wikipedia.txt"
       ]
      },
      {
       "output_type": "stream",
       "stream": "stdout",
       "text": [
        "\n",
        "his_wikipedia.txt\n",
        "from_wikipedia.txt"
       ]
      },
      {
       "output_type": "stream",
       "stream": "stdout",
       "text": [
        "\n",
        "that_wikipedia.txt\n",
        "not_wikipedia.txt\n",
        "by_wikipedia.txt"
       ]
      },
      {
       "output_type": "stream",
       "stream": "stdout",
       "text": [
        "\n",
        "she_wikipedia.txt\n",
        "or_wikipedia.txt"
       ]
      },
      {
       "output_type": "stream",
       "stream": "stdout",
       "text": [
        "\n",
        "as_wikipedia.txt"
       ]
      },
      {
       "output_type": "stream",
       "stream": "stdout",
       "text": [
        "\n",
        "what_wikipedia.txt"
       ]
      },
      {
       "output_type": "stream",
       "stream": "stdout",
       "text": [
        "\n",
        "go_wikipedia.txt"
       ]
      },
      {
       "output_type": "stream",
       "stream": "stdout",
       "text": [
        "\n",
        "their_wikipedia.txt"
       ]
      },
      {
       "output_type": "stream",
       "stream": "stdout",
       "text": [
        "\n",
        "can_wikipedia.txt\n",
        "who_wikipedia.txt"
       ]
      },
      {
       "output_type": "stream",
       "stream": "stdout",
       "text": [
        "\n",
        "get_wikipedia.txt\n",
        "if_wikipedia.txt\n",
        "would_wikipedia.txt"
       ]
      },
      {
       "output_type": "stream",
       "stream": "stdout",
       "text": [
        "\n",
        "her_wikipedia.txt"
       ]
      },
      {
       "output_type": "stream",
       "stream": "stdout",
       "text": [
        "\n",
        "all_wikipedia.txt"
       ]
      },
      {
       "output_type": "stream",
       "stream": "stdout",
       "text": [
        "\n",
        "my_wikipedia.txt\n",
        "make_wikipedia.txt\n",
        "about_wikipedia.txt"
       ]
      },
      {
       "output_type": "stream",
       "stream": "stdout",
       "text": [
        "\n",
        "know_wikipedia.txt\n",
        "will_wikipedia.txt\n",
        "as_wikipedia.txt\n",
        "up_wikipedia.txt"
       ]
      },
      {
       "output_type": "stream",
       "stream": "stdout",
       "text": [
        "\n",
        "one_wikipedia.txt\n",
        "time_wikipedia.txt\n",
        "there_wikipedia.txt"
       ]
      },
      {
       "output_type": "stream",
       "stream": "stdout",
       "text": [
        "\n",
        "year_wikipedia.txt\n",
        "so_wikipedia.txt\n",
        "think_wikipedia.txt"
       ]
      },
      {
       "output_type": "stream",
       "stream": "stdout",
       "text": [
        "\n",
        "when_wikipedia.txt\n",
        "which_wikipedia.txt"
       ]
      },
      {
       "output_type": "stream",
       "stream": "stdout",
       "text": [
        "\n",
        "them_wikipedia.txt\n",
        "some_wikipedia.txt"
       ]
      },
      {
       "output_type": "stream",
       "stream": "stdout",
       "text": [
        "\n",
        "me_wikipedia.txt"
       ]
      },
      {
       "output_type": "stream",
       "stream": "stdout",
       "text": [
        "\n",
        "people_wikipedia.txt\n",
        "take_wikipedia.txt"
       ]
      },
      {
       "output_type": "stream",
       "stream": "stdout",
       "text": [
        "\n",
        "out_wikipedia.txt\n",
        "into_wikipedia.txt"
       ]
      },
      {
       "output_type": "stream",
       "stream": "stdout",
       "text": [
        "\n",
        "just_wikipedia.txt"
       ]
      },
      {
       "output_type": "stream",
       "stream": "stdout",
       "text": [
        "\n",
        "see_wikipedia.txt\n",
        "him_wikipedia.txt"
       ]
      },
      {
       "output_type": "stream",
       "stream": "stdout",
       "text": [
        "\n",
        "your_wikipedia.txt"
       ]
      },
      {
       "output_type": "stream",
       "stream": "stdout",
       "text": [
        "\n",
        "come_wikipedia.txt\n",
        "could_wikipedia.txt"
       ]
      },
      {
       "output_type": "stream",
       "stream": "stdout",
       "text": [
        "\n",
        "now_wikipedia.txt\n",
        "than_wikipedia.txt"
       ]
      },
      {
       "output_type": "stream",
       "stream": "stdout",
       "text": [
        "\n",
        "like_wikipedia.txt\n",
        "other_wikipedia.txt"
       ]
      },
      {
       "output_type": "stream",
       "stream": "stdout",
       "text": [
        "\n",
        "how_wikipedia.txt\n",
        "then_wikipedia.txt"
       ]
      },
      {
       "output_type": "stream",
       "stream": "stdout",
       "text": [
        "\n",
        "its_wikipedia.txt"
       ]
      },
      {
       "output_type": "stream",
       "stream": "stdout",
       "text": [
        "\n",
        "our_wikipedia.txt\n",
        "two_wikipedia.txt"
       ]
      },
      {
       "output_type": "stream",
       "stream": "stdout",
       "text": [
        "\n",
        "more_wikipedia.txt\n",
        "these_wikipedia.txt\n",
        "want_wikipedia.txt"
       ]
      },
      {
       "output_type": "stream",
       "stream": "stdout",
       "text": [
        "\n",
        "way_wikipedia.txt"
       ]
      },
      {
       "output_type": "stream",
       "stream": "stdout",
       "text": [
        "\n",
        "look_wikipedia.txt\n",
        "first_wikipedia.txt"
       ]
      },
      {
       "output_type": "stream",
       "stream": "stdout",
       "text": [
        "\n",
        "also_wikipedia.txt"
       ]
      },
      {
       "output_type": "stream",
       "stream": "stdout",
       "text": [
        "\n",
        "new_wikipedia.txt\n",
        "because_wikipedia.txt"
       ]
      },
      {
       "output_type": "stream",
       "stream": "stdout",
       "text": [
        "\n",
        "day_wikipedia.txt\n",
        "more_wikipedia.txt\n",
        "use_wikipedia.txt"
       ]
      },
      {
       "output_type": "stream",
       "stream": "stdout",
       "text": [
        "\n",
        "no_wikipedia.txt\n",
        "man_wikipedia.txt"
       ]
      },
      {
       "output_type": "stream",
       "stream": "stdout",
       "text": [
        "\n",
        "find_wikipedia.txt\n",
        "here_wikipedia.txt"
       ]
      },
      {
       "output_type": "stream",
       "stream": "stdout",
       "text": [
        "\n",
        "thing_wikipedia.txt"
       ]
      },
      {
       "output_type": "stream",
       "stream": "stdout",
       "text": [
        "\n",
        "give_wikipedia.txt"
       ]
      },
      {
       "output_type": "stream",
       "stream": "stdout",
       "text": [
        "\n",
        "many_wikipedia.txt\n",
        "well_wikipedia.txt"
       ]
      },
      {
       "output_type": "stream",
       "stream": "stdout",
       "text": [
        "\n",
        "only_wikipedia.txt"
       ]
      },
      {
       "output_type": "stream",
       "stream": "stdout",
       "text": [
        "\n",
        "those_wikipedia.txt\n",
        "tell_wikipedia.txt"
       ]
      },
      {
       "output_type": "stream",
       "stream": "stdout",
       "text": [
        "\n",
        "one_wikipedia.txt\n",
        "very_wikipedia.txt\n",
        "her_wikipedia.txt\n",
        "even_wikipedia.txt"
       ]
      },
      {
       "output_type": "stream",
       "stream": "stdout",
       "text": [
        "\n",
        "back_wikipedia.txt"
       ]
      },
      {
       "output_type": "stream",
       "stream": "stdout",
       "text": [
        "\n",
        "any_wikipedia.txt\n",
        "good_wikipedia.txt"
       ]
      },
      {
       "output_type": "stream",
       "stream": "stdout",
       "text": [
        "\n",
        "woman_wikipedia.txt"
       ]
      },
      {
       "output_type": "stream",
       "stream": "stdout",
       "text": [
        "\n",
        "through_wikipedia.txt\n",
        "us_wikipedia.txt"
       ]
      },
      {
       "output_type": "stream",
       "stream": "stdout",
       "text": [
        "\n",
        "life_wikipedia.txt\n",
        "child_wikipedia.txt"
       ]
      },
      {
       "output_type": "stream",
       "stream": "stdout",
       "text": [
        "\n",
        "there_wikipedia.txt\n",
        "work_wikipedia.txt\n",
        "down_wikipedia.txt"
       ]
      },
      {
       "output_type": "stream",
       "stream": "stdout",
       "text": [
        "\n",
        "may_wikipedia.txt\n",
        "after_wikipedia.txt"
       ]
      },
      {
       "output_type": "stream",
       "stream": "stdout",
       "text": [
        "\n",
        "should_wikipedia.txt\n",
        "call_wikipedia.txt"
       ]
      },
      {
       "output_type": "stream",
       "stream": "stdout",
       "text": [
        "\n",
        "world_wikipedia.txt\n",
        "over_wikipedia.txt"
       ]
      },
      {
       "output_type": "stream",
       "stream": "stdout",
       "text": [
        "\n",
        "school_wikipedia.txt\n",
        "still_wikipedia.txt\n",
        "try_wikipedia.txt"
       ]
      },
      {
       "output_type": "stream",
       "stream": "stdout",
       "text": [
        "\n",
        "in_wikipedia.txt\n",
        "as_wikipedia.txt\n",
        "last_wikipedia.txt\n",
        "ask_wikipedia.txt"
       ]
      },
      {
       "output_type": "stream",
       "stream": "stdout",
       "text": [
        "\n",
        "need_wikipedia.txt\n",
        "too_wikipedia.txt"
       ]
      },
      {
       "output_type": "stream",
       "stream": "stdout",
       "text": [
        "\n",
        "feel_wikipedia.txt\n",
        "three_wikipedia.txt\n",
        "when_wikipedia.txt"
       ]
      },
      {
       "output_type": "stream",
       "stream": "stdout",
       "text": [
        "\n",
        "state_wikipedia.txt\n",
        "never_wikipedia.txt"
       ]
      },
      {
       "output_type": "stream",
       "stream": "stdout",
       "text": [
        "\n",
        "become_wikipedia.txt"
       ]
      },
      {
       "output_type": "stream",
       "stream": "stdout",
       "text": [
        "\n",
        "between_wikipedia.txt"
       ]
      },
      {
       "output_type": "stream",
       "stream": "stdout",
       "text": [
        "\n",
        "high_wikipedia.txt"
       ]
      },
      {
       "output_type": "stream",
       "stream": "stdout",
       "text": [
        "\n",
        "really_wikipedia.txt\n",
        "something_wikipedia.txt"
       ]
      },
      {
       "output_type": "stream",
       "stream": "stdout",
       "text": [
        "\n",
        "most_wikipedia.txt"
       ]
      },
      {
       "output_type": "stream",
       "stream": "stdout",
       "text": [
        "\n",
        "another_wikipedia.txt\n",
        "much_wikipedia.txt"
       ]
      },
      {
       "output_type": "stream",
       "stream": "stdout",
       "text": [
        "\n",
        "family_wikipedia.txt\n",
        "own_wikipedia.txt"
       ]
      },
      {
       "output_type": "stream",
       "stream": "stdout",
       "text": [
        "\n",
        "out_wikipedia.txt\n",
        "leave_wikipedia.txt"
       ]
      },
      {
       "output_type": "stream",
       "stream": "stdout",
       "text": [
        "\n",
        "put_wikipedia.txt\n",
        "old_wikipedia.txt"
       ]
      },
      {
       "output_type": "stream",
       "stream": "stdout",
       "text": [
        "\n",
        "while_wikipedia.txt"
       ]
      },
      {
       "output_type": "stream",
       "stream": "stdout",
       "text": [
        "\n",
        "mean_wikipedia.txt\n",
        "on_wikipedia.txt\n",
        "keep_wikipedia.txt"
       ]
      },
      {
       "output_type": "stream",
       "stream": "stdout",
       "text": [
        "\n",
        "student_wikipedia.txt\n",
        "why_wikipedia.txt"
       ]
      },
      {
       "output_type": "stream",
       "stream": "stdout",
       "text": [
        "\n",
        "let_wikipedia.txt\n",
        "great_wikipedia.txt"
       ]
      },
      {
       "output_type": "stream",
       "stream": "stdout",
       "text": [
        "\n",
        "same_wikipedia.txt\n",
        "big_wikipedia.txt"
       ]
      },
      {
       "output_type": "stream",
       "stream": "stdout",
       "text": [
        "\n",
        "group_wikipedia.txt\n",
        "begin_wikipedia.txt"
       ]
      },
      {
       "output_type": "stream",
       "stream": "stdout",
       "text": [
        "\n",
        "seem_wikipedia.txt\n",
        "country_wikipedia.txt"
       ]
      },
      {
       "output_type": "stream",
       "stream": "stdout",
       "text": [
        "\n",
        "help_wikipedia.txt\n",
        "talk_wikipedia.txt"
       ]
      },
      {
       "output_type": "stream",
       "stream": "stdout",
       "text": [
        "\n",
        "where_wikipedia.txt\n",
        "turn_wikipedia.txt"
       ]
      },
      {
       "output_type": "stream",
       "stream": "stdout",
       "text": [
        "\n",
        "problem_wikipedia.txt\n",
        "every_wikipedia.txt"
       ]
      },
      {
       "output_type": "stream",
       "stream": "stdout",
       "text": [
        "\n",
        "start_wikipedia.txt\n",
        "hand_wikipedia.txt\n",
        "might_wikipedia.txt"
       ]
      },
      {
       "output_type": "stream",
       "stream": "stdout",
       "text": [
        "\n",
        "American_wikipedia.txt\n",
        "show_wikipedia.txt"
       ]
      },
      {
       "output_type": "stream",
       "stream": "stdout",
       "text": [
        "\n",
        "part_wikipedia.txt\n",
        "about_wikipedia.txt\n",
        "against_wikipedia.txt"
       ]
      },
      {
       "output_type": "stream",
       "stream": "stdout",
       "text": [
        "\n",
        "place_wikipedia.txt"
       ]
      },
      {
       "output_type": "stream",
       "stream": "stdout",
       "text": [
        "\n",
        "over_wikipedia.txt\n",
        "such_wikipedia.txt\n",
        "again_wikipedia.txt"
       ]
      },
      {
       "output_type": "stream",
       "stream": "stdout",
       "text": [
        "\n",
        "few_wikipedia.txt\n",
        "case_wikipedia.txt\n",
        "most_wikipedia.txt\n",
        "week_wikipedia.txt"
       ]
      },
      {
       "output_type": "stream",
       "stream": "stdout",
       "text": [
        "\n",
        "company_wikipedia.txt"
       ]
      },
      {
       "output_type": "stream",
       "stream": "stdout",
       "text": [
        "\n",
        "where_wikipedia.txt\n",
        "system_wikipedia.txt\n",
        "each_wikipedia.txt\n",
        "right_wikipedia.txt"
       ]
      },
      {
       "output_type": "stream",
       "stream": "stdout",
       "text": [
        "\n",
        "program_wikipedia.txt\n",
        "hear_wikipedia.txt\n",
        "so_wikipedia.txt\n",
        "question_wikipedia.txt"
       ]
      },
      {
       "output_type": "stream",
       "stream": "stdout",
       "text": [
        "\n",
        "during_wikipedia.txt\n",
        "work_wikipedia.txt\n",
        "play_wikipedia.txt"
       ]
      },
      {
       "output_type": "stream",
       "stream": "stdout",
       "text": [
        "\n",
        "government_wikipedia.txt\n",
        "run_wikipedia.txt\n"
       ]
      },
      {
       "output_type": "stream",
       "stream": "stdout",
       "text": [
        "small_wikipedia.txt\n",
        "number_wikipedia.txt\n",
        "off_wikipedia.txt"
       ]
      },
      {
       "output_type": "stream",
       "stream": "stdout",
       "text": [
        "\n",
        "always_wikipedia.txt"
       ]
      },
      {
       "output_type": "stream",
       "stream": "stdout",
       "text": [
        "\n",
        "move_wikipedia.txt\n",
        "like_wikipedia.txt\n",
        "night_wikipedia.txt"
       ]
      },
      {
       "output_type": "stream",
       "stream": "stdout",
       "text": [
        "\n",
        "live_wikipedia.txt\n",
        "Mr_wikipedia.txt"
       ]
      },
      {
       "output_type": "stream",
       "stream": "stdout",
       "text": [
        "\n",
        "point_wikipedia.txt\n",
        "believe_wikipedia.txt"
       ]
      },
      {
       "output_type": "stream",
       "stream": "stdout",
       "text": [
        "\n",
        "hold_wikipedia.txt\n",
        "today_wikipedia.txt"
       ]
      },
      {
       "output_type": "stream",
       "stream": "stdout",
       "text": [
        "\n",
        "bring_wikipedia.txt\n",
        "happen_wikipedia.txt"
       ]
      },
      {
       "output_type": "stream",
       "stream": "stdout",
       "text": [
        "\n",
        "next_wikipedia.txt\n",
        "without_wikipedia.txt"
       ]
      },
      {
       "output_type": "stream",
       "stream": "stdout",
       "text": [
        "\n",
        "before_wikipedia.txt"
       ]
      },
      {
       "output_type": "stream",
       "stream": "stdout",
       "text": [
        "\n",
        "large_wikipedia.txt\n",
        "all_wikipedia.txt\n",
        "million_wikipedia.txt"
       ]
      },
      {
       "output_type": "stream",
       "stream": "stdout",
       "text": [
        "\n",
        "must_wikipedia.txt\n",
        "home_wikipedia.txt"
       ]
      },
      {
       "output_type": "stream",
       "stream": "stdout",
       "text": [
        "\n",
        "under_wikipedia.txt\n",
        "water_wikipedia.txt"
       ]
      },
      {
       "output_type": "stream",
       "stream": "stdout",
       "text": [
        "\n",
        "room_wikipedia.txt\n",
        "write_wikipedia.txt"
       ]
      },
      {
       "output_type": "stream",
       "stream": "stdout",
       "text": [
        "\n",
        "mother_wikipedia.txt\n",
        "area_wikipedia.txt\n",
        "national_wikipedia.txt"
       ]
      },
      {
       "output_type": "stream",
       "stream": "stdout",
       "text": [
        "\n",
        "money_wikipedia.txt\n",
        "story_wikipedia.txt"
       ]
      },
      {
       "output_type": "stream",
       "stream": "stdout",
       "text": [
        "\n",
        "young_wikipedia.txt\n",
        "fact_wikipedia.txt\n",
        "month_wikipedia.txt"
       ]
      },
      {
       "output_type": "stream",
       "stream": "stdout",
       "text": [
        "\n",
        "different_wikipedia.txt\n",
        "lot_wikipedia.txt"
       ]
      },
      {
       "output_type": "stream",
       "stream": "stdout",
       "text": [
        "\n",
        "right_wikipedia.txt\n",
        "study_wikipedia.txt\n",
        "book_wikipedia.txt"
       ]
      },
      {
       "output_type": "stream",
       "stream": "stdout",
       "text": [
        "\n",
        "eye_wikipedia.txt\n",
        "job_wikipedia.txt"
       ]
      },
      {
       "output_type": "stream",
       "stream": "stdout",
       "text": [
        "\n",
        "word_wikipedia.txt\n",
        "though_wikipedia.txt\n",
        "business_wikipedia.txt"
       ]
      },
      {
       "output_type": "stream",
       "stream": "stdout",
       "text": [
        "\n",
        "issue_wikipedia.txt\n",
        "side_wikipedia.txt"
       ]
      },
      {
       "output_type": "stream",
       "stream": "stdout",
       "text": [
        "\n",
        "kind_wikipedia.txt\n",
        "four_wikipedia.txt"
       ]
      },
      {
       "output_type": "stream",
       "stream": "stdout",
       "text": [
        "\n",
        "head_wikipedia.txt\n",
        "far_wikipedia.txt\n",
        "black_wikipedia.txt"
       ]
      },
      {
       "output_type": "stream",
       "stream": "stdout",
       "text": [
        "\n",
        "long_wikipedia.txt\n",
        "both_wikipedia.txt\n",
        "little_wikipedia.txt"
       ]
      },
      {
       "output_type": "stream",
       "stream": "stdout",
       "text": [
        "\n",
        "house_wikipedia.txt\n",
        "yes_wikipedia.txt"
       ]
      },
      {
       "output_type": "stream",
       "stream": "stdout",
       "text": [
        "\n",
        "after_wikipedia.txt\n",
        "since_wikipedia.txt\n",
        "long_wikipedia.txt\n",
        "provide_wikipedia.txt"
       ]
      },
      {
       "output_type": "stream",
       "stream": "stdout",
       "text": [
        "\n",
        "service_wikipedia.txt\n",
        "around_wikipedia.txt"
       ]
      },
      {
       "output_type": "stream",
       "stream": "stdout",
       "text": [
        "\n",
        "friend_wikipedia.txt\n",
        "important_wikipedia.txt\n",
        "father_wikipedia.txt\n",
        "sit_wikipedia.txt\n",
        "away_wikipedia.txt"
       ]
      },
      {
       "output_type": "stream",
       "stream": "stdout",
       "text": [
        "\n",
        "until_wikipedia.txt\n",
        "power_wikipedia.txt"
       ]
      },
      {
       "output_type": "stream",
       "stream": "stdout",
       "text": [
        "\n",
        "hour_wikipedia.txt\n",
        "game_wikipedia.txt\n",
        "often_wikipedia.txt"
       ]
      },
      {
       "output_type": "stream",
       "stream": "stdout",
       "text": [
        "\n",
        "yet_wikipedia.txt\n",
        "line_wikipedia.txt"
       ]
      },
      {
       "output_type": "stream",
       "stream": "stdout",
       "text": [
        "\n",
        "political_wikipedia.txt\n",
        "end_wikipedia.txt"
       ]
      },
      {
       "output_type": "stream",
       "stream": "stdout",
       "text": [
        "\n",
        "among_wikipedia.txt\n",
        "ever_wikipedia.txt"
       ]
      },
      {
       "output_type": "stream",
       "stream": "stdout",
       "text": [
        "\n",
        "stand_wikipedia.txt\n",
        "bad_wikipedia.txt"
       ]
      },
      {
       "output_type": "stream",
       "stream": "stdout",
       "text": [
        "\n",
        "lose_wikipedia.txt\n",
        "however_wikipedia.txt\n",
        "member_wikipedia.txt"
       ]
      },
      {
       "output_type": "stream",
       "stream": "stdout",
       "text": [
        "\n",
        "pay_wikipedia.txt\n",
        "law_wikipedia.txt"
       ]
      },
      {
       "output_type": "stream",
       "stream": "stdout",
       "text": [
        "\n",
        "meet_wikipedia.txt\n",
        "car_wikipedia.txt\n",
        "city_wikipedia.txt"
       ]
      },
      {
       "output_type": "stream",
       "stream": "stdout",
       "text": [
        "\n",
        "almost_wikipedia.txt\n",
        "include_wikipedia.txt"
       ]
      },
      {
       "output_type": "stream",
       "stream": "stdout",
       "text": [
        "\n",
        "continue_wikipedia.txt"
       ]
      },
      {
       "output_type": "stream",
       "stream": "stdout",
       "text": [
        "\n",
        "set_wikipedia.txt\n",
        "later_wikipedia.txt"
       ]
      },
      {
       "output_type": "stream",
       "stream": "stdout",
       "text": [
        "\n",
        "community_wikipedia.txt\n",
        "much_wikipedia.txt\n",
        "name_wikipedia.txt"
       ]
      },
      {
       "output_type": "stream",
       "stream": "stdout",
       "text": [
        "\n",
        "five_wikipedia.txt\n",
        "once_wikipedia.txt"
       ]
      },
      {
       "output_type": "stream",
       "stream": "stdout",
       "text": [
        "\n",
        "white_wikipedia.txt\n",
        "least_wikipedia.txt"
       ]
      },
      {
       "output_type": "stream",
       "stream": "stdout",
       "text": [
        "\n",
        "president_wikipedia.txt\n",
        "learn_wikipedia.txt"
       ]
      },
      {
       "output_type": "stream",
       "stream": "stdout",
       "text": [
        "\n",
        "real_wikipedia.txt\n",
        "change_wikipedia.txt"
       ]
      },
      {
       "output_type": "stream",
       "stream": "stdout",
       "text": [
        "\n",
        "team_wikipedia.txt\n",
        "minute_wikipedia.txt"
       ]
      },
      {
       "output_type": "stream",
       "stream": "stdout",
       "text": [
        "\n",
        "best_wikipedia.txt\n",
        "several_wikipedia.txt\n",
        "idea_wikipedia.txt"
       ]
      },
      {
       "output_type": "stream",
       "stream": "stdout",
       "text": [
        "\n",
        "kid_wikipedia.txt"
       ]
      },
      {
       "output_type": "stream",
       "stream": "stdout",
       "text": [
        "\n",
        "body_wikipedia.txt\n",
        "information_wikipedia.txt"
       ]
      },
      {
       "output_type": "stream",
       "stream": "stdout",
       "text": [
        "\n",
        "nothing_wikipedia.txt\n",
        "ago_wikipedia.txt"
       ]
      },
      {
       "output_type": "stream",
       "stream": "stdout",
       "text": [
        "\n",
        "right_wikipedia.txt\n",
        "lead_wikipedia.txt"
       ]
      },
      {
       "output_type": "stream",
       "stream": "stdout",
       "text": [
        "\n",
        "social_wikipedia.txt"
       ]
      },
      {
       "output_type": "stream",
       "stream": "stdout",
       "text": [
        "\n",
        "understand_wikipedia.txt\n",
        "whether_wikipedia.txt\n",
        "back_wikipedia.txt\n",
        "watch_wikipedia.txt"
       ]
      },
      {
       "output_type": "stream",
       "stream": "stdout",
       "text": [
        "\n",
        "together_wikipedia.txt\n",
        "follow_wikipedia.txt\n",
        "around_wikipedia.txt\n",
        "parent_wikipedia.txt"
       ]
      },
      {
       "output_type": "stream",
       "stream": "stdout",
       "text": [
        "\n",
        "only_wikipedia.txt\n",
        "stop_wikipedia.txt\n",
        "face_wikipedia.txt"
       ]
      },
      {
       "output_type": "stream",
       "stream": "stdout",
       "text": [
        "\n",
        "anything_wikipedia.txt\n",
        "create_wikipedia.txt"
       ]
      },
      {
       "output_type": "stream",
       "stream": "stdout",
       "text": [
        "\n",
        "public_wikipedia.txt\n",
        "already_wikipedia.txt"
       ]
      },
      {
       "output_type": "stream",
       "stream": "stdout",
       "text": [
        "\n",
        "speak_wikipedia.txt\n",
        "others_wikipedia.txt"
       ]
      },
      {
       "output_type": "stream",
       "stream": "stdout",
       "text": [
        "\n",
        "read_wikipedia.txt\n",
        "level_wikipedia.txt\n",
        "allow_wikipedia.txt\n",
        "add_wikipedia.txt"
       ]
      },
      {
       "output_type": "stream",
       "stream": "stdout",
       "text": [
        "\n",
        "office_wikipedia.txt\n",
        "spend_wikipedia.txt"
       ]
      },
      {
       "output_type": "stream",
       "stream": "stdout",
       "text": [
        "\n",
        "door_wikipedia.txt\n",
        "health_wikipedia.txt"
       ]
      },
      {
       "output_type": "stream",
       "stream": "stdout",
       "text": [
        "\n",
        "person_wikipedia.txt\n",
        "art_wikipedia.txt\n",
        "sure_wikipedia.txt"
       ]
      },
      {
       "output_type": "stream",
       "stream": "stdout",
       "text": [
        "\n",
        "such_wikipedia.txt\n",
        "war_wikipedia.txt\n",
        "history_wikipedia.txt"
       ]
      },
      {
       "output_type": "stream",
       "stream": "stdout",
       "text": [
        "\n",
        "party_wikipedia.txt"
       ]
      },
      {
       "output_type": "stream",
       "stream": "stdout",
       "text": [
        "\n",
        "within_wikipedia.txt\n",
        "grow_wikipedia.txt"
       ]
      },
      {
       "output_type": "stream",
       "stream": "stdout",
       "text": [
        "\n",
        "result_wikipedia.txt\n",
        "open_wikipedia.txt"
       ]
      },
      {
       "output_type": "stream",
       "stream": "stdout",
       "text": [
        "\n",
        "change_wikipedia.txt\n",
        "morning_wikipedia.txt\n",
        "walk_wikipedia.txt"
       ]
      },
      {
       "output_type": "stream",
       "stream": "stdout",
       "text": [
        "\n",
        "reason_wikipedia.txt\n",
        "low_wikipedia.txt"
       ]
      },
      {
       "output_type": "stream",
       "stream": "stdout",
       "text": [
        "\n",
        "win_wikipedia.txt\n",
        "research_wikipedia.txt"
       ]
      },
      {
       "output_type": "stream",
       "stream": "stdout",
       "text": [
        "\n",
        "girl_wikipedia.txt\n",
        "guy_wikipedia.txt\n",
        "early_wikipedia.txt"
       ]
      },
      {
       "output_type": "stream",
       "stream": "stdout",
       "text": [
        "\n",
        "food_wikipedia.txt\n",
        "before_wikipedia.txt\n",
        "moment_wikipedia.txt"
       ]
      },
      {
       "output_type": "stream",
       "stream": "stdout",
       "text": [
        "\n",
        "himself_wikipedia.txt\n",
        "air_wikipedia.txt"
       ]
      },
      {
       "output_type": "stream",
       "stream": "stdout",
       "text": [
        "\n",
        "teacher_wikipedia.txt"
       ]
      },
      {
       "output_type": "stream",
       "stream": "stdout",
       "text": [
        "\n",
        "force_wikipedia.txt"
       ]
      },
      {
       "output_type": "stream",
       "stream": "stdout",
       "text": [
        "\n",
        "offer_wikipedia.txt\n",
        "enough_wikipedia.txt"
       ]
      },
      {
       "output_type": "stream",
       "stream": "stdout",
       "text": [
        "\n",
        "both_wikipedia.txt\n",
        "education_wikipedia.txt\n",
        "across_wikipedia.txt\n",
        "although_wikipedia.txt"
       ]
      },
      {
       "output_type": "stream",
       "stream": "stdout",
       "text": [
        "\n",
        "remember_wikipedia.txt"
       ]
      },
      {
       "output_type": "stream",
       "stream": "stdout",
       "text": [
        "\n",
        "foot_wikipedia.txt\n",
        "second_wikipedia.txt\n",
        "boy_wikipedia.txt"
       ]
      },
      {
       "output_type": "stream",
       "stream": "stdout",
       "text": [
        "\n",
        "maybe_wikipedia.txt\n",
        "toward_wikipedia.txt\n",
        "able_wikipedia.txt"
       ]
      },
      {
       "output_type": "stream",
       "stream": "stdout",
       "text": [
        "\n",
        "age_wikipedia.txt\n",
        "off_wikipedia.txt\n",
        "policy_wikipedia.txt"
       ]
      },
      {
       "output_type": "stream",
       "stream": "stdout",
       "text": [
        "\n",
        "everything_wikipedia.txt\n",
        "love_wikipedia.txt"
       ]
      },
      {
       "output_type": "stream",
       "stream": "stdout",
       "text": [
        "\n",
        "process_wikipedia.txt\n",
        "music_wikipedia.txt"
       ]
      },
      {
       "output_type": "stream",
       "stream": "stdout",
       "text": [
        "\n",
        "including_wikipedia.txt\n",
        "consider_wikipedia.txt\n",
        "appear_wikipedia.txt"
       ]
      },
      {
       "output_type": "stream",
       "stream": "stdout",
       "text": [
        "\n",
        "actually_wikipedia.txt\n",
        "buy_wikipedia.txt"
       ]
      },
      {
       "output_type": "stream",
       "stream": "stdout",
       "text": [
        "\n",
        "probably_wikipedia.txt\n",
        "human_wikipedia.txt"
       ]
      },
      {
       "output_type": "stream",
       "stream": "stdout",
       "text": [
        "\n",
        "wait_wikipedia.txt"
       ]
      },
      {
       "output_type": "stream",
       "stream": "stdout",
       "text": [
        "\n",
        "serve_wikipedia.txt\n",
        "market_wikipedia.txt"
       ]
      },
      {
       "output_type": "stream",
       "stream": "stdout",
       "text": [
        "\n",
        "die_wikipedia.txt"
       ]
      },
      {
       "output_type": "stream",
       "stream": "stdout",
       "text": [
        "\n",
        "send_wikipedia.txt"
       ]
      },
      {
       "output_type": "stream",
       "stream": "stdout",
       "text": [
        "\n",
        "expect_wikipedia.txt\n",
        "home_wikipedia.txt"
       ]
      },
      {
       "output_type": "stream",
       "stream": "stdout",
       "text": [
        "\n",
        "sense_wikipedia.txt"
       ]
      },
      {
       "output_type": "stream",
       "stream": "stdout",
       "text": [
        "\n",
        "build_wikipedia.txt\n",
        "stay_wikipedia.txt"
       ]
      },
      {
       "output_type": "stream",
       "stream": "stdout",
       "text": [
        "\n",
        "fall_wikipedia.txt\n",
        "oh_wikipedia.txt"
       ]
      },
      {
       "output_type": "stream",
       "stream": "stdout",
       "text": [
        "\n",
        "nation_wikipedia.txt\n",
        "plan_wikipedia.txt"
       ]
      },
      {
       "output_type": "stream",
       "stream": "stdout",
       "text": [
        "\n",
        "cut_wikipedia.txt"
       ]
      },
      {
       "output_type": "stream",
       "stream": "stdout",
       "text": [
        "\n",
        "college_wikipedia.txt\n",
        "interest_wikipedia.txt\n",
        "death_wikipedia.txt"
       ]
      },
      {
       "output_type": "stream",
       "stream": "stdout",
       "text": [
        "\n",
        "course_wikipedia.txt\n",
        "someone_wikipedia.txt\n",
        "experience_wikipedia.txt"
       ]
      },
      {
       "output_type": "stream",
       "stream": "stdout",
       "text": [
        "\n",
        "behind_wikipedia.txt\n",
        "reach_wikipedia.txt"
       ]
      },
      {
       "output_type": "stream",
       "stream": "stdout",
       "text": [
        "\n",
        "local_wikipedia.txt\n",
        "kill_wikipedia.txt\n",
        "six_wikipedia.txt"
       ]
      },
      {
       "output_type": "stream",
       "stream": "stdout",
       "text": [
        "\n",
        "remain_wikipedia.txt\n",
        "effect_wikipedia.txt"
       ]
      },
      {
       "output_type": "stream",
       "stream": "stdout",
       "text": [
        "\n",
        "use_wikipedia.txt\n",
        "yeah_wikipedia.txt\n",
        "suggest_wikipedia.txt"
       ]
      },
      {
       "output_type": "stream",
       "stream": "stdout",
       "text": [
        "\n",
        "class_wikipedia.txt\n",
        "control_wikipedia.txt"
       ]
      },
      {
       "output_type": "stream",
       "stream": "stdout",
       "text": [
        "\n",
        "raise_wikipedia.txt\n",
        "care_wikipedia.txt"
       ]
      },
      {
       "output_type": "stream",
       "stream": "stdout",
       "text": [
        "\n",
        "perhaps_wikipedia.txt\n",
        "little_wikipedia.txt\n",
        "late_wikipedia.txt\n",
        "hard_wikipedia.txt"
       ]
      },
      {
       "output_type": "stream",
       "stream": "stdout",
       "text": [
        "\n",
        "field_wikipedia.txt\n",
        "else_wikipedia.txt"
       ]
      },
      {
       "output_type": "stream",
       "stream": "stdout",
       "text": [
        "\n",
        "pass_wikipedia.txt\n",
        "former_wikipedia.txt"
       ]
      },
      {
       "output_type": "stream",
       "stream": "stdout",
       "text": [
        "\n",
        "sell_wikipedia.txt\n",
        "major_wikipedia.txt"
       ]
      },
      {
       "output_type": "stream",
       "stream": "stdout",
       "text": [
        "\n",
        "sometimes_wikipedia.txt\n",
        "require_wikipedia.txt"
       ]
      },
      {
       "output_type": "stream",
       "stream": "stdout",
       "text": [
        "\n",
        "along_wikipedia.txt\n",
        "development_wikipedia.txt"
       ]
      },
      {
       "output_type": "stream",
       "stream": "stdout",
       "text": [
        "\n",
        "themselves_wikipedia.txt\n",
        "report_wikipedia.txt"
       ]
      },
      {
       "output_type": "stream",
       "stream": "stdout",
       "text": [
        "\n",
        "role_wikipedia.txt\n",
        "better_wikipedia.txt"
       ]
      },
      {
       "output_type": "stream",
       "stream": "stdout",
       "text": [
        "\n",
        "economic_wikipedia.txt"
       ]
      },
      {
       "output_type": "stream",
       "stream": "stdout",
       "text": [
        "\n",
        "effort_wikipedia.txt\n",
        "up_wikipedia.txt\n",
        "decide_wikipedia.txt"
       ]
      },
      {
       "output_type": "stream",
       "stream": "stdout",
       "text": [
        "\n",
        "rate_wikipedia.txt\n",
        "strong_wikipedia.txt"
       ]
      },
      {
       "output_type": "stream",
       "stream": "stdout",
       "text": [
        "\n",
        "possible_wikipedia.txt\n",
        "heart_wikipedia.txt\n",
        "drug_wikipedia.txt"
       ]
      },
      {
       "output_type": "stream",
       "stream": "stdout",
       "text": [
        "\n",
        "show_wikipedia.txt\n",
        "leader_wikipedia.txt"
       ]
      },
      {
       "output_type": "stream",
       "stream": "stdout",
       "text": [
        "\n",
        "light_wikipedia.txt\n",
        "voice_wikipedia.txt"
       ]
      },
      {
       "output_type": "stream",
       "stream": "stdout",
       "text": [
        "\n",
        "wife_wikipedia.txt\n",
        "whole_wikipedia.txt"
       ]
      },
      {
       "output_type": "stream",
       "stream": "stdout",
       "text": [
        "\n",
        "police_wikipedia.txt\n",
        "mind_wikipedia.txt\n",
        "finally_wikipedia.txt"
       ]
      },
      {
       "output_type": "stream",
       "stream": "stdout",
       "text": [
        "\n",
        "pull_wikipedia.txt\n",
        "return_wikipedia.txt"
       ]
      },
      {
       "output_type": "stream",
       "stream": "stdout",
       "text": [
        "\n",
        "free_wikipedia.txt\n",
        "military_wikipedia.txt\n",
        "price_wikipedia.txt"
       ]
      },
      {
       "output_type": "stream",
       "stream": "stdout",
       "text": [
        "\n",
        "report_wikipedia.txt\n",
        "less_wikipedia.txt\n",
        "according_wikipedia.txt"
       ]
      },
      {
       "output_type": "stream",
       "stream": "stdout",
       "text": [
        "\n",
        "decision_wikipedia.txt\n",
        "explain_wikipedia.txt"
       ]
      },
      {
       "output_type": "stream",
       "stream": "stdout",
       "text": [
        "\n",
        "son_wikipedia.txt"
       ]
      },
      {
       "output_type": "stream",
       "stream": "stdout",
       "text": [
        "\n",
        "hope_wikipedia.txt\n",
        "even_wikipedia.txt\n",
        "develop_wikipedia.txt"
       ]
      },
      {
       "output_type": "stream",
       "stream": "stdout",
       "text": [
        "\n",
        "view_wikipedia.txt\n",
        "relationship_wikipedia.txt"
       ]
      },
      {
       "output_type": "stream",
       "stream": "stdout",
       "text": [
        "\n",
        "carry_wikipedia.txt\n",
        "town_wikipedia.txt"
       ]
      },
      {
       "output_type": "stream",
       "stream": "stdout",
       "text": [
        "\n",
        "road_wikipedia.txt"
       ]
      },
      {
       "output_type": "stream",
       "stream": "stdout",
       "text": [
        "\n",
        "drive_wikipedia.txt\n",
        "arm_wikipedia.txt"
       ]
      },
      {
       "output_type": "stream",
       "stream": "stdout",
       "text": [
        "\n",
        "true_wikipedia.txt\n",
        "federal_wikipedia.txt"
       ]
      },
      {
       "output_type": "stream",
       "stream": "stdout",
       "text": [
        "\n",
        "break_wikipedia.txt\n",
        "better_wikipedia.txt\n",
        "difference_wikipedia.txt"
       ]
      },
      {
       "output_type": "stream",
       "stream": "stdout",
       "text": [
        "\n",
        "thank_wikipedia.txt"
       ]
      },
      {
       "output_type": "stream",
       "stream": "stdout",
       "text": [
        "\n",
        "receive_wikipedia.txt\n",
        "value_wikipedia.txt\n",
        "international_wikipedia.txt"
       ]
      },
      {
       "output_type": "stream",
       "stream": "stdout",
       "text": [
        "\n",
        "building_wikipedia.txt\n",
        "action_wikipedia.txt"
       ]
      },
      {
       "output_type": "stream",
       "stream": "stdout",
       "text": [
        "\n",
        "full_wikipedia.txt"
       ]
      },
      {
       "output_type": "stream",
       "stream": "stdout",
       "text": [
        "\n",
        "model_wikipedia.txt\n",
        "join_wikipedia.txt"
       ]
      },
      {
       "output_type": "stream",
       "stream": "stdout",
       "text": [
        "\n",
        "season_wikipedia.txt\n",
        "society_wikipedia.txt"
       ]
      },
      {
       "output_type": "stream",
       "stream": "stdout",
       "text": [
        "\n",
        "because_wikipedia.txt\n",
        "tax_wikipedia.txt\n",
        "director_wikipedia.txt"
       ]
      },
      {
       "output_type": "stream",
       "stream": "stdout",
       "text": [
        "\n",
        "early_wikipedia.txt\n",
        "position_wikipedia.txt\n",
        "player_wikipedia.txt\n",
        "agree_wikipedia.txt"
       ]
      },
      {
       "output_type": "stream",
       "stream": "stdout",
       "text": [
        "\n",
        "especially_wikipedia.txt\n",
        "record_wikipedia.txt"
       ]
      },
      {
       "output_type": "stream",
       "stream": "stdout",
       "text": [
        "\n",
        "pick_wikipedia.txt"
       ]
      },
      {
       "output_type": "stream",
       "stream": "stdout",
       "text": [
        "\n",
        "wear_wikipedia.txt\n",
        "paper_wikipedia.txt"
       ]
      },
      {
       "output_type": "stream",
       "stream": "stdout",
       "text": [
        "\n",
        "special_wikipedia.txt\n",
        "space_wikipedia.txt\n",
        "ground_wikipedia.txt"
       ]
      },
      {
       "output_type": "stream",
       "stream": "stdout",
       "text": [
        "\n",
        "form_wikipedia.txt\n",
        "support_wikipedia.txt"
       ]
      },
      {
       "output_type": "stream",
       "stream": "stdout",
       "text": [
        "\n",
        "event_wikipedia.txt\n",
        "official_wikipedia.txt"
       ]
      },
      {
       "output_type": "stream",
       "stream": "stdout",
       "text": [
        "\n",
        "whose_wikipedia.txt\n",
        "matter_wikipedia.txt"
       ]
      },
      {
       "output_type": "stream",
       "stream": "stdout",
       "text": [
        "\n",
        "everyone_wikipedia.txt\n",
        "center_wikipedia.txt"
       ]
      },
      {
       "output_type": "stream",
       "stream": "stdout",
       "text": [
        "\n",
        "couple_wikipedia.txt\n",
        "site_wikipedia.txt"
       ]
      },
      {
       "output_type": "stream",
       "stream": "stdout",
       "text": [
        "\n",
        "end_wikipedia.txt\n",
        "project_wikipedia.txt"
       ]
      },
      {
       "output_type": "stream",
       "stream": "stdout",
       "text": [
        "\n",
        "hit_wikipedia.txt"
       ]
      },
      {
       "output_type": "stream",
       "stream": "stdout",
       "text": [
        "\n",
        "base_wikipedia.txt\n",
        "activity_wikipedia.txt"
       ]
      },
      {
       "output_type": "stream",
       "stream": "stdout",
       "text": [
        "\n",
        "star_wikipedia.txt"
       ]
      },
      {
       "output_type": "stream",
       "stream": "stdout",
       "text": [
        "\n",
        "table_wikipedia.txt\n",
        "need_wikipedia.txt"
       ]
      },
      {
       "output_type": "stream",
       "stream": "stdout",
       "text": [
        "\n",
        "court_wikipedia.txt\n",
        "produce_wikipedia.txt"
       ]
      },
      {
       "output_type": "stream",
       "stream": "stdout",
       "text": [
        "\n",
        "eat_wikipedia.txt"
       ]
      },
      {
       "output_type": "stream",
       "stream": "stdout",
       "text": [
        "\n",
        "American_wikipedia.txt\n",
        "teach_wikipedia.txt"
       ]
      },
      {
       "output_type": "stream",
       "stream": "stdout",
       "text": [
        "\n",
        "oil_wikipedia.txt\n",
        "half_wikipedia.txt\n",
        "situation_wikipedia.txt"
       ]
      },
      {
       "output_type": "stream",
       "stream": "stdout",
       "text": [
        "\n",
        "easy_wikipedia.txt\n",
        "cost_wikipedia.txt"
       ]
      },
      {
       "output_type": "stream",
       "stream": "stdout",
       "text": [
        "\n",
        "industry_wikipedia.txt"
       ]
      },
      {
       "output_type": "stream",
       "stream": "stdout",
       "text": [
        "\n",
        "figure_wikipedia.txt\n",
        "face_wikipedia.txt\n",
        "street_wikipedia.txt"
       ]
      },
      {
       "output_type": "stream",
       "stream": "stdout",
       "text": [
        "\n",
        "image_wikipedia.txt\n",
        "itself_wikipedia.txt"
       ]
      },
      {
       "output_type": "stream",
       "stream": "stdout",
       "text": [
        "\n",
        "phone_wikipedia.txt\n",
        "either_wikipedia.txt"
       ]
      },
      {
       "output_type": "stream",
       "stream": "stdout",
       "text": [
        "\n",
        "data_wikipedia.txt\n",
        "cover_wikipedia.txt"
       ]
      },
      {
       "output_type": "stream",
       "stream": "stdout",
       "text": [
        "\n",
        "quite_wikipedia.txt\n",
        "picture_wikipedia.txt"
       ]
      },
      {
       "output_type": "stream",
       "stream": "stdout",
       "text": [
        "\n",
        "clear_wikipedia.txt\n",
        "practice_wikipedia.txt"
       ]
      },
      {
       "output_type": "stream",
       "stream": "stdout",
       "text": [
        "\n",
        "piece_wikipedia.txt\n",
        "land_wikipedia.txt"
       ]
      },
      {
       "output_type": "stream",
       "stream": "stdout",
       "text": [
        "\n",
        "recent_wikipedia.txt\n",
        "describe_wikipedia.txt"
       ]
      },
      {
       "output_type": "stream",
       "stream": "stdout",
       "text": [
        "\n",
        "product_wikipedia.txt\n",
        "doctor_wikipedia.txt"
       ]
      },
      {
       "output_type": "stream",
       "stream": "stdout",
       "text": [
        "\n",
        "wall_wikipedia.txt\n",
        "patient_wikipedia.txt"
       ]
      },
      {
       "output_type": "stream",
       "stream": "stdout",
       "text": [
        "\n",
        "worker_wikipedia.txt\n",
        "news_wikipedia.txt"
       ]
      },
      {
       "output_type": "stream",
       "stream": "stdout",
       "text": [
        "\n",
        "test_wikipedia.txt\n",
        "movie_wikipedia.txt"
       ]
      },
      {
       "output_type": "stream",
       "stream": "stdout",
       "text": [
        "\n",
        "certain_wikipedia.txt\n",
        "north_wikipedia.txt"
       ]
      },
      {
       "output_type": "stream",
       "stream": "stdout",
       "text": [
        "\n",
        "love_wikipedia.txt\n",
        "personal_wikipedia.txt\n",
        "open_wikipedia.txt\n",
        "support_wikipedia.txt\n",
        "simply_wikipedia.txt"
       ]
      },
      {
       "output_type": "stream",
       "stream": "stdout",
       "text": [
        "\n",
        "third_wikipedia.txt\n",
        "technology_wikipedia.txt"
       ]
      },
      {
       "output_type": "stream",
       "stream": "stdout",
       "text": [
        "\n",
        "catch_wikipedia.txt"
       ]
      },
      {
       "output_type": "stream",
       "stream": "stdout",
       "text": [
        "\n",
        "step_wikipedia.txt\n",
        "baby_wikipedia.txt"
       ]
      },
      {
       "output_type": "stream",
       "stream": "stdout",
       "text": [
        "\n",
        "computer_wikipedia.txt\n",
        "type_wikipedia.txt"
       ]
      },
      {
       "output_type": "stream",
       "stream": "stdout",
       "text": [
        "\n",
        "attention_wikipedia.txt\n",
        "draw_wikipedia.txt"
       ]
      },
      {
       "output_type": "stream",
       "stream": "stdout",
       "text": [
        "\n",
        "film_wikipedia.txt\n",
        "Republican_wikipedia.txt"
       ]
      },
      {
       "output_type": "stream",
       "stream": "stdout",
       "text": [
        "\n",
        "tree_wikipedia.txt\n",
        "source_wikipedia.txt"
       ]
      },
      {
       "output_type": "stream",
       "stream": "stdout",
       "text": [
        "\n",
        "red_wikipedia.txt\n",
        "nearly_wikipedia.txt"
       ]
      },
      {
       "output_type": "stream",
       "stream": "stdout",
       "text": [
        "\n",
        "organization_wikipedia.txt\n",
        "choose_wikipedia.txt"
       ]
      },
      {
       "output_type": "stream",
       "stream": "stdout",
       "text": [
        "\n",
        "cause_wikipedia.txt\n",
        "hair_wikipedia.txt"
       ]
      },
      {
       "output_type": "stream",
       "stream": "stdout",
       "text": [
        "\n",
        "look_wikipedia.txt\n",
        "point_wikipedia.txt\n",
        "century_wikipedia.txt"
       ]
      },
      {
       "output_type": "stream",
       "stream": "stdout",
       "text": [
        "\n",
        "evidence_wikipedia.txt\n",
        "window_wikipedia.txt"
       ]
      },
      {
       "output_type": "stream",
       "stream": "stdout",
       "text": [
        "\n",
        "difficult_wikipedia.txt\n",
        "listen_wikipedia.txt"
       ]
      },
      {
       "output_type": "stream",
       "stream": "stdout",
       "text": [
        "\n",
        "soon_wikipedia.txt\n",
        "culture_wikipedia.txt"
       ]
      },
      {
       "output_type": "stream",
       "stream": "stdout",
       "text": [
        "\n",
        "billion_wikipedia.txt\n",
        "chance_wikipedia.txt"
       ]
      },
      {
       "output_type": "stream",
       "stream": "stdout",
       "text": [
        "\n",
        "brother_wikipedia.txt"
       ]
      },
      {
       "output_type": "stream",
       "stream": "stdout",
       "text": [
        "\n",
        "energy_wikipedia.txt"
       ]
      },
      {
       "output_type": "stream",
       "stream": "stdout",
       "text": [
        "\n",
        "period_wikipedia.txt"
       ]
      },
      {
       "output_type": "stream",
       "stream": "stdout",
       "text": [
        "\n",
        "course_wikipedia.txt\n",
        "summer_wikipedia.txt\n",
        "less_wikipedia.txt\n",
        "realize_wikipedia.txt\n",
        "hundred_wikipedia.txt"
       ]
      },
      {
       "output_type": "stream",
       "stream": "stdout",
       "text": [
        "\n",
        "available_wikipedia.txt\n",
        "plant_wikipedia.txt"
       ]
      },
      {
       "output_type": "stream",
       "stream": "stdout",
       "text": [
        "\n",
        "likely_wikipedia.txt\n",
        "opportunity_wikipedia.txt"
       ]
      },
      {
       "output_type": "stream",
       "stream": "stdout",
       "text": [
        "\n",
        "term_wikipedia.txt\n",
        "short_wikipedia.txt"
       ]
      },
      {
       "output_type": "stream",
       "stream": "stdout",
       "text": [
        "\n",
        "letter_wikipedia.txt\n",
        "condition_wikipedia.txt"
       ]
      },
      {
       "output_type": "stream",
       "stream": "stdout",
       "text": [
        "\n",
        "choice_wikipedia.txt\n",
        "place_wikipedia.txt\n",
        "single_wikipedia.txt"
       ]
      },
      {
       "output_type": "stream",
       "stream": "stdout",
       "text": [
        "\n",
        "rule_wikipedia.txt\n",
        "daughter_wikipedia.txt"
       ]
      },
      {
       "output_type": "stream",
       "stream": "stdout",
       "text": [
        "\n",
        "administration_wikipedia.txt\n",
        "south_wikipedia.txt"
       ]
      },
      {
       "output_type": "stream",
       "stream": "stdout",
       "text": [
        "\n",
        "husband_wikipedia.txt\n",
        "Congress_wikipedia.txt"
       ]
      },
      {
       "output_type": "stream",
       "stream": "stdout",
       "text": [
        "\n",
        "floor_wikipedia.txt"
       ]
      },
      {
       "output_type": "stream",
       "stream": "stdout",
       "text": [
        "\n",
        "campaign_wikipedia.txt\n",
        "material_wikipedia.txt"
       ]
      },
      {
       "output_type": "stream",
       "stream": "stdout",
       "text": [
        "\n",
        "population_wikipedia.txt\n",
        "well_wikipedia.txt\n",
        "call_wikipedia.txt\n",
        "economy_wikipedia.txt"
       ]
      },
      {
       "output_type": "stream",
       "stream": "stdout",
       "text": [
        "\n",
        "medical_wikipedia.txt\n",
        "hospital_wikipedia.txt"
       ]
      },
      {
       "output_type": "stream",
       "stream": "stdout",
       "text": [
        "\n",
        "church_wikipedia.txt\n",
        "close_wikipedia.txt"
       ]
      },
      {
       "output_type": "stream",
       "stream": "stdout",
       "text": [
        "\n",
        "thousand_wikipedia.txt"
       ]
      },
      {
       "output_type": "stream",
       "stream": "stdout",
       "text": [
        "\n",
        "risk_wikipedia.txt\n",
        "current_wikipedia.txt"
       ]
      },
      {
       "output_type": "stream",
       "stream": "stdout",
       "text": [
        "\n",
        "fire_wikipedia.txt\n",
        "future_wikipedia.txt"
       ]
      },
      {
       "output_type": "stream",
       "stream": "stdout",
       "text": [
        "\n",
        "wrong_wikipedia.txt\n",
        "involve_wikipedia.txt"
       ]
      },
      {
       "output_type": "stream",
       "stream": "stdout",
       "text": [
        "\n",
        "defense_wikipedia.txt\n",
        "anyone_wikipedia.txt"
       ]
      },
      {
       "output_type": "stream",
       "stream": "stdout",
       "text": [
        "\n",
        "increase_wikipedia.txt\n",
        "security_wikipedia.txt"
       ]
      },
      {
       "output_type": "stream",
       "stream": "stdout",
       "text": [
        "\n",
        "bank_wikipedia.txt\n",
        "myself_wikipedia.txt"
       ]
      },
      {
       "output_type": "stream",
       "stream": "stdout",
       "text": [
        "\n",
        "certainly_wikipedia.txt\n",
        "west_wikipedia.txt"
       ]
      },
      {
       "output_type": "stream",
       "stream": "stdout",
       "text": [
        "\n",
        "sport_wikipedia.txt\n",
        "board_wikipedia.txt"
       ]
      },
      {
       "output_type": "stream",
       "stream": "stdout",
       "text": [
        "\n",
        "seek_wikipedia.txt\n",
        "per_wikipedia.txt"
       ]
      },
      {
       "output_type": "stream",
       "stream": "stdout",
       "text": [
        "\n",
        "subject_wikipedia.txt\n",
        "officer_wikipedia.txt"
       ]
      },
      {
       "output_type": "stream",
       "stream": "stdout",
       "text": [
        "\n",
        "private_wikipedia.txt\n",
        "rest_wikipedia.txt"
       ]
      },
      {
       "output_type": "stream",
       "stream": "stdout",
       "text": [
        "\n",
        "behavior_wikipedia.txt\n",
        "deal_wikipedia.txt"
       ]
      },
      {
       "output_type": "stream",
       "stream": "stdout",
       "text": [
        "\n",
        "performance_wikipedia.txt"
       ]
      },
      {
       "output_type": "stream",
       "stream": "stdout",
       "text": [
        "\n",
        "fight_wikipedia.txt\n",
        "throw_wikipedia.txt"
       ]
      },
      {
       "output_type": "stream",
       "stream": "stdout",
       "text": [
        "\n",
        "top_wikipedia.txt\n",
        "quickly_wikipedia.txt"
       ]
      },
      {
       "output_type": "stream",
       "stream": "stdout",
       "text": [
        "\n",
        "past_wikipedia.txt\n",
        "goal_wikipedia.txt"
       ]
      },
      {
       "output_type": "stream",
       "stream": "stdout",
       "text": [
        "\n",
        "second_wikipedia.txt\n",
        "bed_wikipedia.txt"
       ]
      },
      {
       "output_type": "stream",
       "stream": "stdout",
       "text": [
        "\n",
        "order_wikipedia.txt\n",
        "author_wikipedia.txt"
       ]
      },
      {
       "output_type": "stream",
       "stream": "stdout",
       "text": [
        "\n",
        "fill_wikipedia.txt\n",
        "represent_wikipedia.txt"
       ]
      },
      {
       "output_type": "stream",
       "stream": "stdout",
       "text": [
        "\n",
        "focus_wikipedia.txt\n",
        "foreign_wikipedia.txt"
       ]
      },
      {
       "output_type": "stream",
       "stream": "stdout",
       "text": [
        "\n",
        "drop_wikipedia.txt"
       ]
      },
      {
       "output_type": "stream",
       "stream": "stdout",
       "text": [
        "\n",
        "plan_wikipedia.txt\n",
        "blood_wikipedia.txt\n",
        "upon_wikipedia.txt\n",
        "agency_wikipedia.txt"
       ]
      },
      {
       "output_type": "stream",
       "stream": "stdout",
       "text": [
        "\n",
        "push_wikipedia.txt\n",
        "nature_wikipedia.txt"
       ]
      },
      {
       "output_type": "stream",
       "stream": "stdout",
       "text": [
        "\n",
        "color_wikipedia.txt\n",
        "no_wikipedia.txt\n",
        "recently_wikipedia.txt\n",
        "store_wikipedia.txt"
       ]
      },
      {
       "output_type": "stream",
       "stream": "stdout",
       "text": [
        "\n",
        "reduce_wikipedia.txt\n",
        "sound_wikipedia.txt\n",
        "note_wikipedia.txt"
       ]
      },
      {
       "output_type": "stream",
       "stream": "stdout",
       "text": [
        "\n",
        "fine_wikipedia.txt\n",
        "before_wikipedia.txt\n",
        "near_wikipedia.txt\n",
        "movement_wikipedia.txt"
       ]
      },
      {
       "output_type": "stream",
       "stream": "stdout",
       "text": [
        "\n",
        "page_wikipedia.txt"
       ]
      },
      {
       "output_type": "stream",
       "stream": "stdout",
       "text": [
        "\n",
        "enter_wikipedia.txt\n",
        "share_wikipedia.txt"
       ]
      },
      {
       "output_type": "stream",
       "stream": "stdout",
       "text": [
        "\n",
        "than_wikipedia.txt\n",
        "common_wikipedia.txt\n",
        "poor_wikipedia.txt"
       ]
      },
      {
       "output_type": "stream",
       "stream": "stdout",
       "text": [
        "\n",
        "other_wikipedia.txt\n",
        "natural_wikipedia.txt\n",
        "race_wikipedia.txt"
       ]
      },
      {
       "output_type": "stream",
       "stream": "stdout",
       "text": [
        "\n",
        "concern_wikipedia.txt"
       ]
      },
      {
       "output_type": "stream",
       "stream": "stdout",
       "text": [
        "\n",
        "series_wikipedia.txt\n",
        "significant_wikipedia.txt"
       ]
      },
      {
       "output_type": "stream",
       "stream": "stdout",
       "text": [
        "\n",
        "similar_wikipedia.txt\n",
        "hot_wikipedia.txt"
       ]
      },
      {
       "output_type": "stream",
       "stream": "stdout",
       "text": [
        "\n",
        "language_wikipedia.txt\n",
        "each_wikipedia.txt\n",
        "usually_wikipedia.txt"
       ]
      },
      {
       "output_type": "stream",
       "stream": "stdout",
       "text": [
        "\n",
        "response_wikipedia.txt\n",
        "dead_wikipedia.txt"
       ]
      },
      {
       "output_type": "stream",
       "stream": "stdout",
       "text": [
        "\n",
        "rise_wikipedia.txt\n",
        "animal_wikipedia.txt"
       ]
      },
      {
       "output_type": "stream",
       "stream": "stdout",
       "text": [
        "\n",
        "factor_wikipedia.txt\n",
        "decade_wikipedia.txt"
       ]
      },
      {
       "output_type": "stream",
       "stream": "stdout",
       "text": [
        "\n",
        "article_wikipedia.txt\n",
        "shoot_wikipedia.txt\n",
        "east_wikipedia.txt"
       ]
      },
      {
       "output_type": "stream",
       "stream": "stdout",
       "text": [
        "\n",
        "save_wikipedia.txt"
       ]
      },
      {
       "output_type": "stream",
       "stream": "stdout",
       "text": [
        "\n",
        "seven_wikipedia.txt\n",
        "artist_wikipedia.txt"
       ]
      },
      {
       "output_type": "stream",
       "stream": "stdout",
       "text": [
        "\n",
        "away_wikipedia.txt\n",
        "scene_wikipedia.txt\n",
        "stock_wikipedia.txt\n",
        "career_wikipedia.txt"
       ]
      },
      {
       "output_type": "stream",
       "stream": "stdout",
       "text": [
        "\n",
        "despite_wikipedia.txt\n",
        "central_wikipedia.txt\n",
        "eight_wikipedia.txt"
       ]
      },
      {
       "output_type": "stream",
       "stream": "stdout",
       "text": [
        "\n",
        "thus_wikipedia.txt\n",
        "treatment_wikipedia.txt"
       ]
      },
      {
       "output_type": "stream",
       "stream": "stdout",
       "text": [
        "\n",
        "beyond_wikipedia.txt\n",
        "happy_wikipedia.txt\n",
        "exactly_wikipedia.txt"
       ]
      },
      {
       "output_type": "stream",
       "stream": "stdout",
       "text": [
        "\n",
        "protect_wikipedia.txt\n",
        "approach_wikipedia.txt"
       ]
      },
      {
       "output_type": "stream",
       "stream": "stdout",
       "text": [
        "\n",
        "lie_wikipedia.txt\n",
        "size_wikipedia.txt"
       ]
      },
      {
       "output_type": "stream",
       "stream": "stdout",
       "text": [
        "\n",
        "dog_wikipedia.txt"
       ]
      },
      {
       "output_type": "stream",
       "stream": "stdout",
       "text": [
        "\n",
        "fund_wikipedia.txt\n",
        "serious_wikipedia.txt"
       ]
      },
      {
       "output_type": "stream",
       "stream": "stdout",
       "text": [
        "\n",
        "occur_wikipedia.txt\n",
        "media_wikipedia.txt"
       ]
      },
      {
       "output_type": "stream",
       "stream": "stdout",
       "text": [
        "\n",
        "ready_wikipedia.txt\n",
        "sign_wikipedia.txt"
       ]
      },
      {
       "output_type": "stream",
       "stream": "stdout",
       "text": [
        "\n",
        "thought_wikipedia.txt"
       ]
      },
      {
       "output_type": "stream",
       "stream": "stdout",
       "text": [
        "\n",
        "list_wikipedia.txt\n",
        "individual_wikipedia.txt"
       ]
      },
      {
       "output_type": "stream",
       "stream": "stdout",
       "text": [
        "\n",
        "simple_wikipedia.txt\n",
        "quality_wikipedia.txt"
       ]
      },
      {
       "output_type": "stream",
       "stream": "stdout",
       "text": [
        "\n",
        "pressure_wikipedia.txt\n",
        "accept_wikipedia.txt\n",
        "answer_wikipedia.txt"
       ]
      },
      {
       "output_type": "stream",
       "stream": "stdout",
       "text": [
        "\n",
        "hard_wikipedia.txt\n",
        "resource_wikipedia.txt\n",
        "identify_wikipedia.txt"
       ]
      },
      {
       "output_type": "stream",
       "stream": "stdout",
       "text": [
        "\n",
        "left_wikipedia.txt\n",
        "meeting_wikipedia.txt"
       ]
      },
      {
       "output_type": "stream",
       "stream": "stdout",
       "text": [
        "\n",
        "determine_wikipedia.txt\n",
        "prepare_wikipedia.txt"
       ]
      },
      {
       "output_type": "stream",
       "stream": "stdout",
       "text": [
        "\n",
        "disease_wikipedia.txt\n",
        "whatever_wikipedia.txt"
       ]
      },
      {
       "output_type": "stream",
       "stream": "stdout",
       "text": [
        "\n",
        "success_wikipedia.txt\n",
        "argue_wikipedia.txt\n",
        "cup_wikipedia.txt"
       ]
      },
      {
       "output_type": "stream",
       "stream": "stdout",
       "text": [
        "\n",
        "particularly_wikipedia.txt\n",
        "amount_wikipedia.txt"
       ]
      },
      {
       "output_type": "stream",
       "stream": "stdout",
       "text": [
        "\n",
        "ability_wikipedia.txt\n",
        "staff_wikipedia.txt"
       ]
      },
      {
       "output_type": "stream",
       "stream": "stdout",
       "text": [
        "\n",
        "recognize_wikipedia.txt\n",
        "indicate_wikipedia.txt\n",
        "character_wikipedia.txt"
       ]
      },
      {
       "output_type": "stream",
       "stream": "stdout",
       "text": [
        "\n",
        "growth_wikipedia.txt\n",
        "loss_wikipedia.txt\n",
        "degree_wikipedia.txt"
       ]
      },
      {
       "output_type": "stream",
       "stream": "stdout",
       "text": [
        "\n",
        "wonder_wikipedia.txt\n",
        "attack_wikipedia.txt"
       ]
      },
      {
       "output_type": "stream",
       "stream": "stdout",
       "text": [
        "\n",
        "herself_wikipedia.txt\n",
        "region_wikipedia.txt"
       ]
      },
      {
       "output_type": "stream",
       "stream": "stdout",
       "text": [
        "\n",
        "television_wikipedia.txt\n",
        "box_wikipedia.txt"
       ]
      },
      {
       "output_type": "stream",
       "stream": "stdout",
       "text": [
        "\n",
        "TV_wikipedia.txt"
       ]
      },
      {
       "output_type": "stream",
       "stream": "stdout",
       "text": [
        "\n",
        "training_wikipedia.txt\n",
        "pretty_wikipedia.txt"
       ]
      },
      {
       "output_type": "stream",
       "stream": "stdout",
       "text": [
        "\n",
        "trade_wikipedia.txt\n",
        "deal_wikipedia.txt\n",
        "election_wikipedia.txt"
       ]
      },
      {
       "output_type": "stream",
       "stream": "stdout",
       "text": [
        "\n",
        "everybody_wikipedia.txt\n",
        "physical_wikipedia.txt"
       ]
      },
      {
       "output_type": "stream",
       "stream": "stdout",
       "text": [
        "\n",
        "lay_wikipedia.txt\n",
        "general_wikipedia.txt"
       ]
      },
      {
       "output_type": "stream",
       "stream": "stdout",
       "text": [
        "\n",
        "feeling_wikipedia.txt\n",
        "standard_wikipedia.txt\n",
        "bill_wikipedia.txt"
       ]
      },
      {
       "output_type": "stream",
       "stream": "stdout",
       "text": [
        "\n",
        "message_wikipedia.txt"
       ]
      },
      {
       "output_type": "stream",
       "stream": "stdout",
       "text": [
        "\n",
        "fail_wikipedia.txt"
       ]
      },
      {
       "output_type": "stream",
       "stream": "stdout",
       "text": [
        "\n",
        "outside_wikipedia.txt\n",
        "arrive_wikipedia.txt\n",
        "analysis_wikipedia.txt"
       ]
      },
      {
       "output_type": "stream",
       "stream": "stdout",
       "text": [
        "\n",
        "benefit_wikipedia.txt\n",
        "name_wikipedia.txt\n",
        "sex_wikipedia.txt"
       ]
      },
      {
       "output_type": "stream",
       "stream": "stdout",
       "text": [
        "\n",
        "forward_wikipedia.txt\n",
        "lawyer_wikipedia.txt"
       ]
      },
      {
       "output_type": "stream",
       "stream": "stdout",
       "text": [
        "\n",
        "present_wikipedia.txt\n",
        "section_wikipedia.txt\n",
        "environmental_wikipedia.txt"
       ]
      },
      {
       "output_type": "stream",
       "stream": "stdout",
       "text": [
        "\n",
        "glass_wikipedia.txt\n",
        "answer_wikipedia.txt\n",
        "skill_wikipedia.txt"
       ]
      },
      {
       "output_type": "stream",
       "stream": "stdout",
       "text": [
        "\n",
        "sister_wikipedia.txt\n",
        "PM_wikipedia.txt"
       ]
      },
      {
       "output_type": "stream",
       "stream": "stdout",
       "text": [
        "\n",
        "professor_wikipedia.txt"
       ]
      },
      {
       "output_type": "stream",
       "stream": "stdout",
       "text": [
        "\n",
        "operation_wikipedia.txt"
       ]
      },
      {
       "output_type": "stream",
       "stream": "stdout",
       "text": [
        "\n",
        "financial_wikipedia.txt\n",
        "crime_wikipedia.txt"
       ]
      },
      {
       "output_type": "stream",
       "stream": "stdout",
       "text": [
        "\n",
        "stage_wikipedia.txt\n",
        "ok_wikipedia.txt"
       ]
      },
      {
       "output_type": "stream",
       "stream": "stdout",
       "text": [
        "\n",
        "compare_wikipedia.txt"
       ]
      },
      {
       "output_type": "stream",
       "stream": "stdout",
       "text": [
        "\n",
        "authority_wikipedia.txt\n",
        "miss_wikipedia.txt"
       ]
      },
      {
       "output_type": "stream",
       "stream": "stdout",
       "text": [
        "\n",
        "design_wikipedia.txt\n",
        "sort_wikipedia.txt"
       ]
      },
      {
       "output_type": "stream",
       "stream": "stdout",
       "text": [
        "\n",
        "one_wikipedia.txt\n",
        "act_wikipedia.txt\n",
        "ten_wikipedia.txt"
       ]
      },
      {
       "output_type": "stream",
       "stream": "stdout",
       "text": [
        "\n",
        "knowledge_wikipedia.txt\n",
        "gun_wikipedia.txt"
       ]
      },
      {
       "output_type": "stream",
       "stream": "stdout",
       "text": [
        "\n",
        "station_wikipedia.txt\n",
        "blue_wikipedia.txt"
       ]
      },
      {
       "output_type": "stream",
       "stream": "stdout",
       "text": [
        "\n",
        "state_wikipedia.txt\n",
        "strategy_wikipedia.txt\n",
        "little_wikipedia.txt\n",
        "clearly_wikipedia.txt"
       ]
      },
      {
       "output_type": "stream",
       "stream": "stdout",
       "text": [
        "\n",
        "discuss_wikipedia.txt\n",
        "indeed_wikipedia.txt"
       ]
      },
      {
       "output_type": "stream",
       "stream": "stdout",
       "text": [
        "\n",
        "force_wikipedia.txt\n",
        "truth_wikipedia.txt\n",
        "song_wikipedia.txt"
       ]
      },
      {
       "output_type": "stream",
       "stream": "stdout",
       "text": [
        "\n",
        "example_wikipedia.txt\n",
        "democratic_wikipedia.txt"
       ]
      },
      {
       "output_type": "stream",
       "stream": "stdout",
       "text": [
        "\n",
        "check_wikipedia.txt\n",
        "environment_wikipedia.txt"
       ]
      },
      {
       "output_type": "stream",
       "stream": "stdout",
       "text": [
        "\n",
        "leg_wikipedia.txt\n",
        "dark_wikipedia.txt"
       ]
      },
      {
       "output_type": "stream",
       "stream": "stdout",
       "text": [
        "\n",
        "public_wikipedia.txt\n",
        "various_wikipedia.txt\n",
        "rather_wikipedia.txt"
       ]
      },
      {
       "output_type": "stream",
       "stream": "stdout",
       "text": [
        "\n",
        "laugh_wikipedia.txt\n",
        "guess_wikipedia.txt"
       ]
      },
      {
       "output_type": "stream",
       "stream": "stdout",
       "text": [
        "\n",
        "executive_wikipedia.txt\n",
        "set_wikipedia.txt\n",
        "study_wikipedia.txt\n",
        "prove_wikipedia.txt\n",
        "hang_wikipedia.txt"
       ]
      },
      {
       "output_type": "stream",
       "stream": "stdout",
       "text": [
        "\n",
        "entire_wikipedia.txt\n",
        "rock_wikipedia.txt\n",
        "design_wikipedia.txt\n",
        "enough_wikipedia.txt\n",
        "forget_wikipedia.txt"
       ]
      },
      {
       "output_type": "stream",
       "stream": "stdout",
       "text": [
        "\n",
        "since_wikipedia.txt\n",
        "claim_wikipedia.txt\n",
        "note_wikipedia.txt\n",
        "remove_wikipedia.txt"
       ]
      },
      {
       "output_type": "stream",
       "stream": "stdout",
       "text": [
        "\n",
        "manager_wikipedia.txt\n",
        "help_wikipedia.txt\n",
        "close_wikipedia.txt\n",
        "sound_wikipedia.txt\n",
        "enjoy_wikipedia.txt"
       ]
      },
      {
       "output_type": "stream",
       "stream": "stdout",
       "text": [
        "\n",
        "network_wikipedia.txt"
       ]
      },
      {
       "output_type": "stream",
       "stream": "stdout",
       "text": [
        "\n",
        "legal_wikipedia.txt\n",
        "religious_wikipedia.txt"
       ]
      },
      {
       "output_type": "stream",
       "stream": "stdout",
       "text": [
        "\n",
        "cold_wikipedia.txt\n",
        "form_wikipedia.txt\n",
        "final_wikipedia.txt\n",
        "main_wikipedia.txt"
       ]
      },
      {
       "output_type": "stream",
       "stream": "stdout",
       "text": [
        "\n",
        "science_wikipedia.txt\n",
        "green_wikipedia.txt"
       ]
      },
      {
       "output_type": "stream",
       "stream": "stdout",
       "text": [
        "\n",
        "memory_wikipedia.txt\n",
        "card_wikipedia.txt"
       ]
      },
      {
       "output_type": "stream",
       "stream": "stdout",
       "text": [
        "\n",
        "above_wikipedia.txt\n",
        "seat_wikipedia.txt"
       ]
      },
      {
       "output_type": "stream",
       "stream": "stdout",
       "text": [
        "\n",
        "cell_wikipedia.txt\n",
        "establish_wikipedia.txt"
       ]
      },
      {
       "output_type": "stream",
       "stream": "stdout",
       "text": [
        "\n",
        "nice_wikipedia.txt\n",
        "trial_wikipedia.txt"
       ]
      },
      {
       "output_type": "stream",
       "stream": "stdout",
       "text": [
        "\n",
        "expert_wikipedia.txt\n",
        "that_wikipedia.txt\n",
        "spring_wikipedia.txt\n",
        "firm_wikipedia.txt"
       ]
      },
      {
       "output_type": "stream",
       "stream": "stdout",
       "text": [
        "\n",
        "Democrat_wikipedia.txt"
       ]
      },
      {
       "output_type": "stream",
       "stream": "stdout",
       "text": [
        "\n",
        "radio_wikipedia.txt\n",
        "visit_wikipedia.txt"
       ]
      },
      {
       "output_type": "stream",
       "stream": "stdout",
       "text": [
        "\n",
        "management_wikipedia.txt\n",
        "care_wikipedia.txt\n",
        "avoid_wikipedia.txt"
       ]
      },
      {
       "output_type": "stream",
       "stream": "stdout",
       "text": [
        "\n",
        "imagine_wikipedia.txt\n",
        "tonight_wikipedia.txt"
       ]
      },
      {
       "output_type": "stream",
       "stream": "stdout",
       "text": [
        "\n",
        "huge_wikipedia.txt\n",
        "ball_wikipedia.txt"
       ]
      },
      {
       "output_type": "stream",
       "stream": "stdout",
       "text": [
        "\n",
        "no_wikipedia.txt\n",
        "close_wikipedia.txt\n",
        "finish_wikipedia.txt\n",
        "yourself_wikipedia.txt\n",
        "talk_wikipedia.txt\n",
        "theory_wikipedia.txt"
       ]
      },
      {
       "output_type": "stream",
       "stream": "stdout",
       "text": [
        "\n",
        "impact_wikipedia.txt\n",
        "respond_wikipedia.txt"
       ]
      },
      {
       "output_type": "stream",
       "stream": "stdout",
       "text": [
        "\n",
        "statement_wikipedia.txt\n",
        "maintain_wikipedia.txt"
       ]
      },
      {
       "output_type": "stream",
       "stream": "stdout",
       "text": [
        "\n",
        "charge_wikipedia.txt\n",
        "popular_wikipedia.txt"
       ]
      },
      {
       "output_type": "stream",
       "stream": "stdout",
       "text": [
        "\n",
        "traditional_wikipedia.txt\n",
        "onto_wikipedia.txt"
       ]
      },
      {
       "output_type": "stream",
       "stream": "stdout",
       "text": [
        "\n",
        "reveal_wikipedia.txt\n",
        "direction_wikipedia.txt"
       ]
      },
      {
       "output_type": "stream",
       "stream": "stdout",
       "text": [
        "\n",
        "weapon_wikipedia.txt\n",
        "employee_wikipedia.txt"
       ]
      },
      {
       "output_type": "stream",
       "stream": "stdout",
       "text": [
        "\n",
        "cultural_wikipedia.txt"
       ]
      },
      {
       "output_type": "stream",
       "stream": "stdout",
       "text": [
        "\n",
        "contain_wikipedia.txt\n",
        "peace_wikipedia.txt\n",
        "head_wikipedia.txt\n",
        "control_wikipedia.txt\n",
        "base_wikipedia.txt\n",
        "pain_wikipedia.txt\n",
        "apply_wikipedia.txt"
       ]
      },
      {
       "output_type": "stream",
       "stream": "stdout",
       "text": [
        "\n",
        "play_wikipedia.txt\n",
        "measure_wikipedia.txt\n",
        "wide_wikipedia.txt"
       ]
      },
      {
       "output_type": "stream",
       "stream": "stdout",
       "text": [
        "\n",
        "shake_wikipedia.txt\n",
        "fly_wikipedia.txt"
       ]
      },
      {
       "output_type": "stream",
       "stream": "stdout",
       "text": [
        "\n",
        "interview_wikipedia.txt\n",
        "manage_wikipedia.txt"
       ]
      },
      {
       "output_type": "stream",
       "stream": "stdout",
       "text": [
        "\n",
        "chair_wikipedia.txt"
       ]
      },
      {
       "output_type": "stream",
       "stream": "stdout",
       "text": [
        "\n",
        "fish_wikipedia.txt"
       ]
      },
      {
       "output_type": "stream",
       "stream": "stdout",
       "text": [
        "\n",
        "particular_wikipedia.txt\n",
        "camera_wikipedia.txt"
       ]
      },
      {
       "output_type": "stream",
       "stream": "stdout",
       "text": [
        "\n",
        "structure_wikipedia.txt\n",
        "politics_wikipedia.txt\n",
        "perform_wikipedia.txt"
       ]
      },
      {
       "output_type": "stream",
       "stream": "stdout",
       "text": [
        "\n",
        "bit_wikipedia.txt\n",
        "weight_wikipedia.txt"
       ]
      },
      {
       "output_type": "stream",
       "stream": "stdout",
       "text": [
        "\n",
        "suddenly_wikipedia.txt\n",
        "discover_wikipedia.txt"
       ]
      },
      {
       "output_type": "stream",
       "stream": "stdout",
       "text": [
        "\n",
        "candidate_wikipedia.txt\n",
        "top_wikipedia.txt\n",
        "production_wikipedia.txt"
       ]
      },
      {
       "output_type": "stream",
       "stream": "stdout",
       "text": [
        "\n",
        "treat_wikipedia.txt\n",
        "trip_wikipedia.txt"
       ]
      },
      {
       "output_type": "stream",
       "stream": "stdout",
       "text": [
        "\n",
        "evening_wikipedia.txt\n",
        "affect_wikipedia.txt"
       ]
      },
      {
       "output_type": "stream",
       "stream": "stdout",
       "text": [
        "\n",
        "inside_wikipedia.txt\n",
        "conference_wikipedia.txt"
       ]
      },
      {
       "output_type": "stream",
       "stream": "stdout",
       "text": [
        "\n",
        "unit_wikipedia.txt\n",
        "best_wikipedia.txt\n",
        "style_wikipedia.txt"
       ]
      },
      {
       "output_type": "stream",
       "stream": "stdout",
       "text": [
        "\n",
        "adult_wikipedia.txt\n",
        "worry_wikipedia.txt"
       ]
      },
      {
       "output_type": "stream",
       "stream": "stdout",
       "text": [
        "\n",
        "range_wikipedia.txt\n",
        "mention_wikipedia.txt"
       ]
      },
      {
       "output_type": "stream",
       "stream": "stdout",
       "text": [
        "\n",
        "rather_wikipedia.txt\n",
        "far_wikipedia.txt\n",
        "deep_wikipedia.txt\n",
        "past_wikipedia.txt\n",
        "edge_wikipedia.txt"
       ]
      },
      {
       "output_type": "stream",
       "stream": "stdout",
       "text": [
        "\n",
        "individual_wikipedia.txt\n",
        "specific_wikipedia.txt\n",
        "writer_wikipedia.txt"
       ]
      },
      {
       "output_type": "stream",
       "stream": "stdout",
       "text": [
        "\n",
        "trouble_wikipedia.txt\n",
        "necessary_wikipedia.txt\n",
        "throughout_wikipedia.txt"
       ]
      },
      {
       "output_type": "stream",
       "stream": "stdout",
       "text": [
        "\n",
        "challenge_wikipedia.txt\n",
        "fear_wikipedia.txt\n",
        "shoulder_wikipedia.txt\n",
        "institution_wikipedia.txt"
       ]
      },
      {
       "output_type": "stream",
       "stream": "stdout",
       "text": [
        "\n",
        "middle_wikipedia.txt\n",
        "sea_wikipedia.txt"
       ]
      },
      {
       "output_type": "stream",
       "stream": "stdout",
       "text": [
        "\n",
        "dream_wikipedia.txt\n",
        "bar_wikipedia.txt"
       ]
      },
      {
       "output_type": "stream",
       "stream": "stdout",
       "text": [
        "\n",
        "beautiful_wikipedia.txt"
       ]
      },
      {
       "output_type": "stream",
       "stream": "stdout",
       "text": [
        "\n",
        "property_wikipedia.txt\n",
        "instead_wikipedia.txt"
       ]
      },
      {
       "output_type": "stream",
       "stream": "stdout",
       "text": [
        "\n",
        "improve_wikipedia.txt"
       ]
      },
      {
       "output_type": "stream",
       "stream": "stdout",
       "text": [
        "\n",
        "stuff_wikipedia.txt"
       ]
      },
      {
       "output_type": "stream",
       "stream": "stdout",
       "text": [
        "\n",
        "detail_wikipedia.txt\n",
        "method_wikipedia.txt"
       ]
      },
      {
       "output_type": "stream",
       "stream": "stdout",
       "text": [
        "\n",
        "sign_wikipedia.txt\n",
        "somebody_wikipedia.txt\n",
        "magazine_wikipedia.txt\n",
        "hotel_wikipedia.txt"
       ]
      },
      {
       "output_type": "stream",
       "stream": "stdout",
       "text": [
        "\n",
        "soldier_wikipedia.txt\n",
        "reflect_wikipedia.txt"
       ]
      },
      {
       "output_type": "stream",
       "stream": "stdout",
       "text": [
        "\n",
        "heavy_wikipedia.txt\n",
        "sexual_wikipedia.txt"
       ]
      },
      {
       "output_type": "stream",
       "stream": "stdout",
       "text": [
        "\n",
        "cause_wikipedia.txt\n",
        "bag_wikipedia.txt\n",
        "heat_wikipedia.txt"
       ]
      },
      {
       "output_type": "stream",
       "stream": "stdout",
       "text": [
        "\n",
        "fall_wikipedia.txt\n",
        "marriage_wikipedia.txt\n",
        "tough_wikipedia.txt"
       ]
      },
      {
       "output_type": "stream",
       "stream": "stdout",
       "text": [
        "\n",
        "sing_wikipedia.txt\n",
        "surface_wikipedia.txt"
       ]
      },
      {
       "output_type": "stream",
       "stream": "stdout",
       "text": [
        "\n",
        "purpose_wikipedia.txt\n",
        "exist_wikipedia.txt"
       ]
      },
      {
       "output_type": "stream",
       "stream": "stdout",
       "text": [
        "\n",
        "pattern_wikipedia.txt"
       ]
      },
      {
       "output_type": "stream",
       "stream": "stdout",
       "text": [
        "\n",
        "whom_wikipedia.txt"
       ]
      },
      {
       "output_type": "stream",
       "stream": "stdout",
       "text": [
        "\n",
        "skin_wikipedia.txt\n",
        "agent_wikipedia.txt"
       ]
      },
      {
       "output_type": "stream",
       "stream": "stdout",
       "text": [
        "\n",
        "owner_wikipedia.txt\n",
        "machine_wikipedia.txt"
       ]
      },
      {
       "output_type": "stream",
       "stream": "stdout",
       "text": [
        "\n",
        "gas_wikipedia.txt\n",
        "down_wikipedia.txt\n",
        "ahead_wikipedia.txt"
       ]
      },
      {
       "output_type": "stream",
       "stream": "stdout",
       "text": [
        "\n",
        "generation_wikipedia.txt\n",
        "commercial_wikipedia.txt\n",
        "address_wikipedia.txt\n",
        "cancer_wikipedia.txt\n",
        "test_wikipedia.txt\n",
        "item_wikipedia.txt"
       ]
      },
      {
       "output_type": "stream",
       "stream": "stdout",
       "text": [
        "\n",
        "reality_wikipedia.txt\n",
        "coach_wikipedia.txt"
       ]
      },
      {
       "output_type": "stream",
       "stream": "stdout",
       "text": [
        "\n",
        "step_wikipedia.txt\n",
        "Mrs_wikipedia.txt\n",
        "yard_wikipedia.txt"
       ]
      },
      {
       "output_type": "stream",
       "stream": "stdout",
       "text": [
        "\n",
        "beat_wikipedia.txt\n",
        "violence_wikipedia.txt"
       ]
      },
      {
       "output_type": "stream",
       "stream": "stdout",
       "text": [
        "\n",
        "total_wikipedia.txt\n",
        "tend_wikipedia.txt"
       ]
      },
      {
       "output_type": "stream",
       "stream": "stdout",
       "text": [
        "\n",
        "investment_wikipedia.txt\n",
        "discussion_wikipedia.txt\n",
        "finger_wikipedia.txt\n",
        "garden_wikipedia.txt"
       ]
      },
      {
       "output_type": "stream",
       "stream": "stdout",
       "text": [
        "\n",
        "notice_wikipedia.txt\n",
        "collection_wikipedia.txt\n",
        "modern_wikipedia.txt"
       ]
      },
      {
       "output_type": "stream",
       "stream": "stdout",
       "text": [
        "\n",
        "task_wikipedia.txt\n",
        "partner_wikipedia.txt\n",
        "positive_wikipedia.txt"
       ]
      },
      {
       "output_type": "stream",
       "stream": "stdout",
       "text": [
        "\n",
        "civil_wikipedia.txt\n",
        "kitchen_wikipedia.txt"
       ]
      },
      {
       "output_type": "stream",
       "stream": "stdout",
       "text": [
        "\n",
        "consumer_wikipedia.txt\n",
        "shot_wikipedia.txt\n",
        "budget_wikipedia.txt"
       ]
      },
      {
       "output_type": "stream",
       "stream": "stdout",
       "text": [
        "\n",
        "wish_wikipedia.txt\n",
        "painting_wikipedia.txt"
       ]
      },
      {
       "output_type": "stream",
       "stream": "stdout",
       "text": [
        "\n",
        "scientist_wikipedia.txt\n",
        "safe_wikipedia.txt"
       ]
      },
      {
       "output_type": "stream",
       "stream": "stdout",
       "text": [
        "\n",
        "agreement_wikipedia.txt\n",
        "capital_wikipedia.txt"
       ]
      },
      {
       "output_type": "stream",
       "stream": "stdout",
       "text": [
        "\n",
        "mouth_wikipedia.txt\n",
        "nor_wikipedia.txt\n",
        "victim_wikipedia.txt"
       ]
      },
      {
       "output_type": "stream",
       "stream": "stdout",
       "text": [
        "\n",
        "newspaper_wikipedia.txt\n",
        "instead_wikipedia.txt\n",
        "threat_wikipedia.txt\n",
        "responsibility_wikipedia.txt"
       ]
      },
      {
       "output_type": "stream",
       "stream": "stdout",
       "text": [
        "\n",
        "smile_wikipedia.txt\n",
        "attorney_wikipedia.txt"
       ]
      },
      {
       "output_type": "stream",
       "stream": "stdout",
       "text": [
        "\n",
        "score_wikipedia.txt"
       ]
      },
      {
       "output_type": "stream",
       "stream": "stdout",
       "text": [
        "\n",
        "account_wikipedia.txt\n",
        "interesting_wikipedia.txt\n",
        "break_wikipedia.txt\n",
        "audience_wikipedia.txt"
       ]
      },
      {
       "output_type": "stream",
       "stream": "stdout",
       "text": [
        "\n",
        "rich_wikipedia.txt\n",
        "dinner_wikipedia.txt"
       ]
      },
      {
       "output_type": "stream",
       "stream": "stdout",
       "text": [
        "\n",
        "figure_wikipedia.txt\n",
        "vote_wikipedia.txt\n",
        "western_wikipedia.txt\n",
        "relate_wikipedia.txt"
       ]
      },
      {
       "output_type": "stream",
       "stream": "stdout",
       "text": [
        "\n",
        "travel_wikipedia.txt\n",
        "debate_wikipedia.txt\n",
        "prevent_wikipedia.txt"
       ]
      },
      {
       "output_type": "stream",
       "stream": "stdout",
       "text": [
        "\n",
        "citizen_wikipedia.txt\n",
        "majority_wikipedia.txt\n",
        "none_wikipedia.txt"
       ]
      },
      {
       "output_type": "stream",
       "stream": "stdout",
       "text": [
        "\n",
        "front_wikipedia.txt\n",
        "born_wikipedia.txt"
       ]
      },
      {
       "output_type": "stream",
       "stream": "stdout",
       "text": [
        "\n",
        "admit_wikipedia.txt\n",
        "senior_wikipedia.txt\n",
        "assume_wikipedia.txt"
       ]
      },
      {
       "output_type": "stream",
       "stream": "stdout",
       "text": [
        "\n",
        "wind_wikipedia.txt\n",
        "key_wikipedia.txt"
       ]
      },
      {
       "output_type": "stream",
       "stream": "stdout",
       "text": [
        "\n",
        "professional_wikipedia.txt\n",
        "mission_wikipedia.txt\n",
        "fast_wikipedia.txt"
       ]
      },
      {
       "output_type": "stream",
       "stream": "stdout",
       "text": [
        "\n",
        "alone_wikipedia.txt\n",
        "customer_wikipedia.txt"
       ]
      },
      {
       "output_type": "stream",
       "stream": "stdout",
       "text": [
        "\n",
        "suffer_wikipedia.txt\n",
        "speech_wikipedia.txt"
       ]
      },
      {
       "output_type": "stream",
       "stream": "stdout",
       "text": [
        "\n",
        "successful_wikipedia.txt\n",
        "option_wikipedia.txt"
       ]
      },
      {
       "output_type": "stream",
       "stream": "stdout",
       "text": [
        "\n",
        "participant_wikipedia.txt\n",
        "southern_wikipedia.txt"
       ]
      },
      {
       "output_type": "stream",
       "stream": "stdout",
       "text": [
        "\n",
        "fresh_wikipedia.txt\n",
        "eventually_wikipedia.txt"
       ]
      },
      {
       "output_type": "stream",
       "stream": "stdout",
       "text": [
        "\n",
        "no_wikipedia.txt\n",
        "forest_wikipedia.txt\n",
        "video_wikipedia.txt"
       ]
      },
      {
       "output_type": "stream",
       "stream": "stdout",
       "text": [
        "\n",
        "global_wikipedia.txt\n",
        "Senate_wikipedia.txt"
       ]
      },
      {
       "output_type": "stream",
       "stream": "stdout",
       "text": [
        "\n",
        "reform_wikipedia.txt\n",
        "access_wikipedia.txt\n",
        "restaurant_wikipedia.txt"
       ]
      },
      {
       "output_type": "stream",
       "stream": "stdout",
       "text": [
        "\n",
        "judge_wikipedia.txt\n",
        "publish_wikipedia.txt"
       ]
      },
      {
       "output_type": "stream",
       "stream": "stdout",
       "text": [
        "\n",
        "cost_wikipedia.txt\n",
        "relation_wikipedia.txt\n",
        "like_wikipedia.txt\n",
        "release_wikipedia.txt"
       ]
      },
      {
       "output_type": "stream",
       "stream": "stdout",
       "text": [
        "\n",
        "own_wikipedia.txt\n",
        "bird_wikipedia.txt\n",
        "opinion_wikipedia.txt"
       ]
      },
      {
       "output_type": "stream",
       "stream": "stdout",
       "text": [
        "\n",
        "credit_wikipedia.txt\n",
        "critical_wikipedia.txt"
       ]
      },
      {
       "output_type": "stream",
       "stream": "stdout",
       "text": [
        "\n",
        "corner_wikipedia.txt\n",
        "concerned_wikipedia.txt"
       ]
      },
      {
       "output_type": "stream",
       "stream": "stdout",
       "text": [
        "\n",
        "recall_wikipedia.txt\n",
        "version_wikipedia.txt"
       ]
      },
      {
       "output_type": "stream",
       "stream": "stdout",
       "text": [
        "\n",
        "stare_wikipedia.txt\n",
        "safety_wikipedia.txt"
       ]
      },
      {
       "output_type": "stream",
       "stream": "stdout",
       "text": [
        "\n",
        "effective_wikipedia.txt\n",
        "neighborhood_wikipedia.txt"
       ]
      },
      {
       "output_type": "stream",
       "stream": "stdout",
       "text": [
        "\n",
        "original_wikipedia.txt\n",
        "act_wikipedia.txt"
       ]
      },
      {
       "output_type": "stream",
       "stream": "stdout",
       "text": [
        "\n",
        "troop_wikipedia.txt"
       ]
      },
      {
       "output_type": "stream",
       "stream": "stdout",
       "text": [
        "\n",
        "income_wikipedia.txt\n",
        "directly_wikipedia.txt"
       ]
      },
      {
       "output_type": "stream",
       "stream": "stdout",
       "text": [
        "\n",
        "hurt_wikipedia.txt\n",
        "species_wikipedia.txt"
       ]
      },
      {
       "output_type": "stream",
       "stream": "stdout",
       "text": [
        "\n",
        "immediately_wikipedia.txt\n",
        "track_wikipedia.txt"
       ]
      },
      {
       "output_type": "stream",
       "stream": "stdout",
       "text": [
        "\n",
        "basic_wikipedia.txt\n",
        "strike_wikipedia.txt"
       ]
      },
      {
       "output_type": "stream",
       "stream": "stdout",
       "text": [
        "\n",
        "hope_wikipedia.txt\n",
        "sky_wikipedia.txt\n",
        "freedom_wikipedia.txt"
       ]
      },
      {
       "output_type": "stream",
       "stream": "stdout",
       "text": [
        "\n",
        "absolutely_wikipedia.txt\n",
        "plane_wikipedia.txt"
       ]
      },
      {
       "output_type": "stream",
       "stream": "stdout",
       "text": [
        "\n",
        "nobody_wikipedia.txt\n",
        "achieve_wikipedia.txt"
       ]
      },
      {
       "output_type": "stream",
       "stream": "stdout",
       "text": [
        "\n",
        "object_wikipedia.txt\n",
        "attitude_wikipedia.txt"
       ]
      },
      {
       "output_type": "stream",
       "stream": "stdout",
       "text": [
        "\n",
        "labor_wikipedia.txt\n",
        "refer_wikipedia.txt\n",
        "concept_wikipedia.txt"
       ]
      },
      {
       "output_type": "stream",
       "stream": "stdout",
       "text": [
        "\n",
        "client_wikipedia.txt\n",
        "powerful_wikipedia.txt"
       ]
      },
      {
       "output_type": "stream",
       "stream": "stdout",
       "text": [
        "\n",
        "perfect_wikipedia.txt\n",
        "nine_wikipedia.txt"
       ]
      },
      {
       "output_type": "stream",
       "stream": "stdout",
       "text": [
        "\n",
        "therefore_wikipedia.txt\n",
        "conduct_wikipedia.txt"
       ]
      },
      {
       "output_type": "stream",
       "stream": "stdout",
       "text": [
        "\n",
        "announce_wikipedia.txt\n",
        "conversation_wikipedia.txt"
       ]
      },
      {
       "output_type": "stream",
       "stream": "stdout",
       "text": [
        "\n",
        "examine_wikipedia.txt\n",
        "touch_wikipedia.txt"
       ]
      },
      {
       "output_type": "stream",
       "stream": "stdout",
       "text": [
        "\n",
        "please_wikipedia.txt\n",
        "attend_wikipedia.txt"
       ]
      },
      {
       "output_type": "stream",
       "stream": "stdout",
       "text": [
        "\n",
        "completely_wikipedia.txt\n",
        "vote_wikipedia.txt\n",
        "variety_wikipedia.txt"
       ]
      },
      {
       "output_type": "stream",
       "stream": "stdout",
       "text": [
        "\n",
        "sleep_wikipedia.txt\n",
        "turn_wikipedia.txt\n",
        "involved_wikipedia.txt"
       ]
      },
      {
       "output_type": "stream",
       "stream": "stdout",
       "text": [
        "\n",
        "investigation_wikipedia.txt\n",
        "nuclear_wikipedia.txt"
       ]
      },
      {
       "output_type": "stream",
       "stream": "stdout",
       "text": [
        "\n",
        "researcher_wikipedia.txt\n",
        "press_wikipedia.txt"
       ]
      },
      {
       "output_type": "stream",
       "stream": "stdout",
       "text": [
        "\n",
        "conflict_wikipedia.txt\n",
        "spirit_wikipedia.txt"
       ]
      },
      {
       "output_type": "stream",
       "stream": "stdout",
       "text": [
        "\n",
        "experience_wikipedia.txt\n",
        "replace_wikipedia.txt\n",
        "British_wikipedia.txt"
       ]
      },
      {
       "output_type": "stream",
       "stream": "stdout",
       "text": [
        "\n",
        "encourage_wikipedia.txt\n",
        "lot_wikipedia.txt\n",
        "lot_wikipedia.txt\n",
        "lot_wikipedia.txt\n",
        "lot_wikipedia.txt\n",
        "argument_wikipedia.txt\n",
        "by_wikipedia.txt\n",
        "once_wikipedia.txt"
       ]
      },
      {
       "output_type": "stream",
       "stream": "stdout",
       "text": [
        "\n",
        "camp_wikipedia.txt\n",
        "brain_wikipedia.txt"
       ]
      },
      {
       "output_type": "stream",
       "stream": "stdout",
       "text": [
        "\n",
        "feature_wikipedia.txt\n",
        "afternoon_wikipedia.txt\n",
        "AM_wikipedia.txt"
       ]
      },
      {
       "output_type": "stream",
       "stream": "stdout",
       "text": [
        "\n",
        "weekend_wikipedia.txt\n",
        "dozen_wikipedia.txt"
       ]
      },
      {
       "output_type": "stream",
       "stream": "stdout",
       "text": [
        "\n",
        "possibility_wikipedia.txt\n",
        "along_wikipedia.txt\n",
        "insurance_wikipedia.txt"
       ]
      },
      {
       "output_type": "stream",
       "stream": "stdout",
       "text": [
        "\n",
        "department_wikipedia.txt\n",
        "battle_wikipedia.txt"
       ]
      },
      {
       "output_type": "stream",
       "stream": "stdout",
       "text": [
        "\n",
        "beginning_wikipedia.txt\n",
        "date_wikipedia.txt"
       ]
      },
      {
       "output_type": "stream",
       "stream": "stdout",
       "text": [
        "\n",
        "generally_wikipedia.txt\n",
        "African_wikipedia.txt"
       ]
      },
      {
       "output_type": "stream",
       "stream": "stdout",
       "text": [
        "\n",
        "very_wikipedia.txt\n",
        "sorry_wikipedia.txt\n",
        "crisis_wikipedia.txt\n",
        "complete_wikipedia.txt"
       ]
      },
      {
       "output_type": "stream",
       "stream": "stdout",
       "text": [
        "\n",
        "fan_wikipedia.txt\n",
        "stick_wikipedia.txt\n",
        "define_wikipedia.txt"
       ]
      },
      {
       "output_type": "stream",
       "stream": "stdout",
       "text": [
        "\n",
        "easily_wikipedia.txt\n",
        "through_wikipedia.txt\n",
        "hole_wikipedia.txt\n",
        "element_wikipedia.txt"
       ]
      },
      {
       "output_type": "stream",
       "stream": "stdout",
       "text": [
        "\n",
        "vision_wikipedia.txt\n",
        "status_wikipedia.txt\n",
        "normal_wikipedia.txt"
       ]
      },
      {
       "output_type": "stream",
       "stream": "stdout",
       "text": [
        "\n",
        "Chinese_wikipedia.txt\n",
        "ship_wikipedia.txt"
       ]
      },
      {
       "output_type": "stream",
       "stream": "stdout",
       "text": [
        "\n",
        "solution_wikipedia.txt\n",
        "stone_wikipedia.txt"
       ]
      },
      {
       "output_type": "stream",
       "stream": "stdout",
       "text": [
        "\n",
        "slowly_wikipedia.txt\n",
        "scale_wikipedia.txt"
       ]
      },
      {
       "output_type": "stream",
       "stream": "stdout",
       "text": [
        "\n",
        "bit_wikipedia.txt\n",
        "university_wikipedia.txt\n",
        "introduce_wikipedia.txt"
       ]
      },
      {
       "output_type": "stream",
       "stream": "stdout",
       "text": [
        "\n",
        "driver_wikipedia.txt\n",
        "attempt_wikipedia.txt\n",
        "park_wikipedia.txt"
       ]
      },
      {
       "output_type": "stream",
       "stream": "stdout",
       "text": [
        "\n",
        "spot_wikipedia.txt\n",
        "lack_wikipedia.txt"
       ]
      },
      {
       "output_type": "stream",
       "stream": "stdout",
       "text": [
        "\n",
        "ice_wikipedia.txt\n",
        "boat_wikipedia.txt"
       ]
      },
      {
       "output_type": "stream",
       "stream": "stdout",
       "text": [
        "\n",
        "drink_wikipedia.txt\n",
        "sun_wikipedia.txt"
       ]
      },
      {
       "output_type": "stream",
       "stream": "stdout",
       "text": [
        "\n",
        "front_wikipedia.txt\n",
        "distance_wikipedia.txt\n",
        "wood_wikipedia.txt"
       ]
      },
      {
       "output_type": "stream",
       "stream": "stdout",
       "text": [
        "\n",
        "handle_wikipedia.txt\n",
        "truck_wikipedia.txt"
       ]
      },
      {
       "output_type": "stream",
       "stream": "stdout",
       "text": [
        "\n",
        "return_wikipedia.txt\n",
        "mountain_wikipedia.txt\n",
        "survey_wikipedia.txt"
       ]
      },
      {
       "output_type": "stream",
       "stream": "stdout",
       "text": [
        "\n",
        "supposed_wikipedia.txt\n",
        "tradition_wikipedia.txt"
       ]
      },
      {
       "output_type": "stream",
       "stream": "stdout",
       "text": [
        "\n",
        "winter_wikipedia.txt\n",
        "village_wikipedia.txt\n",
        "Soviet_wikipedia.txt"
       ]
      },
      {
       "output_type": "stream",
       "stream": "stdout",
       "text": [
        "\n",
        "refuse_wikipedia.txt"
       ]
      },
      {
       "output_type": "stream",
       "stream": "stdout",
       "text": [
        "\n",
        "sales_wikipedia.txt\n",
        "roll_wikipedia.txt"
       ]
      },
      {
       "output_type": "stream",
       "stream": "stdout",
       "text": [
        "\n",
        "communication_wikipedia.txt\n",
        "run_wikipedia.txt\n",
        "screen_wikipedia.txt"
       ]
      },
      {
       "output_type": "stream",
       "stream": "stdout",
       "text": [
        "\n",
        "gain_wikipedia.txt\n",
        "resident_wikipedia.txt"
       ]
      },
      {
       "output_type": "stream",
       "stream": "stdout",
       "text": [
        "\n",
        "hide_wikipedia.txt\n",
        "gold_wikipedia.txt"
       ]
      },
      {
       "output_type": "stream",
       "stream": "stdout",
       "text": [
        "\n",
        "club_wikipedia.txt\n",
        "future_wikipedia.txt\n",
        "farm_wikipedia.txt"
       ]
      },
      {
       "output_type": "stream",
       "stream": "stdout",
       "text": [
        "\n",
        "potential_wikipedia.txt\n",
        "increase_wikipedia.txt\n",
        "middle_wikipedia.txt\n",
        "European_wikipedia.txt"
       ]
      },
      {
       "output_type": "stream",
       "stream": "stdout",
       "text": [
        "\n",
        "presence_wikipedia.txt\n",
        "independent_wikipedia.txt"
       ]
      },
      {
       "output_type": "stream",
       "stream": "stdout",
       "text": [
        "\n",
        "district_wikipedia.txt\n",
        "shape_wikipedia.txt"
       ]
      },
      {
       "output_type": "stream",
       "stream": "stdout",
       "text": [
        "\n",
        "reader_wikipedia.txt"
       ]
      },
      {
       "output_type": "stream",
       "stream": "stdout",
       "text": [
        "\n",
        "Ms_wikipedia.txt\n",
        "contract_wikipedia.txt\n",
        "crowd_wikipedia.txt"
       ]
      },
      {
       "output_type": "stream",
       "stream": "stdout",
       "text": [
        "\n",
        "Christian_wikipedia.txt\n",
        "express_wikipedia.txt\n",
        "apartment_wikipedia.txt"
       ]
      },
      {
       "output_type": "stream",
       "stream": "stdout",
       "text": [
        "\n",
        "willing_wikipedia.txt\n",
        "strength_wikipedia.txt"
       ]
      },
      {
       "output_type": "stream",
       "stream": "stdout",
       "text": [
        "\n",
        "previous_wikipedia.txt\n",
        "band_wikipedia.txt"
       ]
      },
      {
       "output_type": "stream",
       "stream": "stdout",
       "text": [
        "\n",
        "obviously_wikipedia.txt\n",
        "horse_wikipedia.txt"
       ]
      },
      {
       "output_type": "stream",
       "stream": "stdout",
       "text": [
        "\n",
        "interested_wikipedia.txt\n",
        "target_wikipedia.txt"
       ]
      },
      {
       "output_type": "stream",
       "stream": "stdout",
       "text": [
        "\n",
        "prison_wikipedia.txt\n",
        "ride_wikipedia.txt"
       ]
      },
      {
       "output_type": "stream",
       "stream": "stdout",
       "text": [
        "\n",
        "guard_wikipedia.txt\n",
        "terms_wikipedia.txt\n",
        "demand_wikipedia.txt"
       ]
      },
      {
       "output_type": "stream",
       "stream": "stdout",
       "text": [
        "\n",
        "reporter_wikipedia.txt"
       ]
      },
      {
       "output_type": "stream",
       "stream": "stdout",
       "text": [
        "\n",
        "deliver_wikipedia.txt\n",
        "text_wikipedia.txt"
       ]
      },
      {
       "output_type": "stream",
       "stream": "stdout",
       "text": [
        "\n",
        "share_wikipedia.txt\n",
        "tool_wikipedia.txt\n",
        "wild_wikipedia.txt"
       ]
      },
      {
       "output_type": "stream",
       "stream": "stdout",
       "text": [
        "\n",
        "vehicle_wikipedia.txt\n",
        "observe_wikipedia.txt"
       ]
      },
      {
       "output_type": "stream",
       "stream": "stdout",
       "text": [
        "\n",
        "flight_wikipedia.txt"
       ]
      },
      {
       "output_type": "stream",
       "stream": "stdout",
       "text": [
        "\n",
        "inside_wikipedia.txt\n",
        "facility_wikipedia.txt\n",
        "understanding_wikipedia.txt"
       ]
      },
      {
       "output_type": "stream",
       "stream": "stdout",
       "text": [
        "\n",
        "average_wikipedia.txt\n",
        "emerge_wikipedia.txt"
       ]
      },
      {
       "output_type": "stream",
       "stream": "stdout",
       "text": [
        "\n",
        "advantage_wikipedia.txt\n",
        "quick_wikipedia.txt"
       ]
      },
      {
       "output_type": "stream",
       "stream": "stdout",
       "text": [
        "\n",
        "light_wikipedia.txt\n",
        "leadership_wikipedia.txt\n",
        "earn_wikipedia.txt"
       ]
      },
      {
       "output_type": "stream",
       "stream": "stdout",
       "text": [
        "\n",
        "pound_wikipedia.txt\n",
        "basis_wikipedia.txt"
       ]
      },
      {
       "output_type": "stream",
       "stream": "stdout",
       "text": [
        "\n",
        "bright_wikipedia.txt"
       ]
      },
      {
       "output_type": "stream",
       "stream": "stdout",
       "text": [
        "\n",
        "operate_wikipedia.txt\n",
        "guest_wikipedia.txt"
       ]
      },
      {
       "output_type": "stream",
       "stream": "stdout",
       "text": [
        "\n",
        "sample_wikipedia.txt\n",
        "contribute_wikipedia.txt"
       ]
      },
      {
       "output_type": "stream",
       "stream": "stdout",
       "text": [
        "\n",
        "tiny_wikipedia.txt\n",
        "block_wikipedia.txt"
       ]
      },
      {
       "output_type": "stream",
       "stream": "stdout",
       "text": [
        "\n",
        "protection_wikipedia.txt\n",
        "settle_wikipedia.txt"
       ]
      },
      {
       "output_type": "stream",
       "stream": "stdout",
       "text": [
        "\n",
        "feed_wikipedia.txt\n",
        "collect_wikipedia.txt"
       ]
      },
      {
       "output_type": "stream",
       "stream": "stdout",
       "text": [
        "\n",
        "additional_wikipedia.txt\n",
        "while_wikipedia.txt\n",
        "highly_wikipedia.txt"
       ]
      },
      {
       "output_type": "stream",
       "stream": "stdout",
       "text": [
        "\n",
        "identity_wikipedia.txt\n",
        "title_wikipedia.txt"
       ]
      },
      {
       "output_type": "stream",
       "stream": "stdout",
       "text": [
        "\n",
        "mostly_wikipedia.txt\n",
        "lesson_wikipedia.txt"
       ]
      },
      {
       "output_type": "stream",
       "stream": "stdout",
       "text": [
        "\n",
        "faith_wikipedia.txt\n",
        "river_wikipedia.txt\n",
        "promote_wikipedia.txt"
       ]
      },
      {
       "output_type": "stream",
       "stream": "stdout",
       "text": [
        "\n",
        "living_wikipedia.txt\n",
        "present_wikipedia.txt"
       ]
      },
      {
       "output_type": "stream",
       "stream": "stdout",
       "text": [
        "\n",
        "count_wikipedia.txt\n",
        "unless_wikipedia.txt"
       ]
      },
      {
       "output_type": "stream",
       "stream": "stdout",
       "text": [
        "\n",
        "marry_wikipedia.txt\n",
        "tomorrow_wikipedia.txt\n",
        "technique_wikipedia.txt"
       ]
      },
      {
       "output_type": "stream",
       "stream": "stdout",
       "text": [
        "\n",
        "path_wikipedia.txt\n",
        "ear_wikipedia.txt"
       ]
      },
      {
       "output_type": "stream",
       "stream": "stdout",
       "text": [
        "\n",
        "shop_wikipedia.txt\n",
        "folk_wikipedia.txt"
       ]
      },
      {
       "output_type": "stream",
       "stream": "stdout",
       "text": [
        "\n",
        "order_wikipedia.txt\n",
        "principle_wikipedia.txt"
       ]
      },
      {
       "output_type": "stream",
       "stream": "stdout",
       "text": [
        "\n",
        "survive_wikipedia.txt\n",
        "lift_wikipedia.txt\n",
        "border_wikipedia.txt"
       ]
      },
      {
       "output_type": "stream",
       "stream": "stdout",
       "text": [
        "\n",
        "competition_wikipedia.txt\n",
        "jump_wikipedia.txt"
       ]
      },
      {
       "output_type": "stream",
       "stream": "stdout",
       "text": [
        "\n",
        "gather_wikipedia.txt\n",
        "limit_wikipedia.txt"
       ]
      },
      {
       "output_type": "stream",
       "stream": "stdout",
       "text": [
        "\n",
        "fit_wikipedia.txt\n",
        "claim_wikipedia.txt"
       ]
      },
      {
       "output_type": "stream",
       "stream": "stdout",
       "text": [
        "\n",
        "cry_wikipedia.txt"
       ]
      },
      {
       "output_type": "stream",
       "stream": "stdout",
       "text": [
        "\n",
        "equipment_wikipedia.txt\n",
        "worth_wikipedia.txt\n",
        "associate_wikipedia.txt"
       ]
      },
      {
       "output_type": "stream",
       "stream": "stdout",
       "text": [
        "\n",
        "critic_wikipedia.txt\n",
        "warm_wikipedia.txt"
       ]
      },
      {
       "output_type": "stream",
       "stream": "stdout",
       "text": [
        "\n",
        "aspect_wikipedia.txt\n",
        "result_wikipedia.txt\n",
        "insist_wikipedia.txt"
       ]
      },
      {
       "output_type": "stream",
       "stream": "stdout",
       "text": [
        "\n",
        "failure_wikipedia.txt\n",
        "annual_wikipedia.txt"
       ]
      },
      {
       "output_type": "stream",
       "stream": "stdout",
       "text": [
        "\n",
        "French_wikipedia.txt\n",
        "Christmas_wikipedia.txt\n",
        "comment_wikipedia.txt"
       ]
      },
      {
       "output_type": "stream",
       "stream": "stdout",
       "text": [
        "\n",
        "responsible_wikipedia.txt\n",
        "affair_wikipedia.txt"
       ]
      },
      {
       "output_type": "stream",
       "stream": "stdout",
       "text": [
        "\n",
        "approach_wikipedia.txt\n",
        "until_wikipedia.txt\n",
        "procedure_wikipedia.txt\n",
        "regular_wikipedia.txt"
       ]
      },
      {
       "output_type": "stream",
       "stream": "stdout",
       "text": [
        "\n",
        "spread_wikipedia.txt\n",
        "chairman_wikipedia.txt"
       ]
      },
      {
       "output_type": "stream",
       "stream": "stdout",
       "text": [
        "\n",
        "baseball_wikipedia.txt\n",
        "soft_wikipedia.txt\n",
        "ignore_wikipedia.txt"
       ]
      },
      {
       "output_type": "stream",
       "stream": "stdout",
       "text": [
        "\n",
        "egg_wikipedia.txt\n",
        "measure_wikipedia.txt\n",
        "belief_wikipedia.txt\n",
        "demonstrate_wikipedia.txt"
       ]
      },
      {
       "output_type": "stream",
       "stream": "stdout",
       "text": [
        "\n",
        "anybody_wikipedia.txt\n",
        "murder_wikipedia.txt"
       ]
      },
      {
       "output_type": "stream",
       "stream": "stdout",
       "text": [
        "\n",
        "gift_wikipedia.txt\n",
        "religion_wikipedia.txt\n",
        "review_wikipedia.txt"
       ]
      },
      {
       "output_type": "stream",
       "stream": "stdout",
       "text": [
        "\n",
        "editor_wikipedia.txt\n",
        "past_wikipedia.txt\n",
        "engage_wikipedia.txt\n",
        "coffee_wikipedia.txt"
       ]
      },
      {
       "output_type": "stream",
       "stream": "stdout",
       "text": [
        "\n",
        "document_wikipedia.txt\n",
        "speed_wikipedia.txt"
       ]
      },
      {
       "output_type": "stream",
       "stream": "stdout",
       "text": [
        "\n",
        "cross_wikipedia.txt"
       ]
      },
      {
       "output_type": "stream",
       "stream": "stdout",
       "text": [
        "\n",
        "influence_wikipedia.txt\n",
        "anyway_wikipedia.txt\n",
        "threaten_wikipedia.txt"
       ]
      },
      {
       "output_type": "stream",
       "stream": "stdout",
       "text": [
        "\n",
        "commit_wikipedia.txt\n",
        "female_wikipedia.txt"
       ]
      },
      {
       "output_type": "stream",
       "stream": "stdout",
       "text": [
        "\n",
        "youth_wikipedia.txt\n",
        "wave_wikipedia.txt"
       ]
      },
      {
       "output_type": "stream",
       "stream": "stdout",
       "text": [
        "\n",
        "move_wikipedia.txt\n",
        "afraid_wikipedia.txt\n",
        "quarter_wikipedia.txt"
       ]
      },
      {
       "output_type": "stream",
       "stream": "stdout",
       "text": [
        "\n",
        "background_wikipedia.txt\n",
        "native_wikipedia.txt"
       ]
      },
      {
       "output_type": "stream",
       "stream": "stdout",
       "text": [
        "\n",
        "broad_wikipedia.txt\n",
        "wonderful_wikipedia.txt"
       ]
      },
      {
       "output_type": "stream",
       "stream": "stdout",
       "text": [
        "\n",
        "deny_wikipedia.txt\n",
        "apparently_wikipedia.txt"
       ]
      },
      {
       "output_type": "stream",
       "stream": "stdout",
       "text": [
        "\n",
        "slightly_wikipedia.txt\n",
        "reaction_wikipedia.txt"
       ]
      },
      {
       "output_type": "stream",
       "stream": "stdout",
       "text": [
        "\n",
        "twice_wikipedia.txt"
       ]
      },
      {
       "output_type": "stream",
       "stream": "stdout",
       "text": [
        "\n",
        "suit_wikipedia.txt\n",
        "perspective_wikipedia.txt"
       ]
      },
      {
       "output_type": "stream",
       "stream": "stdout",
       "text": [
        "\n",
        "growing_wikipedia.txt\n",
        "blow_wikipedia.txt\n",
        "construction_wikipedia.txt"
       ]
      },
      {
       "output_type": "stream",
       "stream": "stdout",
       "text": [
        "\n",
        "kind_wikipedia.txt\n",
        "intelligence_wikipedia.txt\n",
        "destroy_wikipedia.txt\n",
        "cook_wikipedia.txt"
       ]
      },
      {
       "output_type": "stream",
       "stream": "stdout",
       "text": [
        "\n",
        "connection_wikipedia.txt\n",
        "charge_wikipedia.txt\n",
        "burn_wikipedia.txt\n",
        "shoe_wikipedia.txt"
       ]
      },
      {
       "output_type": "stream",
       "stream": "stdout",
       "text": [
        "\n",
        "view_wikipedia.txt\n",
        "grade_wikipedia.txt\n",
        "context_wikipedia.txt"
       ]
      },
      {
       "output_type": "stream",
       "stream": "stdout",
       "text": [
        "\n",
        "committee_wikipedia.txt\n",
        "hey_wikipedia.txt\n",
        "mistake_wikipedia.txt"
       ]
      },
      {
       "output_type": "stream",
       "stream": "stdout",
       "text": [
        "\n",
        "focus_wikipedia.txt\n",
        "smile_wikipedia.txt\n",
        "location_wikipedia.txt\n",
        "clothes_wikipedia.txt\n",
        "Indian_wikipedia.txt"
       ]
      },
      {
       "output_type": "stream",
       "stream": "stdout",
       "text": [
        "\n",
        "quiet_wikipedia.txt\n",
        "dress_wikipedia.txt"
       ]
      },
      {
       "output_type": "stream",
       "stream": "stdout",
       "text": [
        "\n",
        "promise_wikipedia.txt"
       ]
      },
      {
       "output_type": "stream",
       "stream": "stdout",
       "text": [
        "\n",
        "aware_wikipedia.txt\n",
        "neighbor_wikipedia.txt\n",
        "complete_wikipedia.txt\n",
        "drive_wikipedia.txt\n",
        "function_wikipedia.txt"
       ]
      },
      {
       "output_type": "stream",
       "stream": "stdout",
       "text": [
        "\n",
        "bone_wikipedia.txt\n",
        "active_wikipedia.txt"
       ]
      },
      {
       "output_type": "stream",
       "stream": "stdout",
       "text": [
        "\n",
        "extend_wikipedia.txt"
       ]
      },
      {
       "output_type": "stream",
       "stream": "stdout",
       "text": [
        "\n",
        "chief_wikipedia.txt\n",
        "average_wikipedia.txt\n",
        "combine_wikipedia.txt"
       ]
      },
      {
       "output_type": "stream",
       "stream": "stdout",
       "text": [
        "\n",
        "wine_wikipedia.txt\n",
        "below_wikipedia.txt"
       ]
      },
      {
       "output_type": "stream",
       "stream": "stdout",
       "text": [
        "\n",
        "cool_wikipedia.txt\n",
        "voter_wikipedia.txt"
       ]
      },
      {
       "output_type": "stream",
       "stream": "stdout",
       "text": [
        "\n",
        "mean_wikipedia.txt\n",
        "demand_wikipedia.txt\n",
        "learning_wikipedia.txt\n",
        "bus_wikipedia.txt"
       ]
      },
      {
       "output_type": "stream",
       "stream": "stdout",
       "text": [
        "\n",
        "hell_wikipedia.txt\n",
        "dangerous_wikipedia.txt\n",
        "remind_wikipedia.txt"
       ]
      },
      {
       "output_type": "stream",
       "stream": "stdout",
       "text": [
        "\n",
        "moral_wikipedia.txt\n",
        "United_wikipedia.txt"
       ]
      },
      {
       "output_type": "stream",
       "stream": "stdout",
       "text": [
        "\n",
        "category_wikipedia.txt\n",
        "relatively_wikipedia.txt"
       ]
      },
      {
       "output_type": "stream",
       "stream": "stdout",
       "text": [
        "\n",
        "victory_wikipedia.txt\n",
        "key_wikipedia.txt\n",
        "academic_wikipedia.txt"
       ]
      },
      {
       "output_type": "stream",
       "stream": "stdout",
       "text": [
        "\n",
        "visit_wikipedia.txt\n",
        "Internet_wikipedia.txt\n",
        "healthy_wikipedia.txt\n",
        "fire_wikipedia.txt"
       ]
      },
      {
       "output_type": "stream",
       "stream": "stdout",
       "text": [
        "\n",
        "negative_wikipedia.txt\n",
        "following_wikipedia.txt"
       ]
      },
      {
       "output_type": "stream",
       "stream": "stdout",
       "text": [
        "\n",
        "historical_wikipedia.txt"
       ]
      },
      {
       "output_type": "stream",
       "stream": "stdout",
       "text": [
        "\n",
        "medicine_wikipedia.txt\n",
        "tour_wikipedia.txt"
       ]
      },
      {
       "output_type": "stream",
       "stream": "stdout",
       "text": [
        "\n",
        "depend_wikipedia.txt\n",
        "photo_wikipedia.txt\n",
        "finding_wikipedia.txt"
       ]
      },
      {
       "output_type": "stream",
       "stream": "stdout",
       "text": [
        "\n",
        "grab_wikipedia.txt\n",
        "direct_wikipedia.txt\n",
        "classroom_wikipedia.txt"
       ]
      },
      {
       "output_type": "stream",
       "stream": "stdout",
       "text": [
        "\n",
        "contact_wikipedia.txt"
       ]
      },
      {
       "output_type": "stream",
       "stream": "stdout",
       "text": [
        "\n",
        "justice_wikipedia.txt\n",
        "participate_wikipedia.txt"
       ]
      },
      {
       "output_type": "stream",
       "stream": "stdout",
       "text": [
        "\n",
        "daily_wikipedia.txt\n",
        "fair_wikipedia.txt\n",
        "pair_wikipedia.txt"
       ]
      },
      {
       "output_type": "stream",
       "stream": "stdout",
       "text": [
        "\n",
        "famous_wikipedia.txt"
       ]
      },
      {
       "output_type": "stream",
       "stream": "stdout",
       "text": [
        "\n",
        "exercise_wikipedia.txt\n",
        "knee_wikipedia.txt"
       ]
      },
      {
       "output_type": "stream",
       "stream": "stdout",
       "text": [
        "\n",
        "flower_wikipedia.txt\n",
        "tape_wikipedia.txt"
       ]
      },
      {
       "output_type": "stream",
       "stream": "stdout",
       "text": [
        "\n",
        "hire_wikipedia.txt\n",
        "familiar_wikipedia.txt"
       ]
      },
      {
       "output_type": "stream",
       "stream": "stdout",
       "text": [
        "\n",
        "appropriate_wikipedia.txt\n",
        "supply_wikipedia.txt"
       ]
      },
      {
       "output_type": "stream",
       "stream": "stdout",
       "text": [
        "\n",
        "fully_wikipedia.txt\n",
        "cut_wikipedia.txt\n",
        "will_wikipedia.txt\n",
        "actor_wikipedia.txt"
       ]
      },
      {
       "output_type": "stream",
       "stream": "stdout",
       "text": [
        "\n",
        "birth_wikipedia.txt\n",
        "search_wikipedia.txt"
       ]
      },
      {
       "output_type": "stream",
       "stream": "stdout",
       "text": [
        "\n",
        "tie_wikipedia.txt\n",
        "democracy_wikipedia.txt"
       ]
      },
      {
       "output_type": "stream",
       "stream": "stdout",
       "text": [
        "\n",
        "eastern_wikipedia.txt\n",
        "primary_wikipedia.txt"
       ]
      },
      {
       "output_type": "stream",
       "stream": "stdout",
       "text": [
        "\n",
        "yesterday_wikipedia.txt\n",
        "circle_wikipedia.txt"
       ]
      },
      {
       "output_type": "stream",
       "stream": "stdout",
       "text": [
        "\n",
        "device_wikipedia.txt"
       ]
      },
      {
       "output_type": "stream",
       "stream": "stdout",
       "text": [
        "\n",
        "progress_wikipedia.txt\n",
        "next_wikipedia.txt\n",
        "front_wikipedia.txt\n",
        "bottom_wikipedia.txt"
       ]
      },
      {
       "output_type": "stream",
       "stream": "stdout",
       "text": [
        "\n",
        "island_wikipedia.txt\n",
        "exchange_wikipedia.txt\n",
        "clean_wikipedia.txt\n",
        "studio_wikipedia.txt\n",
        "train_wikipedia.txt"
       ]
      },
      {
       "output_type": "stream",
       "stream": "stdout",
       "text": [
        "\n",
        "lady_wikipedia.txt"
       ]
      },
      {
       "output_type": "stream",
       "stream": "stdout",
       "text": [
        "\n",
        "colleague_wikipedia.txt\n",
        "application_wikipedia.txt\n",
        "neck_wikipedia.txt\n",
        "lean_wikipedia.txt"
       ]
      },
      {
       "output_type": "stream",
       "stream": "stdout",
       "text": [
        "\n",
        "damage_wikipedia.txt\n",
        "plastic_wikipedia.txt"
       ]
      },
      {
       "output_type": "stream",
       "stream": "stdout",
       "text": [
        "\n",
        "tall_wikipedia.txt\n",
        "plate_wikipedia.txt"
       ]
      },
      {
       "output_type": "stream",
       "stream": "stdout",
       "text": [
        "\n",
        "hate_wikipedia.txt\n",
        "otherwise_wikipedia.txt"
       ]
      },
      {
       "output_type": "stream",
       "stream": "stdout",
       "text": [
        "\n",
        "writing_wikipedia.txt\n",
        "press_wikipedia.txt\n",
        "male_wikipedia.txt"
       ]
      },
      {
       "output_type": "stream",
       "stream": "stdout",
       "text": [
        "\n",
        "start_wikipedia.txt\n",
        "alive_wikipedia.txt\n",
        "expression_wikipedia.txt\n",
        "football_wikipedia.txt"
       ]
      },
      {
       "output_type": "stream",
       "stream": "stdout",
       "text": [
        "\n",
        "intend_wikipedia.txt\n",
        "attack_wikipedia.txt\n",
        "chicken_wikipedia.txt"
       ]
      },
      {
       "output_type": "stream",
       "stream": "stdout",
       "text": [
        "\n",
        "army_wikipedia.txt"
       ]
      },
      {
       "output_type": "stream",
       "stream": "stdout",
       "text": [
        "\n",
        "abuse_wikipedia.txt\n",
        "theater_wikipedia.txt"
       ]
      },
      {
       "output_type": "stream",
       "stream": "stdout",
       "text": [
        "\n",
        "shut_wikipedia.txt\n",
        "map_wikipedia.txt"
       ]
      },
      {
       "output_type": "stream",
       "stream": "stdout",
       "text": [
        "\n",
        "extra_wikipedia.txt\n",
        "session_wikipedia.txt"
       ]
      },
      {
       "output_type": "stream",
       "stream": "stdout",
       "text": [
        "\n",
        "danger_wikipedia.txt\n",
        "welcome_wikipedia.txt"
       ]
      },
      {
       "output_type": "stream",
       "stream": "stdout",
       "text": [
        "\n",
        "domestic_wikipedia.txt\n",
        "lots_wikipedia.txt"
       ]
      },
      {
       "output_type": "stream",
       "stream": "stdout",
       "text": [
        "\n",
        "literature_wikipedia.txt\n",
        "rain_wikipedia.txt"
       ]
      },
      {
       "output_type": "stream",
       "stream": "stdout",
       "text": [
        "\n",
        "desire_wikipedia.txt\n",
        "assessment_wikipedia.txt"
       ]
      },
      {
       "output_type": "stream",
       "stream": "stdout",
       "text": [
        "\n",
        "injury_wikipedia.txt\n",
        "respect_wikipedia.txt"
       ]
      },
      {
       "output_type": "stream",
       "stream": "stdout",
       "text": [
        "\n",
        "northern_wikipedia.txt\n",
        "nod_wikipedia.txt"
       ]
      },
      {
       "output_type": "stream",
       "stream": "stdout",
       "text": [
        "\n",
        "paint_wikipedia.txt\n",
        "fuel_wikipedia.txt"
       ]
      },
      {
       "output_type": "stream",
       "stream": "stdout",
       "text": [
        "\n",
        "leaf_wikipedia.txt"
       ]
      },
      {
       "output_type": "stream",
       "stream": "stdout",
       "text": [
        "\n",
        "direct_wikipedia.txt\n",
        "dry_wikipedia.txt\n",
        "Russian_wikipedia.txt"
       ]
      },
      {
       "output_type": "stream",
       "stream": "stdout",
       "text": [
        "\n",
        "instruction_wikipedia.txt\n",
        "fight_wikipedia.txt\n",
        "pool_wikipedia.txt"
       ]
      },
      {
       "output_type": "stream",
       "stream": "stdout",
       "text": [
        "\n",
        "climb_wikipedia.txt\n",
        "sweet_wikipedia.txt"
       ]
      },
      {
       "output_type": "stream",
       "stream": "stdout",
       "text": [
        "\n",
        "lead_wikipedia.txt\n",
        "engine_wikipedia.txt\n",
        "fourth_wikipedia.txt\n",
        "salt_wikipedia.txt"
       ]
      },
      {
       "output_type": "stream",
       "stream": "stdout",
       "text": [
        "\n",
        "expand_wikipedia.txt\n",
        "importance_wikipedia.txt\n",
        "metal_wikipedia.txt"
       ]
      },
      {
       "output_type": "stream",
       "stream": "stdout",
       "text": [
        "\n",
        "fat_wikipedia.txt\n",
        "ticket_wikipedia.txt"
       ]
      },
      {
       "output_type": "stream",
       "stream": "stdout",
       "text": [
        "\n",
        "software_wikipedia.txt\n",
        "disappear_wikipedia.txt\n",
        "corporate_wikipedia.txt"
       ]
      },
      {
       "output_type": "stream",
       "stream": "stdout",
       "text": [
        "\n",
        "strange_wikipedia.txt\n",
        "lip_wikipedia.txt"
       ]
      },
      {
       "output_type": "stream",
       "stream": "stdout",
       "text": [
        "\n",
        "reading_wikipedia.txt"
       ]
      },
      {
       "output_type": "stream",
       "stream": "stdout",
       "text": [
        "\n",
        "urban_wikipedia.txt\n",
        "mental_wikipedia.txt\n",
        "increasingly_wikipedia.txt"
       ]
      },
      {
       "output_type": "stream",
       "stream": "stdout",
       "text": [
        "\n",
        "lunch_wikipedia.txt\n",
        "educational_wikipedia.txt"
       ]
      },
      {
       "output_type": "stream",
       "stream": "stdout",
       "text": [
        "\n",
        "somewhere_wikipedia.txt\n",
        "farmer_wikipedia.txt"
       ]
      },
      {
       "output_type": "stream",
       "stream": "stdout",
       "text": [
        "\n",
        "above_wikipedia.txt\n",
        "sugar_wikipedia.txt"
       ]
      },
      {
       "output_type": "stream",
       "stream": "stdout",
       "text": [
        "\n",
        "planet_wikipedia.txt\n",
        "favorite_wikipedia.txt"
       ]
      },
      {
       "output_type": "stream",
       "stream": "stdout",
       "text": [
        "\n",
        "explore_wikipedia.txt\n",
        "obtain_wikipedia.txt"
       ]
      },
      {
       "output_type": "stream",
       "stream": "stdout",
       "text": [
        "\n",
        "enemy_wikipedia.txt\n",
        "greatest_wikipedia.txt"
       ]
      },
      {
       "output_type": "stream",
       "stream": "stdout",
       "text": [
        "\n",
        "complex_wikipedia.txt\n",
        "surround_wikipedia.txt"
       ]
      },
      {
       "output_type": "stream",
       "stream": "stdout",
       "text": [
        "\n",
        "athlete_wikipedia.txt\n",
        "invite_wikipedia.txt"
       ]
      },
      {
       "output_type": "stream",
       "stream": "stdout",
       "text": [
        "\n",
        "repeat_wikipedia.txt\n",
        "carefully_wikipedia.txt"
       ]
      },
      {
       "output_type": "stream",
       "stream": "stdout",
       "text": [
        "\n",
        "soul_wikipedia.txt"
       ]
      },
      {
       "output_type": "stream",
       "stream": "stdout",
       "text": [
        "\n",
        "scientific_wikipedia.txt\n",
        "impossible_wikipedia.txt"
       ]
      },
      {
       "output_type": "stream",
       "stream": "stdout",
       "text": [
        "\n",
        "panel_wikipedia.txt\n",
        "meaning_wikipedia.txt"
       ]
      },
      {
       "output_type": "stream",
       "stream": "stdout",
       "text": [
        "\n",
        "mom_wikipedia.txt\n",
        "married_wikipedia.txt"
       ]
      },
      {
       "output_type": "stream",
       "stream": "stdout",
       "text": [
        "\n",
        "alone_wikipedia.txt\n",
        "instrument_wikipedia.txt\n",
        "predict_wikipedia.txt"
       ]
      },
      {
       "output_type": "stream",
       "stream": "stdout",
       "text": [
        "\n",
        "weather_wikipedia.txt\n",
        "presidential_wikipedia.txt"
       ]
      },
      {
       "output_type": "stream",
       "stream": "stdout",
       "text": [
        "\n",
        "emotional_wikipedia.txt\n",
        "commitment_wikipedia.txt"
       ]
      },
      {
       "output_type": "stream",
       "stream": "stdout",
       "text": [
        "\n",
        "Supreme_wikipedia.txt"
       ]
      },
      {
       "output_type": "stream",
       "stream": "stdout",
       "text": [
        "\n",
        "bear_wikipedia.txt\n",
        "pocket_wikipedia.txt"
       ]
      },
      {
       "output_type": "stream",
       "stream": "stdout",
       "text": [
        "\n",
        "thin_wikipedia.txt\n",
        "temperature_wikipedia.txt"
       ]
      },
      {
       "output_type": "stream",
       "stream": "stdout",
       "text": [
        "\n",
        "surprise_wikipedia.txt\n",
        "poll_wikipedia.txt"
       ]
      },
      {
       "output_type": "stream",
       "stream": "stdout",
       "text": [
        "\n",
        "proposal_wikipedia.txt\n",
        "consequence_wikipedia.txt"
       ]
      },
      {
       "output_type": "stream",
       "stream": "stdout",
       "text": [
        "\n",
        "half_wikipedia.txt\n",
        "breath_wikipedia.txt\n",
        "sight_wikipedia.txt"
       ]
      },
      {
       "output_type": "stream",
       "stream": "stdout",
       "text": [
        "\n",
        "cover_wikipedia.txt\n",
        "balance_wikipedia.txt\n",
        "adopt_wikipedia.txt"
       ]
      },
      {
       "output_type": "stream",
       "stream": "stdout",
       "text": [
        "\n",
        "minority_wikipedia.txt\n",
        "straight_wikipedia.txt\n",
        "attempt_wikipedia.txt"
       ]
      },
      {
       "output_type": "stream",
       "stream": "stdout",
       "text": [
        "\n",
        "connect_wikipedia.txt\n",
        "works_wikipedia.txt\n",
        "teaching_wikipedia.txt"
       ]
      },
      {
       "output_type": "stream",
       "stream": "stdout",
       "text": [
        "\n",
        "belong_wikipedia.txt\n",
        "aid_wikipedia.txt"
       ]
      },
      {
       "output_type": "stream",
       "stream": "stdout",
       "text": [
        "\n",
        "advice_wikipedia.txt\n",
        "okay_wikipedia.txt"
       ]
      },
      {
       "output_type": "stream",
       "stream": "stdout",
       "text": [
        "\n",
        "photograph_wikipedia.txt\n",
        "empty_wikipedia.txt"
       ]
      },
      {
       "output_type": "stream",
       "stream": "stdout",
       "text": [
        "\n",
        "regional_wikipedia.txt\n",
        "trail_wikipedia.txt"
       ]
      },
      {
       "output_type": "stream",
       "stream": "stdout",
       "text": [
        "\n",
        "novel_wikipedia.txt\n",
        "code_wikipedia.txt"
       ]
      },
      {
       "output_type": "stream",
       "stream": "stdout",
       "text": [
        "\n",
        "somehow_wikipedia.txt\n",
        "organize_wikipedia.txt"
       ]
      },
      {
       "output_type": "stream",
       "stream": "stdout",
       "text": [
        "\n",
        "jury_wikipedia.txt"
       ]
      },
      {
       "output_type": "stream",
       "stream": "stdout",
       "text": [
        "\n",
        "breast_wikipedia.txt"
       ]
      },
      {
       "output_type": "stream",
       "stream": "stdout",
       "text": [
        "\n",
        "Iraqi_wikipedia.txt\n",
        "human_wikipedia.txt\n",
        "acknowledge_wikipedia.txt"
       ]
      },
      {
       "output_type": "stream",
       "stream": "stdout",
       "text": [
        "\n",
        "theme_wikipedia.txt\n",
        "storm_wikipedia.txt"
       ]
      },
      {
       "output_type": "stream",
       "stream": "stdout",
       "text": [
        "\n",
        "union_wikipedia.txt\n",
        "record_wikipedia.txt\n",
        "desk_wikipedia.txt"
       ]
      },
      {
       "output_type": "stream",
       "stream": "stdout",
       "text": [
        "\n",
        "fear_wikipedia.txt\n",
        "thanks_wikipedia.txt\n",
        "fruit_wikipedia.txt"
       ]
      },
      {
       "output_type": "stream",
       "stream": "stdout",
       "text": [
        "\n",
        "under_wikipedia.txt\n",
        "expensive_wikipedia.txt"
       ]
      },
      {
       "output_type": "stream",
       "stream": "stdout",
       "text": [
        "\n",
        "yellow_wikipedia.txt\n",
        "conclusion_wikipedia.txt"
       ]
      },
      {
       "output_type": "stream",
       "stream": "stdout",
       "text": [
        "\n",
        "prime_wikipedia.txt\n",
        "shadow_wikipedia.txt"
       ]
      },
      {
       "output_type": "stream",
       "stream": "stdout",
       "text": [
        "\n",
        "struggle_wikipedia.txt\n",
        "conclude_wikipedia.txt"
       ]
      },
      {
       "output_type": "stream",
       "stream": "stdout",
       "text": [
        "\n",
        "analyst_wikipedia.txt\n",
        "dance_wikipedia.txt\n",
        "limit_wikipedia.txt\n",
        "like_wikipedia.txt\n",
        "regulation_wikipedia.txt"
       ]
      },
      {
       "output_type": "stream",
       "stream": "stdout",
       "text": [
        "\n",
        "being_wikipedia.txt"
       ]
      },
      {
       "output_type": "stream",
       "stream": "stdout",
       "text": [
        "\n",
        "last_wikipedia.txt\n",
        "ring_wikipedia.txt\n",
        "largely_wikipedia.txt"
       ]
      },
      {
       "output_type": "stream",
       "stream": "stdout",
       "text": [
        "\n",
        "shift_wikipedia.txt\n",
        "revenue_wikipedia.txt"
       ]
      },
      {
       "output_type": "stream",
       "stream": "stdout",
       "text": [
        "\n",
        "mark_wikipedia.txt\n",
        "locate_wikipedia.txt"
       ]
      },
      {
       "output_type": "stream",
       "stream": "stdout",
       "text": [
        "\n",
        "county_wikipedia.txt\n",
        "appearance_wikipedia.txt"
       ]
      },
      {
       "output_type": "stream",
       "stream": "stdout",
       "text": [
        "\n",
        "package_wikipedia.txt\n",
        "difficulty_wikipedia.txt"
       ]
      },
      {
       "output_type": "stream",
       "stream": "stdout",
       "text": [
        "\n",
        "bridge_wikipedia.txt\n",
        "recommend_wikipedia.txt"
       ]
      },
      {
       "output_type": "stream",
       "stream": "stdout",
       "text": [
        "\n",
        "obvious_wikipedia.txt\n",
        "train_wikipedia.txt\n",
        "basically_wikipedia.txt\n",
        "e-mail_wikipedia.txt"
       ]
      },
      {
       "output_type": "stream",
       "stream": "stdout",
       "text": [
        "\n",
        "generate_wikipedia.txt"
       ]
      },
      {
       "output_type": "stream",
       "stream": "stdout",
       "text": [
        "\n",
        "anymore_wikipedia.txt\n",
        "propose_wikipedia.txt"
       ]
      },
      {
       "output_type": "stream",
       "stream": "stdout",
       "text": [
        "\n",
        "thinking_wikipedia.txt\n",
        "possibly_wikipedia.txt"
       ]
      },
      {
       "output_type": "stream",
       "stream": "stdout",
       "text": [
        "\n",
        "trend_wikipedia.txt\n",
        "visitor_wikipedia.txt"
       ]
      },
      {
       "output_type": "stream",
       "stream": "stdout",
       "text": [
        "\n",
        "loan_wikipedia.txt\n",
        "currently_wikipedia.txt"
       ]
      },
      {
       "output_type": "stream",
       "stream": "stdout",
       "text": [
        "\n",
        "comfortable_wikipedia.txt\n",
        "investor_wikipedia.txt"
       ]
      },
      {
       "output_type": "stream",
       "stream": "stdout",
       "text": [
        "\n",
        "but_wikipedia.txt\n",
        "profit_wikipedia.txt"
       ]
      },
      {
       "output_type": "stream",
       "stream": "stdout",
       "text": [
        "\n",
        "angry_wikipedia.txt\n",
        "crew_wikipedia.txt"
       ]
      },
      {
       "output_type": "stream",
       "stream": "stdout",
       "text": [
        "\n",
        "deep_wikipedia.txt\n",
        "accident_wikipedia.txt"
       ]
      },
      {
       "output_type": "stream",
       "stream": "stdout",
       "text": [
        "\n",
        "male_wikipedia.txt\n",
        "meal_wikipedia.txt\n",
        "hearing_wikipedia.txt"
       ]
      },
      {
       "output_type": "stream",
       "stream": "stdout",
       "text": [
        "\n",
        "traffic_wikipedia.txt"
       ]
      },
      {
       "output_type": "stream",
       "stream": "stdout",
       "text": [
        "\n",
        "muscle_wikipedia.txt\n",
        "notion_wikipedia.txt"
       ]
      },
      {
       "output_type": "stream",
       "stream": "stdout",
       "text": [
        "\n",
        "capture_wikipedia.txt\n",
        "prefer_wikipedia.txt"
       ]
      },
      {
       "output_type": "stream",
       "stream": "stdout",
       "text": [
        "\n",
        "truly_wikipedia.txt\n",
        "earth_wikipedia.txt"
       ]
      },
      {
       "output_type": "stream",
       "stream": "stdout",
       "text": [
        "\n",
        "Japanese_wikipedia.txt\n",
        "chest_wikipedia.txt\n",
        "search_wikipedia.txt\n",
        "thick_wikipedia.txt"
       ]
      },
      {
       "output_type": "stream",
       "stream": "stdout",
       "text": [
        "\n",
        "cash_wikipedia.txt\n",
        "museum_wikipedia.txt"
       ]
      },
      {
       "output_type": "stream",
       "stream": "stdout",
       "text": [
        "\n",
        "beauty_wikipedia.txt\n",
        "emergency_wikipedia.txt"
       ]
      },
      {
       "output_type": "stream",
       "stream": "stdout",
       "text": [
        "\n",
        "unique_wikipedia.txt\n",
        "feature_wikipedia.txt\n",
        "internal_wikipedia.txt"
       ]
      },
      {
       "output_type": "stream",
       "stream": "stdout",
       "text": [
        "\n",
        "ethnic_wikipedia.txt\n",
        "link_wikipedia.txt"
       ]
      },
      {
       "output_type": "stream",
       "stream": "stdout",
       "text": [
        "\n",
        "stress_wikipedia.txt\n",
        "content_wikipedia.txt"
       ]
      },
      {
       "output_type": "stream",
       "stream": "stdout",
       "text": [
        "\n",
        "select_wikipedia.txt\n",
        "root_wikipedia.txt"
       ]
      },
      {
       "output_type": "stream",
       "stream": "stdout",
       "text": [
        "\n",
        "nose_wikipedia.txt\n",
        "declare_wikipedia.txt"
       ]
      },
      {
       "output_type": "stream",
       "stream": "stdout",
       "text": [
        "\n",
        "outside_wikipedia.txt\n",
        "appreciate_wikipedia.txt\n",
        "actual_wikipedia.txt"
       ]
      },
      {
       "output_type": "stream",
       "stream": "stdout",
       "text": [
        "\n",
        "bottle_wikipedia.txt\n",
        "hardly_wikipedia.txt\n",
        "setting_wikipedia.txt"
       ]
      },
      {
       "output_type": "stream",
       "stream": "stdout",
       "text": [
        "\n",
        "launch_wikipedia.txt\n",
        "dress_wikipedia.txt\n",
        "file_wikipedia.txt"
       ]
      },
      {
       "output_type": "stream",
       "stream": "stdout",
       "text": [
        "\n",
        "sick_wikipedia.txt\n",
        "outcome_wikipedia.txt"
       ]
      },
      {
       "output_type": "stream",
       "stream": "stdout",
       "text": [
        "\n",
        "ad_wikipedia.txt\n",
        "defend_wikipedia.txt"
       ]
      },
      {
       "output_type": "stream",
       "stream": "stdout",
       "text": [
        "\n",
        "matter_wikipedia.txt\n",
        "judge_wikipedia.txt\n",
        "duty_wikipedia.txt\n",
        "sheet_wikipedia.txt"
       ]
      },
      {
       "output_type": "stream",
       "stream": "stdout",
       "text": [
        "\n",
        "ought_wikipedia.txt\n",
        "ensure_wikipedia.txt"
       ]
      },
      {
       "output_type": "stream",
       "stream": "stdout",
       "text": [
        "\n",
        "Catholic_wikipedia.txt\n",
        "extremely_wikipedia.txt"
       ]
      },
      {
       "output_type": "stream",
       "stream": "stdout",
       "text": [
        "\n",
        "extent_wikipedia.txt\n",
        "component_wikipedia.txt"
       ]
      },
      {
       "output_type": "stream",
       "stream": "stdout",
       "text": [
        "\n",
        "mix_wikipedia.txt\n",
        "long-term_wikipedia.txt"
       ]
      },
      {
       "output_type": "stream",
       "stream": "stdout",
       "text": [
        "\n",
        "slow_wikipedia.txt\n",
        "contrast_wikipedia.txt\n",
        "zone_wikipedia.txt\n",
        "wake_wikipedia.txt"
       ]
      },
      {
       "output_type": "stream",
       "stream": "stdout",
       "text": [
        "\n",
        "challenge_wikipedia.txt\n",
        "airport_wikipedia.txt\n",
        "chief_wikipedia.txt\n",
        "brown_wikipedia.txt\n",
        "standard_wikipedia.txt\n",
        "shirt_wikipedia.txt\n",
        "pilot_wikipedia.txt\n",
        "warn_wikipedia.txt\n",
        "ultimately_wikipedia.txt\n",
        "cat_wikipedia.txt\n",
        "contribution_wikipedia.txt\n",
        "capacity_wikipedia.txt\n",
        "ourselves_wikipedia.txt\n",
        "estate_wikipedia.txt\n",
        "guide_wikipedia.txt\n",
        "circumstance_wikipedia.txt\n",
        "snow_wikipedia.txt\n",
        "English_wikipedia.txt\n",
        "politician_wikipedia.txt\n",
        "steal_wikipedia.txt\n",
        "pursue_wikipedia.txt\n",
        "slip_wikipedia.txt\n",
        "percentage_wikipedia.txt\n",
        "meat_wikipedia.txt\n",
        "funny_wikipedia.txt\n",
        "neither_wikipedia.txt"
       ]
      },
      {
       "output_type": "stream",
       "stream": "stdout",
       "text": [
        "\n",
        "soil_wikipedia.txt\n",
        "influence_wikipedia.txt\n",
        "surgery_wikipedia.txt\n",
        "correct_wikipedia.txt\n",
        "Jewish_wikipedia.txt\n",
        "blame_wikipedia.txt\n",
        "estimate_wikipedia.txt\n",
        "due_wikipedia.txt\n",
        "basketball_wikipedia.txt\n",
        "late_wikipedia.txt\n",
        "golf_wikipedia.txt\n",
        "investigate_wikipedia.txt\n",
        "crazy_wikipedia.txt\n",
        "significantly_wikipedia.txt\n",
        "chain_wikipedia.txt\n",
        "address_wikipedia.txt\n",
        "branch_wikipedia.txt\n",
        "combination_wikipedia.txt\n",
        "just_wikipedia.txt\n",
        "frequently_wikipedia.txt"
       ]
      },
      {
       "output_type": "stream",
       "stream": "stdout",
       "text": [
        "\n",
        "governor_wikipedia.txt\n",
        "relief_wikipedia.txt"
       ]
      },
      {
       "output_type": "stream",
       "stream": "stdout",
       "text": [
        "\n",
        "user_wikipedia.txt\n",
        "dad_wikipedia.txt"
       ]
      },
      {
       "output_type": "stream",
       "stream": "stdout",
       "text": [
        "\n",
        "kick_wikipedia.txt\n",
        "part_wikipedia.txt\n",
        "manner_wikipedia.txt"
       ]
      },
      {
       "output_type": "stream",
       "stream": "stdout",
       "text": [
        "\n",
        "ancient_wikipedia.txt"
       ]
      },
      {
       "output_type": "stream",
       "stream": "stdout",
       "text": [
        "\n",
        "silence_wikipedia.txt\n",
        "rating_wikipedia.txt"
       ]
      },
      {
       "output_type": "stream",
       "stream": "stdout",
       "text": [
        "\n",
        "golden_wikipedia.txt\n",
        "motion_wikipedia.txt"
       ]
      },
      {
       "output_type": "stream",
       "stream": "stdout",
       "text": [
        "\n",
        "German_wikipedia.txt\n",
        "gender_wikipedia.txt"
       ]
      },
      {
       "output_type": "stream",
       "stream": "stdout",
       "text": [
        "\n",
        "solve_wikipedia.txt\n",
        "fee_wikipedia.txt"
       ]
      },
      {
       "output_type": "stream",
       "stream": "stdout",
       "text": [
        "\n",
        "landscape_wikipedia.txt\n",
        "used_wikipedia.txt"
       ]
      },
      {
       "output_type": "stream",
       "stream": "stdout",
       "text": [
        "\n",
        "bowl_wikipedia.txt\n",
        "equal_wikipedia.txt"
       ]
      },
      {
       "output_type": "stream",
       "stream": "stdout",
       "text": [
        "\n",
        "long_wikipedia.txt\n",
        "official_wikipedia.txt\n",
        "forth_wikipedia.txt"
       ]
      },
      {
       "output_type": "stream",
       "stream": "stdout",
       "text": [
        "\n",
        "frame_wikipedia.txt\n",
        "typical_wikipedia.txt"
       ]
      },
      {
       "output_type": "stream",
       "stream": "stdout",
       "text": [
        "\n",
        "except_wikipedia.txt\n",
        "conservative_wikipedia.txt"
       ]
      },
      {
       "output_type": "stream",
       "stream": "stdout",
       "text": [
        "\n",
        "eliminate_wikipedia.txt\n",
        "host_wikipedia.txt"
       ]
      },
      {
       "output_type": "stream",
       "stream": "stdout",
       "text": [
        "\n",
        "hall_wikipedia.txt"
       ]
      },
      {
       "output_type": "stream",
       "stream": "stdout",
       "text": [
        "\n",
        "trust_wikipedia.txt\n",
        "ocean_wikipedia.txt"
       ]
      },
      {
       "output_type": "stream",
       "stream": "stdout",
       "text": [
        "\n",
        "score_wikipedia.txt\n",
        "row_wikipedia.txt\n",
        "producer_wikipedia.txt"
       ]
      },
      {
       "output_type": "stream",
       "stream": "stdout",
       "text": [
        "\n",
        "afford_wikipedia.txt\n",
        "meanwhile_wikipedia.txt"
       ]
      },
      {
       "output_type": "stream",
       "stream": "stdout",
       "text": [
        "\n",
        "regime_wikipedia.txt"
       ]
      },
      {
       "output_type": "stream",
       "stream": "stdout",
       "text": [
        "\n",
        "division_wikipedia.txt\n",
        "confirm_wikipedia.txt"
       ]
      },
      {
       "output_type": "stream",
       "stream": "stdout",
       "text": [
        "\n",
        "fix_wikipedia.txt\n",
        "appeal_wikipedia.txt"
       ]
      },
      {
       "output_type": "stream",
       "stream": "stdout",
       "text": [
        "\n",
        "mirror_wikipedia.txt"
       ]
      },
      {
       "output_type": "stream",
       "stream": "stdout",
       "text": [
        "\n",
        "tooth_wikipedia.txt\n",
        "smart_wikipedia.txt"
       ]
      },
      {
       "output_type": "stream",
       "stream": "stdout",
       "text": [
        "\n",
        "length_wikipedia.txt\n",
        "entirely_wikipedia.txt"
       ]
      },
      {
       "output_type": "stream",
       "stream": "stdout",
       "text": [
        "\n",
        "rely_wikipedia.txt\n",
        "topic_wikipedia.txt"
       ]
      },
      {
       "output_type": "stream",
       "stream": "stdout",
       "text": [
        "\n",
        "complain_wikipedia.txt\n",
        "issue_wikipedia.txt\n",
        "variable_wikipedia.txt"
       ]
      },
      {
       "output_type": "stream",
       "stream": "stdout",
       "text": [
        "\n",
        "back_wikipedia.txt\n",
        "range_wikipedia.txt\n",
        "telephone_wikipedia.txt\n",
        "perception_wikipedia.txt"
       ]
      },
      {
       "output_type": "stream",
       "stream": "stdout",
       "text": [
        "\n",
        "attract_wikipedia.txt\n",
        "confidence_wikipedia.txt"
       ]
      },
      {
       "output_type": "stream",
       "stream": "stdout",
       "text": [
        "\n",
        "bedroom_wikipedia.txt\n",
        "secret_wikipedia.txt\n",
        "debt_wikipedia.txt"
       ]
      },
      {
       "output_type": "stream",
       "stream": "stdout",
       "text": [
        "\n",
        "rare_wikipedia.txt\n",
        "his_wikipedia.txt\n",
        "tank_wikipedia.txt"
       ]
      },
      {
       "output_type": "stream",
       "stream": "stdout",
       "text": [
        "\n",
        "nurse_wikipedia.txt\n",
        "coverage_wikipedia.txt"
       ]
      },
      {
       "output_type": "stream",
       "stream": "stdout",
       "text": [
        "\n",
        "opposition_wikipedia.txt\n",
        "aside_wikipedia.txt"
       ]
      },
      {
       "output_type": "stream",
       "stream": "stdout",
       "text": [
        "\n",
        "anywhere_wikipedia.txt\n",
        "bond_wikipedia.txt"
       ]
      },
      {
       "output_type": "stream",
       "stream": "stdout",
       "text": [
        "\n",
        "file_wikipedia.txt\n",
        "pleasure_wikipedia.txt\n",
        "master_wikipedia.txt"
       ]
      },
      {
       "output_type": "stream",
       "stream": "stdout",
       "text": [
        "\n",
        "era_wikipedia.txt\n",
        "requirement_wikipedia.txt\n",
        "check_wikipedia.txt"
       ]
      },
      {
       "output_type": "stream",
       "stream": "stdout",
       "text": [
        "\n",
        "stand_wikipedia.txt\n",
        "fun_wikipedia.txt\n",
        "expectation_wikipedia.txt"
       ]
      },
      {
       "output_type": "stream",
       "stream": "stdout",
       "text": [
        "\n",
        "wing_wikipedia.txt\n",
        "separate_wikipedia.txt"
       ]
      },
      {
       "output_type": "stream",
       "stream": "stdout",
       "text": [
        "\n",
        "now_wikipedia.txt\n",
        "clear_wikipedia.txt\n",
        "struggle_wikipedia.txt\n",
        "mean_wikipedia.txt\n",
        "somewhat_wikipedia.txt"
       ]
      },
      {
       "output_type": "stream",
       "stream": "stdout",
       "text": [
        "\n",
        "pour_wikipedia.txt\n",
        "stir_wikipedia.txt"
       ]
      },
      {
       "output_type": "stream",
       "stream": "stdout",
       "text": [
        "\n",
        "judgment_wikipedia.txt"
       ]
      },
      {
       "output_type": "stream",
       "stream": "stdout",
       "text": [
        "\n",
        "clean_wikipedia.txt\n",
        "except_wikipedia.txt\n",
        "beer_wikipedia.txt\n",
        "English_wikipedia.txt\n",
        "reference_wikipedia.txt"
       ]
      },
      {
       "output_type": "stream",
       "stream": "stdout",
       "text": [
        "\n",
        "tear_wikipedia.txt\n",
        "doubt_wikipedia.txt\n",
        "grant_wikipedia.txt"
       ]
      },
      {
       "output_type": "stream",
       "stream": "stdout",
       "text": [
        "\n",
        "seriously_wikipedia.txt\n",
        "account_wikipedia.txt\n",
        "minister_wikipedia.txt"
       ]
      },
      {
       "output_type": "stream",
       "stream": "stdout",
       "text": [
        "\n",
        "totally_wikipedia.txt\n",
        "hero_wikipedia.txt"
       ]
      },
      {
       "output_type": "stream",
       "stream": "stdout",
       "text": [
        "\n",
        "industrial_wikipedia.txt\n",
        "cloud_wikipedia.txt"
       ]
      },
      {
       "output_type": "stream",
       "stream": "stdout",
       "text": [
        "\n",
        "stretch_wikipedia.txt\n",
        "winner_wikipedia.txt"
       ]
      },
      {
       "output_type": "stream",
       "stream": "stdout",
       "text": [
        "\n",
        "volume_wikipedia.txt\n",
        "travel_wikipedia.txt\n",
        "seed_wikipedia.txt"
       ]
      },
      {
       "output_type": "stream",
       "stream": "stdout",
       "text": [
        "\n",
        "surprised_wikipedia.txt"
       ]
      },
      {
       "output_type": "stream",
       "stream": "stdout",
       "text": [
        "\n",
        "rest_wikipedia.txt\n",
        "fashion_wikipedia.txt\n",
        "pepper_wikipedia.txt"
       ]
      },
      {
       "output_type": "stream",
       "stream": "stdout",
       "text": [
        "\n",
        "separate_wikipedia.txt\n",
        "busy_wikipedia.txt"
       ]
      },
      {
       "output_type": "stream",
       "stream": "stdout",
       "text": [
        "\n",
        "intervention_wikipedia.txt\n",
        "copy_wikipedia.txt"
       ]
      },
      {
       "output_type": "stream",
       "stream": "stdout",
       "text": [
        "\n",
        "tip_wikipedia.txt\n",
        "below_wikipedia.txt\n",
        "cheap_wikipedia.txt"
       ]
      },
      {
       "output_type": "stream",
       "stream": "stdout",
       "text": [
        "\n",
        "aim_wikipedia.txt\n",
        "cite_wikipedia.txt"
       ]
      },
      {
       "output_type": "stream",
       "stream": "stdout",
       "text": [
        "\n",
        "welfare_wikipedia.txt\n",
        "vegetable_wikipedia.txt"
       ]
      },
      {
       "output_type": "stream",
       "stream": "stdout",
       "text": [
        "\n",
        "gray_wikipedia.txt\n",
        "dish_wikipedia.txt"
       ]
      },
      {
       "output_type": "stream",
       "stream": "stdout",
       "text": [
        "\n",
        "beach_wikipedia.txt\n",
        "improvement_wikipedia.txt"
       ]
      },
      {
       "output_type": "stream",
       "stream": "stdout",
       "text": [
        "\n",
        "everywhere_wikipedia.txt\n",
        "opening_wikipedia.txt"
       ]
      },
      {
       "output_type": "stream",
       "stream": "stdout",
       "text": [
        "\n",
        "overall_wikipedia.txt\n",
        "divide_wikipedia.txt"
       ]
      },
      {
       "output_type": "stream",
       "stream": "stdout",
       "text": [
        "\n",
        "initial_wikipedia.txt\n",
        "terrible_wikipedia.txt"
       ]
      },
      {
       "output_type": "stream",
       "stream": "stdout",
       "text": [
        "\n",
        "oppose_wikipedia.txt\n",
        "contemporary_wikipedia.txt"
       ]
      },
      {
       "output_type": "stream",
       "stream": "stdout",
       "text": [
        "\n",
        "route_wikipedia.txt"
       ]
      },
      {
       "output_type": "stream",
       "stream": "stdout",
       "text": [
        "\n",
        "multiple_wikipedia.txt\n",
        "essential_wikipedia.txt"
       ]
      },
      {
       "output_type": "stream",
       "stream": "stdout",
       "text": [
        "\n",
        "question_wikipedia.txt\n",
        "league_wikipedia.txt\n",
        "criminal_wikipedia.txt"
       ]
      },
      {
       "output_type": "stream",
       "stream": "stdout",
       "text": [
        "\n",
        "careful_wikipedia.txt\n",
        "core_wikipedia.txt"
       ]
      },
      {
       "output_type": "stream",
       "stream": "stdout",
       "text": [
        "\n",
        "upper_wikipedia.txt\n",
        "rush_wikipedia.txt"
       ]
      },
      {
       "output_type": "stream",
       "stream": "stdout",
       "text": [
        "\n",
        "necessarily_wikipedia.txt\n",
        "specifically_wikipedia.txt"
       ]
      },
      {
       "output_type": "stream",
       "stream": "stdout",
       "text": [
        "\n",
        "tired_wikipedia.txt\n",
        "rise_wikipedia.txt\n",
        "tie_wikipedia.txt\n",
        "employ_wikipedia.txt"
       ]
      },
      {
       "output_type": "stream",
       "stream": "stdout",
       "text": [
        "\n",
        "holiday_wikipedia.txt\n",
        "dance_wikipedia.txt\n",
        "vast_wikipedia.txt"
       ]
      },
      {
       "output_type": "stream",
       "stream": "stdout",
       "text": [
        "\n",
        "resolution_wikipedia.txt\n",
        "household_wikipedia.txt"
       ]
      },
      {
       "output_type": "stream",
       "stream": "stdout",
       "text": [
        "\n",
        "fewer_wikipedia.txt\n",
        "abortion_wikipedia.txt"
       ]
      },
      {
       "output_type": "stream",
       "stream": "stdout",
       "text": [
        "\n",
        "apart_wikipedia.txt"
       ]
      },
      {
       "output_type": "stream",
       "stream": "stdout",
       "text": [
        "\n",
        "witness_wikipedia.txt\n",
        "match_wikipedia.txt"
       ]
      },
      {
       "output_type": "stream",
       "stream": "stdout",
       "text": [
        "\n",
        "barely_wikipedia.txt\n",
        "sector_wikipedia.txt"
       ]
      },
      {
       "output_type": "stream",
       "stream": "stdout",
       "text": [
        "\n",
        "representative_wikipedia.txt\n",
        "lack_wikipedia.txt\n",
        "beneath_wikipedia.txt"
       ]
      },
      {
       "output_type": "stream",
       "stream": "stdout",
       "text": [
        "\n",
        "beside_wikipedia.txt\n",
        "black_wikipedia.txt\n",
        "incident_wikipedia.txt"
       ]
      },
      {
       "output_type": "stream",
       "stream": "stdout",
       "text": [
        "\n",
        "limited_wikipedia.txt\n",
        "proud_wikipedia.txt"
       ]
      },
      {
       "output_type": "stream",
       "stream": "stdout",
       "text": [
        "\n",
        "flow_wikipedia.txt\n",
        "faculty_wikipedia.txt"
       ]
      },
      {
       "output_type": "stream",
       "stream": "stdout",
       "text": [
        "\n",
        "increased_wikipedia.txt\n",
        "waste_wikipedia.txt"
       ]
      },
      {
       "output_type": "stream",
       "stream": "stdout",
       "text": [
        "\n",
        "merely_wikipedia.txt\n",
        "mass_wikipedia.txt"
       ]
      },
      {
       "output_type": "stream",
       "stream": "stdout",
       "text": [
        "\n",
        "emphasize_wikipedia.txt\n",
        "experiment_wikipedia.txt"
       ]
      },
      {
       "output_type": "stream",
       "stream": "stdout",
       "text": [
        "\n",
        "definitely_wikipedia.txt\n",
        "bomb_wikipedia.txt"
       ]
      },
      {
       "output_type": "stream",
       "stream": "stdout",
       "text": [
        "\n",
        "enormous_wikipedia.txt\n",
        "tone_wikipedia.txt"
       ]
      },
      {
       "output_type": "stream",
       "stream": "stdout",
       "text": [
        "\n",
        "liberal_wikipedia.txt\n",
        "massive_wikipedia.txt"
       ]
      },
      {
       "output_type": "stream",
       "stream": "stdout",
       "text": [
        "\n",
        "engineer_wikipedia.txt"
       ]
      },
      {
       "output_type": "stream",
       "stream": "stdout",
       "text": [
        "\n",
        "wheel_wikipedia.txt"
       ]
      },
      {
       "output_type": "stream",
       "stream": "stdout",
       "text": [
        "\n",
        "female_wikipedia.txt\n",
        "decline_wikipedia.txt\n",
        "invest_wikipedia.txt\n",
        "promise_wikipedia.txt\n",
        "cable_wikipedia.txt"
       ]
      },
      {
       "output_type": "stream",
       "stream": "stdout",
       "text": [
        "\n",
        "towards_wikipedia.txt"
       ]
      },
      {
       "output_type": "stream",
       "stream": "stdout",
       "text": [
        "\n",
        "expose_wikipedia.txt\n",
        "rural_wikipedia.txt"
       ]
      },
      {
       "output_type": "stream",
       "stream": "stdout",
       "text": [
        "\n",
        "AIDS_wikipedia.txt\n",
        "Jew_wikipedia.txt"
       ]
      },
      {
       "output_type": "stream",
       "stream": "stdout",
       "text": [
        "\n",
        "narrow_wikipedia.txt\n",
        "cream_wikipedia.txt"
       ]
      },
      {
       "output_type": "stream",
       "stream": "stdout",
       "text": [
        "\n",
        "secretary_wikipedia.txt\n",
        "gate_wikipedia.txt"
       ]
      },
      {
       "output_type": "stream",
       "stream": "stdout",
       "text": [
        "\n",
        "solid_wikipedia.txt\n",
        "hill_wikipedia.txt"
       ]
      },
      {
       "output_type": "stream",
       "stream": "stdout",
       "text": [
        "\n",
        "typically_wikipedia.txt\n",
        "noise_wikipedia.txt"
       ]
      },
      {
       "output_type": "stream",
       "stream": "stdout",
       "text": [
        "\n",
        "grass_wikipedia.txt\n",
        "unfortunately_wikipedia.txt"
       ]
      },
      {
       "output_type": "stream",
       "stream": "stdout",
       "text": [
        "\n",
        "hat_wikipedia.txt\n",
        "legislation_wikipedia.txt"
       ]
      },
      {
       "output_type": "stream",
       "stream": "stdout",
       "text": [
        "\n",
        "succeed_wikipedia.txt\n",
        "either_wikipedia.txt\n",
        "celebrate_wikipedia.txt"
       ]
      },
      {
       "output_type": "stream",
       "stream": "stdout",
       "text": [
        "\n",
        "achievement_wikipedia.txt\n",
        "fishing_wikipedia.txt"
       ]
      },
      {
       "output_type": "stream",
       "stream": "stdout",
       "text": [
        "\n",
        "drink_wikipedia.txt\n",
        "accuse_wikipedia.txt\n",
        "hand_wikipedia.txt\n",
        "useful_wikipedia.txt"
       ]
      },
      {
       "output_type": "stream",
       "stream": "stdout",
       "text": [
        "\n",
        "land_wikipedia.txt\n",
        "secret_wikipedia.txt\n",
        "reject_wikipedia.txt"
       ]
      },
      {
       "output_type": "stream",
       "stream": "stdout",
       "text": [
        "\n",
        "talent_wikipedia.txt\n",
        "taste_wikipedia.txt"
       ]
      },
      {
       "output_type": "stream",
       "stream": "stdout",
       "text": [
        "\n",
        "characteristic_wikipedia.txt\n",
        "milk_wikipedia.txt"
       ]
      },
      {
       "output_type": "stream",
       "stream": "stdout",
       "text": [
        "\n",
        "escape_wikipedia.txt\n",
        "cast_wikipedia.txt"
       ]
      },
      {
       "output_type": "stream",
       "stream": "stdout",
       "text": [
        "\n",
        "sentence_wikipedia.txt"
       ]
      },
      {
       "output_type": "stream",
       "stream": "stdout",
       "text": [
        "\n",
        "unusual_wikipedia.txt\n",
        "closely_wikipedia.txt"
       ]
      },
      {
       "output_type": "stream",
       "stream": "stdout",
       "text": [
        "\n",
        "convince_wikipedia.txt\n",
        "height_wikipedia.txt"
       ]
      },
      {
       "output_type": "stream",
       "stream": "stdout",
       "text": [
        "\n",
        "physician_wikipedia.txt"
       ]
      },
      {
       "output_type": "stream",
       "stream": "stdout",
       "text": [
        "\n",
        "assess_wikipedia.txt\n",
        "sleep_wikipedia.txt\n",
        "plenty_wikipedia.txt"
       ]
      },
      {
       "output_type": "stream",
       "stream": "stdout",
       "text": [
        "\n",
        "ride_wikipedia.txt\n",
        "virtually_wikipedia.txt\n",
        "first_wikipedia.txt\n",
        "addition_wikipedia.txt"
       ]
      },
      {
       "output_type": "stream",
       "stream": "stdout",
       "text": [
        "\n",
        "sharp_wikipedia.txt\n",
        "creative_wikipedia.txt"
       ]
      },
      {
       "output_type": "stream",
       "stream": "stdout",
       "text": [
        "\n",
        "lower_wikipedia.txt\n",
        "behind_wikipedia.txt\n",
        "approve_wikipedia.txt"
       ]
      },
      {
       "output_type": "stream",
       "stream": "stdout",
       "text": [
        "\n",
        "explanation_wikipedia.txt\n",
        "outside_wikipedia.txt\n",
        "gay_wikipedia.txt"
       ]
      },
      {
       "output_type": "stream",
       "stream": "stdout",
       "text": [
        "\n",
        "campus_wikipedia.txt\n",
        "proper_wikipedia.txt"
       ]
      },
      {
       "output_type": "stream",
       "stream": "stdout",
       "text": [
        "\n",
        "live_wikipedia.txt\n",
        "guilty_wikipedia.txt"
       ]
      },
      {
       "output_type": "stream",
       "stream": "stdout",
       "text": [
        "\n",
        "living_wikipedia.txt\n",
        "acquire_wikipedia.txt\n",
        "compete_wikipedia.txt"
       ]
      },
      {
       "output_type": "stream",
       "stream": "stdout",
       "text": [
        "\n",
        "technical_wikipedia.txt\n",
        "plus_wikipedia.txt"
       ]
      },
      {
       "output_type": "stream",
       "stream": "stdout",
       "text": [
        "\n",
        "mind_wikipedia.txt\n",
        "potential_wikipedia.txt\n",
        "immigrant_wikipedia.txt\n",
        "weak_wikipedia.txt"
       ]
      },
      {
       "output_type": "stream",
       "stream": "stdout",
       "text": [
        "\n",
        "illegal_wikipedia.txt\n",
        "hi_wikipedia.txt"
       ]
      },
      {
       "output_type": "stream",
       "stream": "stdout",
       "text": [
        "\n",
        "alternative_wikipedia.txt\n",
        "interaction_wikipedia.txt"
       ]
      },
      {
       "output_type": "stream",
       "stream": "stdout",
       "text": [
        "\n",
        "column_wikipedia.txt\n",
        "personality_wikipedia.txt"
       ]
      },
      {
       "output_type": "stream",
       "stream": "stdout",
       "text": [
        "\n",
        "signal_wikipedia.txt\n",
        "curriculum_wikipedia.txt"
       ]
      },
      {
       "output_type": "stream",
       "stream": "stdout",
       "text": [
        "\n",
        "list_wikipedia.txt\n",
        "honor_wikipedia.txt\n",
        "passenger_wikipedia.txt"
       ]
      },
      {
       "output_type": "stream",
       "stream": "stdout",
       "text": [
        "\n",
        "assistance_wikipedia.txt\n",
        "forever_wikipedia.txt"
       ]
      },
      {
       "output_type": "stream",
       "stream": "stdout",
       "text": [
        "\n",
        "fun_wikipedia.txt\n",
        "regard_wikipedia.txt\n",
        "Israeli_wikipedia.txt\n",
        "association_wikipedia.txt"
       ]
      },
      {
       "output_type": "stream",
       "stream": "stdout",
       "text": [
        "\n",
        "twenty_wikipedia.txt\n",
        "knock_wikipedia.txt\n",
        "review_wikipedia.txt\n",
        "wrap_wikipedia.txt"
       ]
      },
      {
       "output_type": "stream",
       "stream": "stdout",
       "text": [
        "\n",
        "lab_wikipedia.txt\n",
        "offer_wikipedia.txt\n",
        "display_wikipedia.txt\n",
        "criticism_wikipedia.txt\n",
        "asset_wikipedia.txt"
       ]
      },
      {
       "output_type": "stream",
       "stream": "stdout",
       "text": [
        "\n",
        "depression_wikipedia.txt\n",
        "spiritual_wikipedia.txt"
       ]
      },
      {
       "output_type": "stream",
       "stream": "stdout",
       "text": [
        "\n",
        "musical_wikipedia.txt\n",
        "journalist_wikipedia.txt\n",
        "prayer_wikipedia.txt"
       ]
      },
      {
       "output_type": "stream",
       "stream": "stdout",
       "text": [
        "\n",
        "suspect_wikipedia.txt\n",
        "scholar_wikipedia.txt\n",
        "warning_wikipedia.txt"
       ]
      },
      {
       "output_type": "stream",
       "stream": "stdout",
       "text": [
        "\n",
        "climate_wikipedia.txt\n",
        "cheese_wikipedia.txt"
       ]
      },
      {
       "output_type": "stream",
       "stream": "stdout",
       "text": [
        "\n",
        "observation_wikipedia.txt\n",
        "childhood_wikipedia.txt"
       ]
      },
      {
       "output_type": "stream",
       "stream": "stdout",
       "text": [
        "\n",
        "payment_wikipedia.txt\n",
        "sir_wikipedia.txt"
       ]
      },
      {
       "output_type": "stream",
       "stream": "stdout",
       "text": [
        "\n",
        "permit_wikipedia.txt"
       ]
      },
      {
       "output_type": "stream",
       "stream": "stdout",
       "text": [
        "\n",
        "cigarette_wikipedia.txt"
       ]
      },
      {
       "output_type": "stream",
       "stream": "stdout",
       "text": [
        "\n",
        "definition_wikipedia.txt"
       ]
      },
      {
       "output_type": "stream",
       "stream": "stdout",
       "text": [
        "\n",
        "priority_wikipedia.txt"
       ]
      },
      {
       "output_type": "stream",
       "stream": "stdout",
       "text": [
        "\n",
        "bread_wikipedia.txt"
       ]
      },
      {
       "output_type": "stream",
       "stream": "stdout",
       "text": [
        "\n",
        "creation_wikipedia.txt\n",
        "graduate_wikipedia.txt"
       ]
      },
      {
       "output_type": "stream",
       "stream": "stdout",
       "text": [
        "\n",
        "request_wikipedia.txt\n",
        "emotion_wikipedia.txt"
       ]
      },
      {
       "output_type": "stream",
       "stream": "stdout",
       "text": [
        "\n",
        "scream_wikipedia.txt\n",
        "dramatic_wikipedia.txt"
       ]
      },
      {
       "output_type": "stream",
       "stream": "stdout",
       "text": [
        "\n",
        "universe_wikipedia.txt"
       ]
      },
      {
       "output_type": "stream",
       "stream": "stdout",
       "text": [
        "\n",
        "gap_wikipedia.txt"
       ]
      },
      {
       "output_type": "stream",
       "stream": "stdout",
       "text": [
        "\n",
        "excellent_wikipedia.txt\n",
        "deeply_wikipedia.txt"
       ]
      },
      {
       "output_type": "stream",
       "stream": "stdout",
       "text": [
        "\n",
        "prosecutor_wikipedia.txt\n",
        "mark_wikipedia.txt\n",
        "green_wikipedia.txt\n",
        "lucky_wikipedia.txt"
       ]
      },
      {
       "output_type": "stream",
       "stream": "stdout",
       "text": [
        "\n",
        "drag_wikipedia.txt\n",
        "airline_wikipedia.txt"
       ]
      },
      {
       "output_type": "stream",
       "stream": "stdout",
       "text": [
        "\n",
        "library_wikipedia.txt\n",
        "agenda_wikipedia.txt"
       ]
      },
      {
       "output_type": "stream",
       "stream": "stdout",
       "text": [
        "\n",
        "recover_wikipedia.txt"
       ]
      },
      {
       "output_type": "stream",
       "stream": "stdout",
       "text": [
        "\n",
        "factory_wikipedia.txt"
       ]
      },
      {
       "output_type": "stream",
       "stream": "stdout",
       "text": [
        "\n",
        "selection_wikipedia.txt\n",
        "primarily_wikipedia.txt"
       ]
      },
      {
       "output_type": "stream",
       "stream": "stdout",
       "text": [
        "\n",
        "roof_wikipedia.txt\n",
        "unable_wikipedia.txt"
       ]
      },
      {
       "output_type": "stream",
       "stream": "stdout",
       "text": [
        "\n",
        "expense_wikipedia.txt\n",
        "initiative_wikipedia.txt"
       ]
      },
      {
       "output_type": "stream",
       "stream": "stdout",
       "text": [
        "\n",
        "diet_wikipedia.txt\n",
        "arrest_wikipedia.txt"
       ]
      },
      {
       "output_type": "stream",
       "stream": "stdout",
       "text": [
        "\n",
        "funding_wikipedia.txt\n",
        "therapy_wikipedia.txt"
       ]
      },
      {
       "output_type": "stream",
       "stream": "stdout",
       "text": [
        "\n",
        "wash_wikipedia.txt\n",
        "schedule_wikipedia.txt"
       ]
      },
      {
       "output_type": "stream",
       "stream": "stdout",
       "text": [
        "\n",
        "sad_wikipedia.txt\n",
        "brief_wikipedia.txt\n",
        "housing_wikipedia.txt"
       ]
      },
      {
       "output_type": "stream",
       "stream": "stdout",
       "text": [
        "\n",
        "post_wikipedia.txt\n",
        "purchase_wikipedia.txt"
       ]
      },
      {
       "output_type": "stream",
       "stream": "stdout",
       "text": [
        "\n",
        "existing_wikipedia.txt"
       ]
      },
      {
       "output_type": "stream",
       "stream": "stdout",
       "text": [
        "\n",
        "dark_wikipedia.txt\n",
        "steel_wikipedia.txt"
       ]
      },
      {
       "output_type": "stream",
       "stream": "stdout",
       "text": [
        "\n",
        "regarding_wikipedia.txt\n",
        "shout_wikipedia.txt"
       ]
      },
      {
       "output_type": "stream",
       "stream": "stdout",
       "text": [
        "\n",
        "remaining_wikipedia.txt\n",
        "visual_wikipedia.txt\n",
        "fairly_wikipedia.txt"
       ]
      },
      {
       "output_type": "stream",
       "stream": "stdout",
       "text": [
        "\n",
        "chip_wikipedia.txt\n",
        "violent_wikipedia.txt"
       ]
      },
      {
       "output_type": "stream",
       "stream": "stdout",
       "text": [
        "\n",
        "silent_wikipedia.txt\n",
        "suppose_wikipedia.txt"
       ]
      },
      {
       "output_type": "stream",
       "stream": "stdout",
       "text": [
        "\n",
        "self_wikipedia.txt\n",
        "bike_wikipedia.txt"
       ]
      },
      {
       "output_type": "stream",
       "stream": "stdout",
       "text": [
        "\n",
        "tea_wikipedia.txt"
       ]
      },
      {
       "output_type": "stream",
       "stream": "stdout",
       "text": [
        "\n",
        "perceive_wikipedia.txt"
       ]
      },
      {
       "output_type": "stream",
       "stream": "stdout",
       "text": [
        "\n",
        "comparison_wikipedia.txt\n",
        "settlement_wikipedia.txt"
       ]
      },
      {
       "output_type": "stream",
       "stream": "stdout",
       "text": [
        "\n",
        "layer_wikipedia.txt\n",
        "planning_wikipedia.txt"
       ]
      },
      {
       "output_type": "stream",
       "stream": "stdout",
       "text": [
        "\n",
        "far_wikipedia.txt\n",
        "description_wikipedia.txt"
       ]
      },
      {
       "output_type": "stream",
       "stream": "stdout",
       "text": [
        "\n",
        "later_wikipedia.txt\n",
        "slow_wikipedia.txt\n",
        "slide_wikipedia.txt\n",
        "widely_wikipedia.txt"
       ]
      },
      {
       "output_type": "stream",
       "stream": "stdout",
       "text": [
        "\n",
        "wedding_wikipedia.txt\n",
        "inform_wikipedia.txt"
       ]
      },
      {
       "output_type": "stream",
       "stream": "stdout",
       "text": [
        "\n",
        "portion_wikipedia.txt\n",
        "territory_wikipedia.txt"
       ]
      },
      {
       "output_type": "stream",
       "stream": "stdout",
       "text": [
        "\n",
        "immediate_wikipedia.txt"
       ]
      },
      {
       "output_type": "stream",
       "stream": "stdout",
       "text": [
        "\n",
        "opponent_wikipedia.txt\n",
        "abandon_wikipedia.txt"
       ]
      },
      {
       "output_type": "stream",
       "stream": "stdout",
       "text": [
        "\n",
        "link_wikipedia.txt\n",
        "mass_wikipedia.txt\n",
        "lake_wikipedia.txt\n",
        "transform_wikipedia.txt"
       ]
      },
      {
       "output_type": "stream",
       "stream": "stdout",
       "text": [
        "\n",
        "tension_wikipedia.txt\n",
        "display_wikipedia.txt\n",
        "leading_wikipedia.txt"
       ]
      },
      {
       "output_type": "stream",
       "stream": "stdout",
       "text": [
        "\n",
        "bother_wikipedia.txt\n",
        "consist_wikipedia.txt"
       ]
      },
      {
       "output_type": "stream",
       "stream": "stdout",
       "text": [
        "\n",
        "alcohol_wikipedia.txt\n",
        "enable_wikipedia.txt"
       ]
      },
      {
       "output_type": "stream",
       "stream": "stdout",
       "text": [
        "\n",
        "bend_wikipedia.txt\n",
        "saving_wikipedia.txt"
       ]
      },
      {
       "output_type": "stream",
       "stream": "stdout",
       "text": [
        "\n",
        "gain_wikipedia.txt\n",
        "desert_wikipedia.txt\n",
        "shall_wikipedia.txt"
       ]
      },
      {
       "output_type": "stream",
       "stream": "stdout",
       "text": [
        "\n",
        "error_wikipedia.txt\n",
        "release_wikipedia.txt\n",
        "cop_wikipedia.txt"
       ]
      },
      {
       "output_type": "stream",
       "stream": "stdout",
       "text": [
        "\n",
        "Arab_wikipedia.txt\n",
        "double_wikipedia.txt"
       ]
      },
      {
       "output_type": "stream",
       "stream": "stdout",
       "text": [
        "\n",
        "walk_wikipedia.txt\n",
        "sand_wikipedia.txt\n",
        "Spanish_wikipedia.txt"
       ]
      },
      {
       "output_type": "stream",
       "stream": "stdout",
       "text": [
        "\n",
        "rule_wikipedia.txt\n",
        "hit_wikipedia.txt\n",
        "print_wikipedia.txt\n",
        "preserve_wikipedia.txt"
       ]
      },
      {
       "output_type": "stream",
       "stream": "stdout",
       "text": [
        "\n",
        "passage_wikipedia.txt\n",
        "formal_wikipedia.txt"
       ]
      },
      {
       "output_type": "stream",
       "stream": "stdout",
       "text": [
        "\n",
        "transition_wikipedia.txt\n",
        "existence_wikipedia.txt"
       ]
      },
      {
       "output_type": "stream",
       "stream": "stdout",
       "text": [
        "\n",
        "album_wikipedia.txt\n",
        "participation_wikipedia.txt\n",
        "arrange_wikipedia.txt"
       ]
      },
      {
       "output_type": "stream",
       "stream": "stdout",
       "text": [
        "\n",
        "atmosphere_wikipedia.txt\n",
        "joint_wikipedia.txt"
       ]
      },
      {
       "output_type": "stream",
       "stream": "stdout",
       "text": [
        "\n",
        "reply_wikipedia.txt\n",
        "cycle_wikipedia.txt"
       ]
      },
      {
       "output_type": "stream",
       "stream": "stdout",
       "text": [
        "\n",
        "opposite_wikipedia.txt\n",
        "lock_wikipedia.txt"
       ]
      },
      {
       "output_type": "stream",
       "stream": "stdout",
       "text": [
        "\n",
        "whole_wikipedia.txt\n",
        "deserve_wikipedia.txt\n",
        "consistent_wikipedia.txt"
       ]
      },
      {
       "output_type": "stream",
       "stream": "stdout",
       "text": [
        "\n",
        "resistance_wikipedia.txt\n",
        "discovery_wikipedia.txt"
       ]
      },
      {
       "output_type": "stream",
       "stream": "stdout",
       "text": [
        "\n",
        "tear_wikipedia.txt\n",
        "exposure_wikipedia.txt\n",
        "pose_wikipedia.txt"
       ]
      },
      {
       "output_type": "stream",
       "stream": "stdout",
       "text": [
        "\n",
        "stream_wikipedia.txt\n",
        "sale_wikipedia.txt\n",
        "trust_wikipedia.txt"
       ]
      },
      {
       "output_type": "stream",
       "stream": "stdout",
       "text": [
        "\n",
        "benefit_wikipedia.txt\n",
        "pot_wikipedia.txt\n",
        "grand_wikipedia.txt"
       ]
      },
      {
       "output_type": "stream",
       "stream": "stdout",
       "text": [
        "\n",
        "mine_wikipedia.txt\n",
        "hello_wikipedia.txt"
       ]
      },
      {
       "output_type": "stream",
       "stream": "stdout",
       "text": [
        "\n",
        "coalition_wikipedia.txt\n",
        "tale_wikipedia.txt"
       ]
      },
      {
       "output_type": "stream",
       "stream": "stdout",
       "text": [
        "\n",
        "knife_wikipedia.txt\n",
        "resolve_wikipedia.txt"
       ]
      },
      {
       "output_type": "stream",
       "stream": "stdout",
       "text": [
        "\n",
        "racial_wikipedia.txt\n",
        "phase_wikipedia.txt"
       ]
      },
      {
       "output_type": "stream",
       "stream": "stdout",
       "text": [
        "\n",
        "present_wikipedia.txt\n",
        "joke_wikipedia.txt\n",
        "coat_wikipedia.txt"
       ]
      },
      {
       "output_type": "stream",
       "stream": "stdout",
       "text": [
        "\n",
        "Mexican_wikipedia.txt\n",
        "symptom_wikipedia.txt"
       ]
      },
      {
       "output_type": "stream",
       "stream": "stdout",
       "text": [
        "\n",
        "contact_wikipedia.txt\n",
        "manufacturer_wikipedia.txt\n",
        "philosophy_wikipedia.txt"
       ]
      },
      {
       "output_type": "stream",
       "stream": "stdout",
       "text": [
        "\n",
        "potato_wikipedia.txt\n",
        "interview_wikipedia.txt\n",
        "foundation_wikipedia.txt"
       ]
      },
      {
       "output_type": "stream",
       "stream": "stdout",
       "text": [
        "\n",
        "quote_wikipedia.txt\n",
        "online_wikipedia.txt"
       ]
      },
      {
       "output_type": "stream",
       "stream": "stdout",
       "text": [
        "\n",
        "pass_wikipedia.txt\n",
        "negotiation_wikipedia.txt"
       ]
      },
      {
       "output_type": "stream",
       "stream": "stdout",
       "text": [
        "\n",
        "good_wikipedia.txt\n",
        "urge_wikipedia.txt\n",
        "occasion_wikipedia.txt"
       ]
      },
      {
       "output_type": "stream",
       "stream": "stdout",
       "text": [
        "\n",
        "dust_wikipedia.txt\n",
        "breathe_wikipedia.txt"
       ]
      },
      {
       "output_type": "stream",
       "stream": "stdout",
       "text": [
        "\n",
        "elect_wikipedia.txt"
       ]
      },
      {
       "output_type": "stream",
       "stream": "stdout",
       "text": [
        "\n",
        "investigator_wikipedia.txt"
       ]
      },
      {
       "output_type": "stream",
       "stream": "stdout",
       "text": [
        "\n",
        "jacket_wikipedia.txt\n",
        "glad_wikipedia.txt"
       ]
      },
      {
       "output_type": "stream",
       "stream": "stdout",
       "text": [
        "\n",
        "ordinary_wikipedia.txt\n",
        "reduction_wikipedia.txt"
       ]
      },
      {
       "output_type": "stream",
       "stream": "stdout",
       "text": [
        "\n",
        "rarely_wikipedia.txt\n",
        "shift_wikipedia.txt\n",
        "pack_wikipedia.txt\n",
        "suicide_wikipedia.txt"
       ]
      },
      {
       "output_type": "stream",
       "stream": "stdout",
       "text": [
        "\n",
        "numerous_wikipedia.txt"
       ]
      },
      {
       "output_type": "stream",
       "stream": "stdout",
       "text": [
        "\n",
        "touch_wikipedia.txt\n",
        "substance_wikipedia.txt"
       ]
      },
      {
       "output_type": "stream",
       "stream": "stdout",
       "text": [
        "\n",
        "discipline_wikipedia.txt\n",
        "elsewhere_wikipedia.txt"
       ]
      },
      {
       "output_type": "stream",
       "stream": "stdout",
       "text": [
        "\n",
        "iron_wikipedia.txt"
       ]
      },
      {
       "output_type": "stream",
       "stream": "stdout",
       "text": [
        "\n",
        "practical_wikipedia.txt\n",
        "moreover_wikipedia.txt"
       ]
      },
      {
       "output_type": "stream",
       "stream": "stdout",
       "text": [
        "\n",
        "passion_wikipedia.txt\n",
        "volunteer_wikipedia.txt"
       ]
      },
      {
       "output_type": "stream",
       "stream": "stdout",
       "text": [
        "\n",
        "implement_wikipedia.txt\n",
        "essentially_wikipedia.txt"
       ]
      },
      {
       "output_type": "stream",
       "stream": "stdout",
       "text": [
        "\n",
        "gene_wikipedia.txt\n",
        "enforcement_wikipedia.txt"
       ]
      },
      {
       "output_type": "stream",
       "stream": "stdout",
       "text": [
        "\n",
        "vs_wikipedia.txt\n",
        "sauce_wikipedia.txt"
       ]
      },
      {
       "output_type": "stream",
       "stream": "stdout",
       "text": [
        "\n",
        "independence_wikipedia.txt"
       ]
      },
      {
       "output_type": "stream",
       "stream": "stdout",
       "text": [
        "\n",
        "marketing_wikipedia.txt\n",
        "priest_wikipedia.txt"
       ]
      },
      {
       "output_type": "stream",
       "stream": "stdout",
       "text": [
        "\n",
        "amazing_wikipedia.txt\n",
        "intense_wikipedia.txt"
       ]
      },
      {
       "output_type": "stream",
       "stream": "stdout",
       "text": [
        "\n",
        "advance_wikipedia.txt\n",
        "employer_wikipedia.txt"
       ]
      },
      {
       "output_type": "stream",
       "stream": "stdout",
       "text": [
        "\n",
        "shock_wikipedia.txt\n",
        "inspire_wikipedia.txt"
       ]
      },
      {
       "output_type": "stream",
       "stream": "stdout",
       "text": [
        "\n",
        "adjust_wikipedia.txt\n",
        "retire_wikipedia.txt"
       ]
      },
      {
       "output_type": "stream",
       "stream": "stdout",
       "text": [
        "\n",
        "sure_wikipedia.txt\n",
        "visible_wikipedia.txt\n",
        "kiss_wikipedia.txt"
       ]
      },
      {
       "output_type": "stream",
       "stream": "stdout",
       "text": [
        "\n",
        "illness_wikipedia.txt\n",
        "cap_wikipedia.txt\n",
        "habit_wikipedia.txt"
       ]
      },
      {
       "output_type": "stream",
       "stream": "stdout",
       "text": [
        "\n",
        "competitive_wikipedia.txt\n",
        "juice_wikipedia.txt"
       ]
      },
      {
       "output_type": "stream",
       "stream": "stdout",
       "text": [
        "\n",
        "congressional_wikipedia.txt\n",
        "involvement_wikipedia.txt\n",
        "dominate_wikipedia.txt"
       ]
      },
      {
       "output_type": "stream",
       "stream": "stdout",
       "text": [
        "\n",
        "previously_wikipedia.txt\n",
        "whenever_wikipedia.txt"
       ]
      },
      {
       "output_type": "stream",
       "stream": "stdout",
       "text": [
        "\n",
        "transfer_wikipedia.txt\n",
        "analyze_wikipedia.txt"
       ]
      },
      {
       "output_type": "stream",
       "stream": "stdout",
       "text": [
        "\n",
        "another_wikipedia.txt\n",
        "attach_wikipedia.txt\n",
        "for_wikipedia.txt\n",
        "Indian_wikipedia.txt\n",
        "disaster_wikipedia.txt"
       ]
      },
      {
       "output_type": "stream",
       "stream": "stdout",
       "text": [
        "\n",
        "parking_wikipedia.txt"
       ]
      },
      {
       "output_type": "stream",
       "stream": "stdout",
       "text": [
        "\n",
        "prospect_wikipedia.txt\n",
        "boss_wikipedia.txt"
       ]
      },
      {
       "output_type": "stream",
       "stream": "stdout",
       "text": [
        "\n",
        "complaint_wikipedia.txt\n",
        "championship_wikipedia.txt\n",
        "coach_wikipedia.txt\n",
        "exercise_wikipedia.txt\n",
        "fundamental_wikipedia.txt"
       ]
      },
      {
       "output_type": "stream",
       "stream": "stdout",
       "text": [
        "\n",
        "severe_wikipedia.txt\n",
        "enhance_wikipedia.txt\n",
        "mystery_wikipedia.txt"
       ]
      },
      {
       "output_type": "stream",
       "stream": "stdout",
       "text": [
        "\n",
        "impose_wikipedia.txt\n",
        "poverty_wikipedia.txt"
       ]
      },
      {
       "output_type": "stream",
       "stream": "stdout",
       "text": [
        "\n",
        "other_wikipedia.txt\n",
        "entry_wikipedia.txt\n",
        "fat_wikipedia.txt\n",
        "spending_wikipedia.txt\n",
        "king_wikipedia.txt"
       ]
      },
      {
       "output_type": "stream",
       "stream": "stdout",
       "text": [
        "\n",
        "evaluate_wikipedia.txt"
       ]
      },
      {
       "output_type": "stream",
       "stream": "stdout",
       "text": [
        "\n",
        "symbol_wikipedia.txt\n",
        "still_wikipedia.txt\n",
        "trade_wikipedia.txt\n",
        "maker_wikipedia.txt"
       ]
      },
      {
       "output_type": "stream",
       "stream": "stdout",
       "text": [
        "\n",
        "mood_wikipedia.txt\n",
        "accomplish_wikipedia.txt"
       ]
      },
      {
       "output_type": "stream",
       "stream": "stdout",
       "text": [
        "\n",
        "emphasis_wikipedia.txt\n",
        "illustrate_wikipedia.txt"
       ]
      }
     ]
    },
    {
     "cell_type": "code",
     "collapsed": false,
     "input": [],
     "language": "python",
     "metadata": {},
     "outputs": []
    }
   ],
   "metadata": {}
  }
 ]
}
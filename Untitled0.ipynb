{
 "metadata": {
  "name": "",
  "signature": "sha256:d5747b36f7cc6a165c7a9f496be9ab5ecb120b69c5de260b4271d681d11c974e"
 },
 "nbformat": 3,
 "nbformat_minor": 0,
 "worksheets": [
  {
   "cells": [
    {
     "cell_type": "code",
     "collapsed": false,
     "input": [
      "from hello.models import Body_Point\n",
      "for b in Body_Point.objects.all():\n",
      "    print b.name"
     ],
     "language": "python",
     "metadata": {},
     "outputs": [
      {
       "output_type": "stream",
       "stream": "stdout",
       "text": [
        "head\n"
       ]
      }
     ],
     "prompt_number": 25
    },
    {
     "cell_type": "code",
     "collapsed": false,
     "input": [
      "import django\n",
      "django.setup()\n",
      "import os\n",
      "from hello.models import Body_Point\n",
      "\n",
      "print os.getcwd()\n",
      "f = open(\"gettingstarted/media/body_part.csv\")\n",
      "rows = str(f.readlines()[0]).split('\\r')\n",
      "for row in rows[2:]:\n",
      "    cells = row.split(',')\n",
      "    print int(cells[0]), cells[1], cells[2], float(cells[3]), float(cells[4]), float(cells[5])\n",
      "    bp = Body_Point(int(cells[0]), cells[1], cells[2], float(cells[3]), float(cells[4]), float(cells[5]))\n",
      "    bp.save()\n",
      "    \n",
      "for b in  Body_Point.objects.all():\n",
      "    print b.name"
     ],
     "language": "python",
     "metadata": {},
     "outputs": [
      {
       "output_type": "stream",
       "stream": "stdout",
       "text": [
        "/Users/andrewbishara/Desktop/website_medical_visual/python-getting-started\n",
        "2 chest 51185008 0.0 3.5 0.0\n",
        "3"
       ]
      },
      {
       "output_type": "stream",
       "stream": "stdout",
       "text": [
        " heart 80891009 1.0 3.0 1.0\n",
        "4"
       ]
      },
      {
       "output_type": "stream",
       "stream": "stdout",
       "text": [
        " left hand 85151006 4.0 0.0 0.0\n",
        "5"
       ]
      },
      {
       "output_type": "stream",
       "stream": "stdout",
       "text": [
        " right hand 78791008 -4.0 0.0 0.0\n",
        "6"
       ]
      },
      {
       "output_type": "stream",
       "stream": "stdout",
       "text": [
        " right foot 7769000 -2.5 -5.0 0.0\n",
        "7"
       ]
      },
      {
       "output_type": "stream",
       "stream": "stdout",
       "text": [
        " left foot 22335008 2.5 -5.0 0.0\n",
        "8"
       ]
      },
      {
       "output_type": "stream",
       "stream": "stdout",
       "text": [
        " pelvis 12921003 0.0 0.5 0.0\n",
        "head"
       ]
      },
      {
       "output_type": "stream",
       "stream": "stdout",
       "text": [
        "\n",
        "chest\n",
        "heart\n",
        "left hand\n",
        "right hand\n",
        "right foot\n",
        "left foot\n",
        "pelvis\n"
       ]
      }
     ],
     "prompt_number": 3
    },
    {
     "cell_type": "code",
     "collapsed": false,
     "input": [
      "body_point = Body_Point()\n",
      "body_point.save()"
     ],
     "language": "python",
     "metadata": {},
     "outputs": []
    }
   ],
   "metadata": {}
  }
 ]
}
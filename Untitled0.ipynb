{
 "metadata": {
  "name": "",
  "signature": "sha256:7eec76ceb995688cfdd8fe3aab1f5ac7a7790b2baac14a2f1179013a71973191"
 },
 "nbformat": 3,
 "nbformat_minor": 0,
 "worksheets": [
  {
   "cells": [
    {
     "cell_type": "code",
     "collapsed": false,
     "input": [
      "import django\n",
      "django.setup()\n",
      "from hello.models import Body_Point\n",
      "for b in Body_Point.objects.all():\n",
      "    print b.organs.all()[0].name"
     ],
     "language": "python",
     "metadata": {},
     "outputs": [
      {
       "output_type": "stream",
       "stream": "stdout",
       "text": [
        "[<Organ: Organ object>]\n",
        "[]\n",
        "[]"
       ]
      },
      {
       "output_type": "stream",
       "stream": "stdout",
       "text": [
        "\n",
        "[]\n",
        "[]"
       ]
      },
      {
       "output_type": "stream",
       "stream": "stdout",
       "text": [
        "\n",
        "[]"
       ]
      },
      {
       "output_type": "stream",
       "stream": "stdout",
       "text": [
        "\n",
        "[]"
       ]
      },
      {
       "output_type": "stream",
       "stream": "stdout",
       "text": [
        "\n",
        "[]\n"
       ]
      }
     ],
     "prompt_number": 2
    },
    {
     "cell_type": "code",
     "collapsed": false,
     "input": [
      "import django\n",
      "django.setup()\n",
      "import os\n",
      "from hello.models import Body_Point\n",
      "\n",
      "print os.getcwd()\n",
      "f = open(\"gettingstarted/media/body_part.csv\")\n",
      "rows = str(f.readlines()[0]).split('\\r')\n",
      "for row in rows[2:]:\n",
      "    cells = row.split(',')\n",
      "    print int(cells[0]), cells[1], cells[2], float(cells[3]), float(cells[4]), float(cells[5])\n",
      "    bp = Body_Point(int(cells[0]), cells[1], cells[2], float(cells[3]), float(cells[4]), float(cells[5]))\n",
      "    bp.save()\n",
      "    \n",
      "for b in  Body_Point.objects.all():\n",
      "    print b.name"
     ],
     "language": "python",
     "metadata": {},
     "outputs": [
      {
       "output_type": "stream",
       "stream": "stdout",
       "text": [
        "/Users/andrewbishara/Desktop/website_medical_visual/python-getting-started\n",
        "2 chest 51185008 0.0 3.5 0.0\n",
        "3"
       ]
      },
      {
       "output_type": "stream",
       "stream": "stdout",
       "text": [
        " heart 80891009 1.0 3.0 1.0\n",
        "4"
       ]
      },
      {
       "output_type": "stream",
       "stream": "stdout",
       "text": [
        " left hand 85151006 4.0 0.0 0.0\n",
        "5"
       ]
      },
      {
       "output_type": "stream",
       "stream": "stdout",
       "text": [
        " right hand 78791008 -4.0 0.0 0.0\n",
        "6"
       ]
      },
      {
       "output_type": "stream",
       "stream": "stdout",
       "text": [
        " right foot 7769000 -2.5 -5.0 0.0\n",
        "7"
       ]
      },
      {
       "output_type": "stream",
       "stream": "stdout",
       "text": [
        " left foot 22335008 2.5 -5.0 0.0\n",
        "8"
       ]
      },
      {
       "output_type": "stream",
       "stream": "stdout",
       "text": [
        " pelvis 12921003 0.0 0.5 0.0\n",
        "head"
       ]
      },
      {
       "output_type": "stream",
       "stream": "stdout",
       "text": [
        "\n",
        "chest\n",
        "heart\n",
        "left hand\n",
        "right hand\n",
        "right foot\n",
        "left foot\n",
        "pelvis\n"
       ]
      }
     ],
     "prompt_number": 3
    },
    {
     "cell_type": "code",
     "collapsed": false,
     "input": [
      "import django\n",
      "django.setup()\n",
      "import os\n",
      "from hello.models import Organ\n",
      "\n",
      "print os.getcwd()\n",
      "f = open(\"gettingstarted/media/organ.csv\")\n",
      "rows = str(f.readlines()[0]).split('\\r')\n",
      "for row in rows[1:]:\n",
      "    cells = row.split(',')\n",
      "    print int(cells[0]), cells[1], cells[2]\n",
      "    bp = Organ(int(cells[0]), cells[1], cells[2])\n",
      "    bp.save()\n",
      "    \n",
      "for b in  Organ.objects.all():\n",
      "    print b.name"
     ],
     "language": "python",
     "metadata": {},
     "outputs": [
      {
       "output_type": "stream",
       "stream": "stdout",
       "text": [
        "/Users/andrewbishara/Desktop/website_medical_visual/python-getting-started\n",
        "1 heart 302509004\n",
        "2"
       ]
      },
      {
       "output_type": "stream",
       "stream": "stdout",
       "text": [
        " brain 258335003\n",
        "heart"
       ]
      },
      {
       "output_type": "stream",
       "stream": "stdout",
       "text": [
        "\n",
        "brain\n"
       ]
      }
     ],
     "prompt_number": 2
    },
    {
     "cell_type": "code",
     "collapsed": false,
     "input": [
      "import django\n",
      "django.setup()\n",
      "import os\n",
      "from hello.models import Specialty\n",
      "\n",
      "print os.getcwd()\n",
      "f = open(\"gettingstarted/media/specialty.csv\")\n",
      "rows = str(f.readlines()[0]).split('\\r')\n",
      "for row in rows[1:]:\n",
      "    cells = row.split(',')\n",
      "    print int(cells[0]), cells[1]\n",
      "    bp = Specialty(int(cells[0]), cells[1])\n",
      "    bp.save()\n",
      "    \n",
      "for b in  Specialty.objects.all():\n",
      "    print b.name"
     ],
     "language": "python",
     "metadata": {},
     "outputs": [
      {
       "output_type": "stream",
       "stream": "stdout",
       "text": [
        "/Users/andrewbishara/Desktop/website_medical_visual/python-getting-started\n",
        "1 cardiology\n",
        "2"
       ]
      },
      {
       "output_type": "stream",
       "stream": "stdout",
       "text": [
        " pulmonology\n",
        "3"
       ]
      },
      {
       "output_type": "stream",
       "stream": "stdout",
       "text": [
        " neurology\n",
        "4"
       ]
      },
      {
       "output_type": "stream",
       "stream": "stdout",
       "text": [
        " anesthesiology\n",
        "5"
       ]
      },
      {
       "output_type": "stream",
       "stream": "stdout",
       "text": [
        " rheumatology\n",
        "6"
       ]
      },
      {
       "output_type": "stream",
       "stream": "stdout",
       "text": [
        " general surgery\n",
        "7"
       ]
      },
      {
       "output_type": "stream",
       "stream": "stdout",
       "text": [
        " dermatology\n",
        "8"
       ]
      },
      {
       "output_type": "stream",
       "stream": "stdout",
       "text": [
        " pathology\n",
        "9"
       ]
      },
      {
       "output_type": "stream",
       "stream": "stdout",
       "text": [
        " radiology\n",
        "10"
       ]
      },
      {
       "output_type": "stream",
       "stream": "stdout",
       "text": [
        " Neurosurgery\n",
        "cardiology"
       ]
      },
      {
       "output_type": "stream",
       "stream": "stdout",
       "text": [
        "\n",
        "pulmonology\n",
        "neurology\n",
        "anesthesiology\n",
        "rheumatology\n",
        "general surgery\n",
        "dermatology\n",
        "pathology\n",
        "radiology\n",
        "Neurosurgery\n"
       ]
      }
     ],
     "prompt_number": 3
    },
    {
     "cell_type": "code",
     "collapsed": false,
     "input": [
      "o = Organ(3, \"kidney\", \"181414000\")\n",
      "o.save()"
     ],
     "language": "python",
     "metadata": {},
     "outputs": [],
     "prompt_number": 4
    },
    {
     "cell_type": "code",
     "collapsed": false,
     "input": [
      "import django\n",
      "django.setup()\n",
      "from hello.models import Organ\n",
      "o = Organ(4, \"liver\", \"181268008\")\n",
      "o.save()"
     ],
     "language": "python",
     "metadata": {},
     "outputs": [],
     "prompt_number": 2
    },
    {
     "cell_type": "code",
     "collapsed": false,
     "input": [
      "import django\n",
      "django.setup()\n",
      "import os\n",
      "from hello.models import Body_Point\n",
      "print Body_Point.objects.all()[7].name\n",
      "\n"
     ],
     "language": "python",
     "metadata": {},
     "outputs": [
      {
       "output_type": "stream",
       "stream": "stdout",
       "text": [
        "pelvis\n"
       ]
      }
     ],
     "prompt_number": 4
    },
    {
     "cell_type": "code",
     "collapsed": false,
     "input": [
      "import django\n",
      "django.setup()\n",
      "import os\n",
      "from hello.models import Body_Point\n",
      "bp =  Body_Point.objects.filter(id=3)[0]\n",
      "print bp.specialties"
     ],
     "language": "python",
     "metadata": {},
     "outputs": [
      {
       "ename": "StopIteration",
       "evalue": "",
       "output_type": "pyerr",
       "traceback": [
        "\u001b[0;31m---------------------------------------------------------------------------\u001b[0m\n\u001b[0;31mStopIteration\u001b[0m                             Traceback (most recent call last)",
        "\u001b[0;32m<ipython-input-10-ce1f42c7eda9>\u001b[0m in \u001b[0;36m<module>\u001b[0;34m()\u001b[0m\n\u001b[1;32m      4\u001b[0m \u001b[0;32mfrom\u001b[0m \u001b[0mhello\u001b[0m\u001b[0;34m.\u001b[0m\u001b[0mmodels\u001b[0m \u001b[0;32mimport\u001b[0m \u001b[0mBody_Point\u001b[0m\u001b[0;34m\u001b[0m\u001b[0m\n\u001b[1;32m      5\u001b[0m \u001b[0mbp\u001b[0m \u001b[0;34m=\u001b[0m  \u001b[0mBody_Point\u001b[0m\u001b[0;34m.\u001b[0m\u001b[0mobjects\u001b[0m\u001b[0;34m.\u001b[0m\u001b[0mfilter\u001b[0m\u001b[0;34m(\u001b[0m\u001b[0mid\u001b[0m\u001b[0;34m=\u001b[0m\u001b[0;36m3\u001b[0m\u001b[0;34m)\u001b[0m\u001b[0;34m[\u001b[0m\u001b[0;36m0\u001b[0m\u001b[0;34m]\u001b[0m\u001b[0;34m\u001b[0m\u001b[0m\n\u001b[0;32m----> 6\u001b[0;31m \u001b[0;32mprint\u001b[0m \u001b[0mbp\u001b[0m\u001b[0;34m.\u001b[0m\u001b[0mspecialties\u001b[0m\u001b[0;34m\u001b[0m\u001b[0m\n\u001b[0m",
        "\u001b[0;32m/Users/andrewbishara/Desktop/website_medical_visual/python-getting-started/venv/lib/python2.7/site-packages/django/utils/encoding.pyc\u001b[0m in \u001b[0;36m<lambda>\u001b[0;34m(self)\u001b[0m\n\u001b[1;32m     36\u001b[0m                              klass.__name__)\n\u001b[1;32m     37\u001b[0m         \u001b[0mklass\u001b[0m\u001b[0;34m.\u001b[0m\u001b[0m__unicode__\u001b[0m \u001b[0;34m=\u001b[0m \u001b[0mklass\u001b[0m\u001b[0;34m.\u001b[0m\u001b[0m__str__\u001b[0m\u001b[0;34m\u001b[0m\u001b[0m\n\u001b[0;32m---> 38\u001b[0;31m         \u001b[0mklass\u001b[0m\u001b[0;34m.\u001b[0m\u001b[0m__str__\u001b[0m \u001b[0;34m=\u001b[0m \u001b[0;32mlambda\u001b[0m \u001b[0mself\u001b[0m\u001b[0;34m:\u001b[0m \u001b[0mself\u001b[0m\u001b[0;34m.\u001b[0m\u001b[0m__unicode__\u001b[0m\u001b[0;34m(\u001b[0m\u001b[0;34m)\u001b[0m\u001b[0;34m.\u001b[0m\u001b[0mencode\u001b[0m\u001b[0;34m(\u001b[0m\u001b[0;34m'utf-8'\u001b[0m\u001b[0;34m)\u001b[0m\u001b[0;34m\u001b[0m\u001b[0m\n\u001b[0m\u001b[1;32m     39\u001b[0m     \u001b[0;32mreturn\u001b[0m \u001b[0mklass\u001b[0m\u001b[0;34m\u001b[0m\u001b[0m\n\u001b[1;32m     40\u001b[0m \u001b[0;34m\u001b[0m\u001b[0m\n",
        "\u001b[0;32m/Users/andrewbishara/Desktop/website_medical_visual/python-getting-started/venv/lib/python2.7/site-packages/django/db/models/manager.pyc\u001b[0m in \u001b[0;36m__str__\u001b[0;34m(self)\u001b[0m\n\u001b[1;32m     79\u001b[0m         \u001b[0mapp\u001b[0m \u001b[0;34m=\u001b[0m \u001b[0mmodel\u001b[0m\u001b[0;34m.\u001b[0m\u001b[0m_meta\u001b[0m\u001b[0;34m.\u001b[0m\u001b[0mapp_label\u001b[0m\u001b[0;34m\u001b[0m\u001b[0m\n\u001b[1;32m     80\u001b[0m         manager_name = next(name for (_, name, manager)\n\u001b[0;32m---> 81\u001b[0;31m             \u001b[0;32min\u001b[0m \u001b[0mopts\u001b[0m\u001b[0;34m.\u001b[0m\u001b[0mconcrete_managers\u001b[0m \u001b[0;34m+\u001b[0m \u001b[0mopts\u001b[0m\u001b[0;34m.\u001b[0m\u001b[0mabstract_managers\u001b[0m\u001b[0;34m\u001b[0m\u001b[0m\n\u001b[0m\u001b[1;32m     82\u001b[0m             if manager == self)\n\u001b[1;32m     83\u001b[0m         \u001b[0;32mreturn\u001b[0m \u001b[0;34m'%s.%s.%s'\u001b[0m \u001b[0;34m%\u001b[0m \u001b[0;34m(\u001b[0m\u001b[0mapp\u001b[0m\u001b[0;34m,\u001b[0m \u001b[0mmodel\u001b[0m\u001b[0;34m.\u001b[0m\u001b[0m_meta\u001b[0m\u001b[0;34m.\u001b[0m\u001b[0mobject_name\u001b[0m\u001b[0;34m,\u001b[0m \u001b[0mmanager_name\u001b[0m\u001b[0;34m)\u001b[0m\u001b[0;34m\u001b[0m\u001b[0m\n",
        "\u001b[0;31mStopIteration\u001b[0m: "
       ]
      }
     ],
     "prompt_number": 10
    },
    {
     "cell_type": "code",
     "collapsed": false,
     "input": [],
     "language": "python",
     "metadata": {},
     "outputs": []
    }
   ],
   "metadata": {}
  }
 ]
}
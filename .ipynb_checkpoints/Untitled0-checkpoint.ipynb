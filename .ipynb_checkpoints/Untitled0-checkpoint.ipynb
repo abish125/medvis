{
 "metadata": {
  "name": "",
  "signature": "sha256:edcc49663eb91d042d074e55e1eb3d21ce26cb2c370238340203e068e0f70523"
 },
 "nbformat": 3,
 "nbformat_minor": 0,
 "worksheets": [
  {
   "cells": [
    {
     "cell_type": "code",
     "collapsed": false,
     "input": [
      "from hello.models import Body_Point\n",
      "for b in Body_Point.objects.all():\n",
      "    print b.name"
     ],
     "language": "python",
     "metadata": {},
     "outputs": [
      {
       "output_type": "stream",
       "stream": "stdout",
       "text": [
        "head\n"
       ]
      }
     ],
     "prompt_number": 4
    },
    {
     "cell_type": "code",
     "collapsed": false,
     "input": [],
     "language": "python",
     "metadata": {},
     "outputs": []
    }
   ],
   "metadata": {}
  }
 ]
}
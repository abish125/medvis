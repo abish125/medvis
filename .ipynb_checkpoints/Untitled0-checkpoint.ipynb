{
 "metadata": {
  "name": "",
  "signature": "sha256:e88c69bdab8992223146172c8892d74240b94a5ccedd12f85fc7d07308b35c94"
 },
 "nbformat": 3,
 "nbformat_minor": 0,
 "worksheets": [
  {
   "cells": [
    {
     "cell_type": "code",
     "collapsed": false,
     "input": [
      "import django\n",
      "django.setup()\n",
      "from hello.models import Body_Point\n",
      "for b in Body_Point.objects.all():\n",
      "    print b.organs.all()[0].name"
     ],
     "language": "python",
     "metadata": {},
     "outputs": [
      {
       "output_type": "stream",
       "stream": "stdout",
       "text": [
        "[<Organ: Organ object>]\n",
        "[]\n",
        "[]"
       ]
      },
      {
       "output_type": "stream",
       "stream": "stdout",
       "text": [
        "\n",
        "[]\n",
        "[]"
       ]
      },
      {
       "output_type": "stream",
       "stream": "stdout",
       "text": [
        "\n",
        "[]"
       ]
      },
      {
       "output_type": "stream",
       "stream": "stdout",
       "text": [
        "\n",
        "[]"
       ]
      },
      {
       "output_type": "stream",
       "stream": "stdout",
       "text": [
        "\n",
        "[]\n"
       ]
      }
     ],
     "prompt_number": 2
    },
    {
     "cell_type": "code",
     "collapsed": false,
     "input": [
      "import django\n",
      "django.setup()\n",
      "import os\n",
      "from hello.models import Body_Point\n",
      "\n",
      "print os.getcwd()\n",
      "f = open(\"gettingstarted/media/body_part.csv\")\n",
      "rows = str(f.readlines()[0]).split('\\r')\n",
      "for row in rows[2:]:\n",
      "    cells = row.split(',')\n",
      "    print int(cells[0]), cells[1], cells[2], float(cells[3]), float(cells[4]), float(cells[5])\n",
      "    bp = Body_Point(int(cells[0]), cells[1], cells[2], float(cells[3]), float(cells[4]), float(cells[5]))\n",
      "    bp.save()\n",
      "    \n",
      "for b in  Body_Point.objects.all():\n",
      "    print b.name"
     ],
     "language": "python",
     "metadata": {},
     "outputs": [
      {
       "output_type": "stream",
       "stream": "stdout",
       "text": [
        "/Users/andrewbishara/Desktop/website_medical_visual/python-getting-started\n",
        "2 chest 51185008 0.0 3.5 0.0\n",
        "3"
       ]
      },
      {
       "output_type": "stream",
       "stream": "stdout",
       "text": [
        " heart 80891009 1.0 3.0 1.0\n",
        "4"
       ]
      },
      {
       "output_type": "stream",
       "stream": "stdout",
       "text": [
        " left hand 85151006 4.0 0.0 0.0\n",
        "5"
       ]
      },
      {
       "output_type": "stream",
       "stream": "stdout",
       "text": [
        " right hand 78791008 -4.0 0.0 0.0\n",
        "6"
       ]
      },
      {
       "output_type": "stream",
       "stream": "stdout",
       "text": [
        " right foot 7769000 -2.5 -5.0 0.0\n",
        "7"
       ]
      },
      {
       "output_type": "stream",
       "stream": "stdout",
       "text": [
        " left foot 22335008 2.5 -5.0 0.0\n",
        "8"
       ]
      },
      {
       "output_type": "stream",
       "stream": "stdout",
       "text": [
        " pelvis 12921003 0.0 0.5 0.0\n",
        "head"
       ]
      },
      {
       "output_type": "stream",
       "stream": "stdout",
       "text": [
        "\n",
        "chest\n",
        "heart\n",
        "left hand\n",
        "right hand\n",
        "right foot\n",
        "left foot\n",
        "pelvis\n"
       ]
      }
     ],
     "prompt_number": 3
    },
    {
     "cell_type": "code",
     "collapsed": false,
     "input": [
      "import django\n",
      "django.setup()\n",
      "import os\n",
      "from hello.models import Organ\n",
      "\n",
      "print os.getcwd()\n",
      "f = open(\"gettingstarted/media/organ.csv\")\n",
      "rows = str(f.readlines()[0]).split('\\r')\n",
      "for row in rows[1:]:\n",
      "    cells = row.split(',')\n",
      "    print int(cells[0]), cells[1], cells[2]\n",
      "    bp = Organ(int(cells[0]), cells[1], cells[2])\n",
      "    bp.save()\n",
      "    \n",
      "for b in  Organ.objects.all():\n",
      "    print b.name"
     ],
     "language": "python",
     "metadata": {},
     "outputs": [
      {
       "output_type": "stream",
       "stream": "stdout",
       "text": [
        "/Users/andrewbishara/Desktop/website_medical_visual/python-getting-started\n",
        "1 heart 302509004\n",
        "2"
       ]
      },
      {
       "output_type": "stream",
       "stream": "stdout",
       "text": [
        " brain 258335003\n",
        "heart"
       ]
      },
      {
       "output_type": "stream",
       "stream": "stdout",
       "text": [
        "\n",
        "brain\n"
       ]
      }
     ],
     "prompt_number": 2
    },
    {
     "cell_type": "code",
     "collapsed": false,
     "input": [
      "import django\n",
      "django.setup()\n",
      "import os\n",
      "from hello.models import Specialty\n",
      "\n",
      "print os.getcwd()\n",
      "f = open(\"gettingstarted/media/specialty.csv\")\n",
      "rows = str(f.readlines()[0]).split('\\r')\n",
      "for row in rows[1:]:\n",
      "    cells = row.split(',')\n",
      "    print int(cells[0]), cells[1]\n",
      "    bp = Specialty(int(cells[0]), cells[1])\n",
      "    bp.save()\n",
      "    \n",
      "for b in  Specialty.objects.all():\n",
      "    print b.name"
     ],
     "language": "python",
     "metadata": {},
     "outputs": [
      {
       "output_type": "stream",
       "stream": "stdout",
       "text": [
        "/Users/andrewbishara/Desktop/website_medical_visual/python-getting-started\n",
        "1 cardiology\n",
        "2"
       ]
      },
      {
       "output_type": "stream",
       "stream": "stdout",
       "text": [
        " pulmonology\n",
        "3"
       ]
      },
      {
       "output_type": "stream",
       "stream": "stdout",
       "text": [
        " neurology\n",
        "4"
       ]
      },
      {
       "output_type": "stream",
       "stream": "stdout",
       "text": [
        " anesthesiology\n",
        "5"
       ]
      },
      {
       "output_type": "stream",
       "stream": "stdout",
       "text": [
        " rheumatology\n",
        "6"
       ]
      },
      {
       "output_type": "stream",
       "stream": "stdout",
       "text": [
        " general surgery\n",
        "7"
       ]
      },
      {
       "output_type": "stream",
       "stream": "stdout",
       "text": [
        " dermatology\n",
        "8"
       ]
      },
      {
       "output_type": "stream",
       "stream": "stdout",
       "text": [
        " pathology\n",
        "9"
       ]
      },
      {
       "output_type": "stream",
       "stream": "stdout",
       "text": [
        " radiology\n",
        "10"
       ]
      },
      {
       "output_type": "stream",
       "stream": "stdout",
       "text": [
        " Neurosurgery\n",
        "cardiology"
       ]
      },
      {
       "output_type": "stream",
       "stream": "stdout",
       "text": [
        "\n",
        "pulmonology\n",
        "neurology\n",
        "anesthesiology\n",
        "rheumatology\n",
        "general surgery\n",
        "dermatology\n",
        "pathology\n",
        "radiology\n",
        "Neurosurgery\n"
       ]
      }
     ],
     "prompt_number": 3
    },
    {
     "cell_type": "code",
     "collapsed": false,
     "input": [
      "o = Organ(3, \"kidney\", \"181414000\")\n",
      "o.save()"
     ],
     "language": "python",
     "metadata": {},
     "outputs": [],
     "prompt_number": 4
    },
    {
     "cell_type": "code",
     "collapsed": false,
     "input": [],
     "language": "python",
     "metadata": {},
     "outputs": []
    }
   ],
   "metadata": {}
  }
 ]
}